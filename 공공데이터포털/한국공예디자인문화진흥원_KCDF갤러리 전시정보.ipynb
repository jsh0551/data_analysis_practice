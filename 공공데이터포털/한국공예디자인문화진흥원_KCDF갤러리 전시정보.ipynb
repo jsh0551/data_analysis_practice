{
 "cells": [
  {
   "cell_type": "code",
   "execution_count": 31,
   "metadata": {},
   "outputs": [],
   "source": [
    "import pandas as pd\n",
    "import matplotlib.pyplot as plt\n",
    "import matplotlib.colors as mcolors\n",
    "import seaborn as sns\n",
    "import numpy as np\n",
    "import glob\n",
    "from datetime import datetime,timedelta\n",
    "import re\n",
    "from wordcloud import WordCloud\n",
    "from PIL import Image\n",
    "from collections import Counter\n",
    "\n",
    "import warnings\n",
    "warnings.filterwarnings('ignore')"
   ]
  },
  {
   "cell_type": "code",
   "execution_count": 41,
   "metadata": {},
   "outputs": [],
   "source": [
    "plt.rcParams['font.family']=['NanumGothic', 'sans-serif']\n",
    "plt.rcParams['axes.unicode_minus'] = False"
   ]
  },
  {
   "cell_type": "code",
   "execution_count": 42,
   "metadata": {},
   "outputs": [
    {
     "data": {
      "text/plain": [
       "['G:\\\\내 드라이브\\\\Colab Notebooks\\\\데이터분석\\\\.data\\\\공공데이터포털\\\\한국공예디자인문화진흥원_KCDF갤러리 전시정보\\\\한국공예디자인문화진흥원_KCDF갤러리 전시정보_20220502.csv']"
      ]
     },
     "execution_count": 42,
     "metadata": {},
     "output_type": "execute_result"
    }
   ],
   "source": [
    "files = glob.glob('G:\\내 드라이브\\Colab Notebooks\\데이터분석\\.data\\공공데이터포털\\한국공예디자인문화진흥원_KCDF갤러리 전시정보\\*')\n",
    "files"
   ]
  },
  {
   "cell_type": "code",
   "execution_count": 43,
   "metadata": {},
   "outputs": [
    {
     "data": {
      "text/html": [
       "<div>\n",
       "<style scoped>\n",
       "    .dataframe tbody tr th:only-of-type {\n",
       "        vertical-align: middle;\n",
       "    }\n",
       "\n",
       "    .dataframe tbody tr th {\n",
       "        vertical-align: top;\n",
       "    }\n",
       "\n",
       "    .dataframe thead th {\n",
       "        text-align: right;\n",
       "    }\n",
       "</style>\n",
       "<table border=\"1\" class=\"dataframe\">\n",
       "  <thead>\n",
       "    <tr style=\"text-align: right;\">\n",
       "      <th></th>\n",
       "      <th>전시명</th>\n",
       "      <th>전시시작일</th>\n",
       "      <th>전시완료일</th>\n",
       "      <th>전시관</th>\n",
       "      <th>전시작가단체명</th>\n",
       "    </tr>\n",
       "  </thead>\n",
       "  <tbody>\n",
       "    <tr>\n",
       "      <th>0</th>\n",
       "      <td>11회 옻빛전</td>\n",
       "      <td>2017-11-29</td>\n",
       "      <td>2017-12-05</td>\n",
       "      <td>KCDF 갤러리 : 1전시관</td>\n",
       "      <td>옻빛회</td>\n",
       "    </tr>\n",
       "    <tr>\n",
       "      <th>1</th>\n",
       "      <td>108 베 - 한국의 베, 삼베</td>\n",
       "      <td>2016-09-21</td>\n",
       "      <td>2016-09-27</td>\n",
       "      <td>KCDF 갤러리 : 1전시관</td>\n",
       "      <td>작가</td>\n",
       "    </tr>\n",
       "    <tr>\n",
       "      <th>2</th>\n",
       "      <td>2017 색, 그리고  이야기</td>\n",
       "      <td>2017-07-05</td>\n",
       "      <td>2017-07-11</td>\n",
       "      <td>KCDF 갤러리 : 2전시관</td>\n",
       "      <td>한국천연염색작가협회</td>\n",
       "    </tr>\n",
       "    <tr>\n",
       "      <th>3</th>\n",
       "      <td>2018 북악도예가회전 ‘One of a Kind’</td>\n",
       "      <td>2018-11-14</td>\n",
       "      <td>2018-11-20</td>\n",
       "      <td>KCDF 갤러리 : 2전시관</td>\n",
       "      <td>북악도예가회</td>\n",
       "    </tr>\n",
       "    <tr>\n",
       "      <th>4</th>\n",
       "      <td>2019년 색색인화(色色人花)展</td>\n",
       "      <td>2019-10-16</td>\n",
       "      <td>2019-10-22</td>\n",
       "      <td>KCDF 갤러리 : 2전시관</td>\n",
       "      <td>원광디지털대학교 한국복식과학학과</td>\n",
       "    </tr>\n",
       "  </tbody>\n",
       "</table>\n",
       "</div>"
      ],
      "text/plain": [
       "                            전시명       전시시작일       전시완료일              전시관  \\\n",
       "0                       11회 옻빛전  2017-11-29  2017-12-05  KCDF 갤러리 : 1전시관   \n",
       "1             108 베 - 한국의 베, 삼베  2016-09-21  2016-09-27  KCDF 갤러리 : 1전시관   \n",
       "2              2017 색, 그리고  이야기  2017-07-05  2017-07-11  KCDF 갤러리 : 2전시관   \n",
       "3  2018 북악도예가회전 ‘One of a Kind’  2018-11-14  2018-11-20  KCDF 갤러리 : 2전시관   \n",
       "4             2019년 색색인화(色色人花)展  2019-10-16  2019-10-22  KCDF 갤러리 : 2전시관   \n",
       "\n",
       "             전시작가단체명  \n",
       "0                옻빛회  \n",
       "1                 작가  \n",
       "2         한국천연염색작가협회  \n",
       "3             북악도예가회  \n",
       "4  원광디지털대학교 한국복식과학학과  "
      ]
     },
     "execution_count": 43,
     "metadata": {},
     "output_type": "execute_result"
    }
   ],
   "source": [
    "df = pd.read_csv(files[0],encoding='cp949')\n",
    "df.head()"
   ]
  },
  {
   "cell_type": "code",
   "execution_count": 44,
   "metadata": {},
   "outputs": [
    {
     "name": "stdout",
     "output_type": "stream",
     "text": [
      "<class 'pandas.core.frame.DataFrame'>\n",
      "RangeIndex: 38 entries, 0 to 37\n",
      "Data columns (total 5 columns):\n",
      " #   Column   Non-Null Count  Dtype \n",
      "---  ------   --------------  ----- \n",
      " 0   전시명      38 non-null     object\n",
      " 1   전시시작일    38 non-null     object\n",
      " 2   전시완료일    38 non-null     object\n",
      " 3   전시관      38 non-null     object\n",
      " 4   전시작가단체명  38 non-null     object\n",
      "dtypes: object(5)\n",
      "memory usage: 1.6+ KB\n"
     ]
    }
   ],
   "source": [
    "df.info()"
   ]
  },
  {
   "cell_type": "code",
   "execution_count": 45,
   "metadata": {},
   "outputs": [
    {
     "data": {
      "text/html": [
       "<div>\n",
       "<style scoped>\n",
       "    .dataframe tbody tr th:only-of-type {\n",
       "        vertical-align: middle;\n",
       "    }\n",
       "\n",
       "    .dataframe tbody tr th {\n",
       "        vertical-align: top;\n",
       "    }\n",
       "\n",
       "    .dataframe thead th {\n",
       "        text-align: right;\n",
       "    }\n",
       "</style>\n",
       "<table border=\"1\" class=\"dataframe\">\n",
       "  <thead>\n",
       "    <tr style=\"text-align: right;\">\n",
       "      <th></th>\n",
       "      <th>전시명</th>\n",
       "      <th>전시시작일</th>\n",
       "      <th>전시완료일</th>\n",
       "      <th>전시관</th>\n",
       "      <th>전시작가단체명</th>\n",
       "    </tr>\n",
       "  </thead>\n",
       "  <tbody>\n",
       "    <tr>\n",
       "      <th>count</th>\n",
       "      <td>38</td>\n",
       "      <td>38</td>\n",
       "      <td>38</td>\n",
       "      <td>38</td>\n",
       "      <td>38</td>\n",
       "    </tr>\n",
       "    <tr>\n",
       "      <th>unique</th>\n",
       "      <td>37</td>\n",
       "      <td>32</td>\n",
       "      <td>32</td>\n",
       "      <td>3</td>\n",
       "      <td>37</td>\n",
       "    </tr>\n",
       "    <tr>\n",
       "      <th>top</th>\n",
       "      <td>KCDF 공모전시(단체) 2</td>\n",
       "      <td>2017-08-30</td>\n",
       "      <td>2017-09-05</td>\n",
       "      <td>KCDF 갤러리 : 2전시관</td>\n",
       "      <td>KCDF</td>\n",
       "    </tr>\n",
       "    <tr>\n",
       "      <th>freq</th>\n",
       "      <td>2</td>\n",
       "      <td>3</td>\n",
       "      <td>3</td>\n",
       "      <td>14</td>\n",
       "      <td>2</td>\n",
       "    </tr>\n",
       "  </tbody>\n",
       "</table>\n",
       "</div>"
      ],
      "text/plain": [
       "                    전시명       전시시작일       전시완료일              전시관 전시작가단체명\n",
       "count                38          38          38               38      38\n",
       "unique               37          32          32                3      37\n",
       "top     KCDF 공모전시(단체) 2  2017-08-30  2017-09-05  KCDF 갤러리 : 2전시관    KCDF\n",
       "freq                  2           3           3               14       2"
      ]
     },
     "execution_count": 45,
     "metadata": {},
     "output_type": "execute_result"
    }
   ],
   "source": [
    "df.describe()"
   ]
  },
  {
   "cell_type": "code",
   "execution_count": 46,
   "metadata": {},
   "outputs": [],
   "source": [
    "def convert_month(x):\n",
    "    return datetime.strptime(x,'%Y-%m-%d').month\n",
    "def convert_weekday(x):\n",
    "    return datetime.strptime(x,'%Y-%m-%d').weekday()\n",
    "def convert_period(df):\n",
    "    start_date = datetime.strptime(df['전시시작일'],'%Y-%m-%d')\n",
    "    end_date = datetime.strptime(df['전시완료일'],'%Y-%m-%d')\n",
    "    return (end_date-start_date).days\n",
    "df['시작월'] = df['전시시작일'].apply(convert_month)\n",
    "df['시작요일'] = df['전시시작일'].apply(convert_weekday)\n",
    "df['완료월'] = df['전시완료일'].apply(convert_month)\n",
    "df['완료요일'] = df['전시완료일'].apply(convert_weekday)\n",
    "df['전시기간'] = df.apply(convert_period,axis=1)"
   ]
  },
  {
   "cell_type": "code",
   "execution_count": 51,
   "metadata": {},
   "outputs": [
    {
     "data": {
      "text/html": [
       "<div>\n",
       "<style scoped>\n",
       "    .dataframe tbody tr th:only-of-type {\n",
       "        vertical-align: middle;\n",
       "    }\n",
       "\n",
       "    .dataframe tbody tr th {\n",
       "        vertical-align: top;\n",
       "    }\n",
       "\n",
       "    .dataframe thead th {\n",
       "        text-align: right;\n",
       "    }\n",
       "</style>\n",
       "<table border=\"1\" class=\"dataframe\">\n",
       "  <thead>\n",
       "    <tr style=\"text-align: right;\">\n",
       "      <th></th>\n",
       "      <th>시작월</th>\n",
       "      <th>시작요일</th>\n",
       "      <th>완료월</th>\n",
       "      <th>완료요일</th>\n",
       "      <th>전시기간</th>\n",
       "    </tr>\n",
       "  </thead>\n",
       "  <tbody>\n",
       "    <tr>\n",
       "      <th>count</th>\n",
       "      <td>38.000000</td>\n",
       "      <td>38.0</td>\n",
       "      <td>38.000000</td>\n",
       "      <td>38.0</td>\n",
       "      <td>38.0</td>\n",
       "    </tr>\n",
       "    <tr>\n",
       "      <th>mean</th>\n",
       "      <td>6.921053</td>\n",
       "      <td>2.0</td>\n",
       "      <td>7.210526</td>\n",
       "      <td>1.0</td>\n",
       "      <td>6.0</td>\n",
       "    </tr>\n",
       "    <tr>\n",
       "      <th>std</th>\n",
       "      <td>3.096481</td>\n",
       "      <td>0.0</td>\n",
       "      <td>3.146494</td>\n",
       "      <td>0.0</td>\n",
       "      <td>0.0</td>\n",
       "    </tr>\n",
       "    <tr>\n",
       "      <th>min</th>\n",
       "      <td>1.000000</td>\n",
       "      <td>2.0</td>\n",
       "      <td>1.000000</td>\n",
       "      <td>1.0</td>\n",
       "      <td>6.0</td>\n",
       "    </tr>\n",
       "    <tr>\n",
       "      <th>25%</th>\n",
       "      <td>5.250000</td>\n",
       "      <td>2.0</td>\n",
       "      <td>5.250000</td>\n",
       "      <td>1.0</td>\n",
       "      <td>6.0</td>\n",
       "    </tr>\n",
       "    <tr>\n",
       "      <th>50%</th>\n",
       "      <td>8.000000</td>\n",
       "      <td>2.0</td>\n",
       "      <td>8.000000</td>\n",
       "      <td>1.0</td>\n",
       "      <td>6.0</td>\n",
       "    </tr>\n",
       "    <tr>\n",
       "      <th>75%</th>\n",
       "      <td>8.000000</td>\n",
       "      <td>2.0</td>\n",
       "      <td>9.000000</td>\n",
       "      <td>1.0</td>\n",
       "      <td>6.0</td>\n",
       "    </tr>\n",
       "    <tr>\n",
       "      <th>max</th>\n",
       "      <td>11.000000</td>\n",
       "      <td>2.0</td>\n",
       "      <td>12.000000</td>\n",
       "      <td>1.0</td>\n",
       "      <td>6.0</td>\n",
       "    </tr>\n",
       "  </tbody>\n",
       "</table>\n",
       "</div>"
      ],
      "text/plain": [
       "             시작월  시작요일        완료월  완료요일  전시기간\n",
       "count  38.000000  38.0  38.000000  38.0  38.0\n",
       "mean    6.921053   2.0   7.210526   1.0   6.0\n",
       "std     3.096481   0.0   3.146494   0.0   0.0\n",
       "min     1.000000   2.0   1.000000   1.0   6.0\n",
       "25%     5.250000   2.0   5.250000   1.0   6.0\n",
       "50%     8.000000   2.0   8.000000   1.0   6.0\n",
       "75%     8.000000   2.0   9.000000   1.0   6.0\n",
       "max    11.000000   2.0  12.000000   1.0   6.0"
      ]
     },
     "execution_count": 51,
     "metadata": {},
     "output_type": "execute_result"
    }
   ],
   "source": [
    "df.describe()"
   ]
  },
  {
   "cell_type": "code",
   "execution_count": 47,
   "metadata": {},
   "outputs": [
    {
     "data": {
      "text/html": [
       "<div>\n",
       "<style scoped>\n",
       "    .dataframe tbody tr th:only-of-type {\n",
       "        vertical-align: middle;\n",
       "    }\n",
       "\n",
       "    .dataframe tbody tr th {\n",
       "        vertical-align: top;\n",
       "    }\n",
       "\n",
       "    .dataframe thead th {\n",
       "        text-align: right;\n",
       "    }\n",
       "</style>\n",
       "<table border=\"1\" class=\"dataframe\">\n",
       "  <thead>\n",
       "    <tr style=\"text-align: right;\">\n",
       "      <th></th>\n",
       "      <th>전시명</th>\n",
       "      <th>전시시작일</th>\n",
       "      <th>전시완료일</th>\n",
       "      <th>전시관</th>\n",
       "      <th>전시작가단체명</th>\n",
       "      <th>시작월</th>\n",
       "      <th>시작요일</th>\n",
       "      <th>완료월</th>\n",
       "      <th>완료요일</th>\n",
       "      <th>전시기간</th>\n",
       "    </tr>\n",
       "  </thead>\n",
       "  <tbody>\n",
       "    <tr>\n",
       "      <th>0</th>\n",
       "      <td>11회 옻빛전</td>\n",
       "      <td>2017-11-29</td>\n",
       "      <td>2017-12-05</td>\n",
       "      <td>KCDF 갤러리 : 1전시관</td>\n",
       "      <td>옻빛회</td>\n",
       "      <td>11</td>\n",
       "      <td>2</td>\n",
       "      <td>12</td>\n",
       "      <td>1</td>\n",
       "      <td>6</td>\n",
       "    </tr>\n",
       "    <tr>\n",
       "      <th>1</th>\n",
       "      <td>108 베 - 한국의 베, 삼베</td>\n",
       "      <td>2016-09-21</td>\n",
       "      <td>2016-09-27</td>\n",
       "      <td>KCDF 갤러리 : 1전시관</td>\n",
       "      <td>작가</td>\n",
       "      <td>9</td>\n",
       "      <td>2</td>\n",
       "      <td>9</td>\n",
       "      <td>1</td>\n",
       "      <td>6</td>\n",
       "    </tr>\n",
       "    <tr>\n",
       "      <th>2</th>\n",
       "      <td>2017 색, 그리고  이야기</td>\n",
       "      <td>2017-07-05</td>\n",
       "      <td>2017-07-11</td>\n",
       "      <td>KCDF 갤러리 : 2전시관</td>\n",
       "      <td>한국천연염색작가협회</td>\n",
       "      <td>7</td>\n",
       "      <td>2</td>\n",
       "      <td>7</td>\n",
       "      <td>1</td>\n",
       "      <td>6</td>\n",
       "    </tr>\n",
       "    <tr>\n",
       "      <th>3</th>\n",
       "      <td>2018 북악도예가회전 ‘One of a Kind’</td>\n",
       "      <td>2018-11-14</td>\n",
       "      <td>2018-11-20</td>\n",
       "      <td>KCDF 갤러리 : 2전시관</td>\n",
       "      <td>북악도예가회</td>\n",
       "      <td>11</td>\n",
       "      <td>2</td>\n",
       "      <td>11</td>\n",
       "      <td>1</td>\n",
       "      <td>6</td>\n",
       "    </tr>\n",
       "    <tr>\n",
       "      <th>4</th>\n",
       "      <td>2019년 색색인화(色色人花)展</td>\n",
       "      <td>2019-10-16</td>\n",
       "      <td>2019-10-22</td>\n",
       "      <td>KCDF 갤러리 : 2전시관</td>\n",
       "      <td>원광디지털대학교 한국복식과학학과</td>\n",
       "      <td>10</td>\n",
       "      <td>2</td>\n",
       "      <td>10</td>\n",
       "      <td>1</td>\n",
       "      <td>6</td>\n",
       "    </tr>\n",
       "  </tbody>\n",
       "</table>\n",
       "</div>"
      ],
      "text/plain": [
       "                            전시명       전시시작일       전시완료일              전시관  \\\n",
       "0                       11회 옻빛전  2017-11-29  2017-12-05  KCDF 갤러리 : 1전시관   \n",
       "1             108 베 - 한국의 베, 삼베  2016-09-21  2016-09-27  KCDF 갤러리 : 1전시관   \n",
       "2              2017 색, 그리고  이야기  2017-07-05  2017-07-11  KCDF 갤러리 : 2전시관   \n",
       "3  2018 북악도예가회전 ‘One of a Kind’  2018-11-14  2018-11-20  KCDF 갤러리 : 2전시관   \n",
       "4             2019년 색색인화(色色人花)展  2019-10-16  2019-10-22  KCDF 갤러리 : 2전시관   \n",
       "\n",
       "             전시작가단체명  시작월  시작요일  완료월  완료요일  전시기간  \n",
       "0                옻빛회   11     2   12     1     6  \n",
       "1                 작가    9     2    9     1     6  \n",
       "2         한국천연염색작가협회    7     2    7     1     6  \n",
       "3             북악도예가회   11     2   11     1     6  \n",
       "4  원광디지털대학교 한국복식과학학과   10     2   10     1     6  "
      ]
     },
     "execution_count": 47,
     "metadata": {},
     "output_type": "execute_result"
    }
   ],
   "source": [
    "df.head()"
   ]
  },
  {
   "attachments": {},
   "cell_type": "markdown",
   "metadata": {},
   "source": [
    "## 시각화"
   ]
  },
  {
   "cell_type": "code",
   "execution_count": 48,
   "metadata": {},
   "outputs": [
    {
     "data": {
      "image/png": "[encoded data removed]",
      "text/plain": [
       "<Figure size 1008x360 with 2 Axes>"
      ]
     },
     "metadata": {
      "needs_background": "light"
     },
     "output_type": "display_data"
    }
   ],
   "source": [
    "sub_df1 = df.groupby('시작월',as_index=False)['전시명'].count()\n",
    "sub_df2 = df.groupby('완료월',as_index=False)['전시명'].count()\n",
    "fig,axes = plt.subplots(1,2,figsize=(14,5))\n",
    "sns.barplot(data=sub_df1,x='시작월',y='전시명',ax=axes[0]).set(title='시작월 분포',ylabel='count')\n",
    "sns.barplot(data=sub_df2,x='완료월',y='전시명',ax=axes[1]).set(title='완료월 분포',ylabel='count')\n",
    "plt.tight_layout()"
   ]
  },
  {
   "cell_type": "code",
   "execution_count": 76,
   "metadata": {},
   "outputs": [
    {
     "data": {
      "image/png": "[encoded data removed]",
      "text/plain": [
       "<Figure size 1008x360 with 2 Axes>"
      ]
     },
     "metadata": {
      "needs_background": "light"
     },
     "output_type": "display_data"
    }
   ],
   "source": [
    "sub_df1 = df.groupby('시작요일',as_index=False)['전시명'].count()\n",
    "sub_df2 = df.groupby('완료요일',as_index=False)['전시명'].count()\n",
    "weekday_dict = {0:'월',1:'화',2:'수',3:'목',4:'금',5:'토',6:'일'}\n",
    "fig,axes = plt.subplots(1,2,figsize=(14,5))\n",
    "sns.barplot(data=sub_df1,x='시작요일',y='전시명',ax=axes[0]).set(title='시작요일 분포',ylabel='count')\n",
    "sns.barplot(data=sub_df2,x='완료요일',y='전시명',ax=axes[1]).set(title='완료요일 분포',ylabel='count')\n",
    "\n",
    "axes[0].set_xticklabels([weekday_dict[int(i.get_text())] for i in axes[0].get_xticklabels()])\n",
    "axes[1].set_xticklabels([weekday_dict[int(i.get_text())] for i in axes[1].get_xticklabels()])\n",
    "plt.tight_layout()"
   ]
  },
  {
   "cell_type": "code",
   "execution_count": 79,
   "metadata": {},
   "outputs": [
    {
     "data": {
      "image/png": "[encoded data removed]",
      "text/plain": [
       "<Figure size 432x288 with 1 Axes>"
      ]
     },
     "metadata": {
      "needs_background": "light"
     },
     "output_type": "display_data"
    }
   ],
   "source": [
    "sub_df = df.groupby('전시관',as_index=False)['전시명'].count()\n",
    "plt.figure(figsize=(6,4))\n",
    "sns.barplot(data=sub_df,x='전시관',y='전시명').set(title='전시관 분포',ylabel='count')\n",
    "plt.tight_layout()"
   ]
  },
  {
   "cell_type": "code",
   "execution_count": 87,
   "metadata": {},
   "outputs": [
    {
     "data": {
      "text/plain": [
       "array(['KCDF 갤러리 : 1전시관', 'KCDF 갤러리 : 2전시관', 'KCDF 갤러리 : 3전시관'],\n",
       "      dtype=object)"
      ]
     },
     "execution_count": 87,
     "metadata": {},
     "output_type": "execute_result"
    }
   ],
   "source": [
    "sub_df['전시관'].unique()"
   ]
  },
  {
   "cell_type": "code",
   "execution_count": 92,
   "metadata": {},
   "outputs": [
    {
     "data": {
      "image/png": "[encoded data removed]",
      "text/plain": [
       "<Figure size 1512x360 with 3 Axes>"
      ]
     },
     "metadata": {
      "needs_background": "light"
     },
     "output_type": "display_data"
    }
   ],
   "source": [
    "sub_df = df.groupby(['전시관','시작월'],as_index=False)['전시명'].count()\n",
    "fig,axes = plt.subplots(1,3,figsize=(21,5))\n",
    "for i,c in enumerate(sub_df['전시관'].unique()):\n",
    "    sns.barplot(data=sub_df[sub_df['전시관']==c],x='시작월',y='전시명',ax=axes[i]).set(title='시작월 분포',ylabel='count')\n",
    "plt.tight_layout()"
   ]
  },
  {
   "cell_type": "code",
   "execution_count": null,
   "metadata": {},
   "outputs": [],
   "source": []
  }
 ],
 "metadata": {
  "kernelspec": {
   "display_name": "Python 3",
   "language": "python",
   "name": "python3"
  },
  "language_info": {
   "codemirror_mode": {
    "name": "ipython",
    "version": 3
   },
   "file_extension": ".py",
   "mimetype": "text/x-python",
   "name": "python",
   "nbconvert_exporter": "python",
   "pygments_lexer": "ipython3",
   "version": "3.8.6"
  },
  "orig_nbformat": 4,
  "vscode": {
   "interpreter": {
    "hash": "4410f3b2d65baa5768f7572e00bd3f92c8cde4189408977fd2f0d4d8fecfc7c1"
   }
  }
 },
 "nbformat": 4,
 "nbformat_minor": 2
}
