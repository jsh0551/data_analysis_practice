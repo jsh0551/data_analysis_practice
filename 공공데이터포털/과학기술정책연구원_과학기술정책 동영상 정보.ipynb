{
 "cells": [
  {
   "cell_type": "code",
   "execution_count": 1,
   "metadata": {},
   "outputs": [],
   "source": [
    "import pandas as pd\n",
    "import matplotlib.pyplot as plt\n",
    "import matplotlib.colors as mcolors\n",
    "import seaborn as sns\n",
    "import numpy as np\n",
    "import glob\n",
    "from datetime import datetime,timedelta\n",
    "import re\n",
    "from wordcloud import WordCloud\n",
    "from PIL import Image\n",
    "from collections import Counter\n",
    "\n",
    "import warnings\n",
    "warnings.filterwarnings('ignore')"
   ]
  },
  {
   "cell_type": "code",
   "execution_count": 2,
   "metadata": {},
   "outputs": [],
   "source": [
    "plt.rcParams['font.family']=['NanumGothic', 'sans-serif']\n",
    "plt.rcParams['axes.unicode_minus'] = False"
   ]
  },
  {
   "cell_type": "code",
   "execution_count": 3,
   "metadata": {},
   "outputs": [
    {
     "data": {
      "text/plain": [
       "['G:\\\\내 드라이브\\\\Colab Notebooks\\\\데이터분석\\\\.data\\\\공공데이터포털\\\\과학기술정책연구원_과학기술정책 동영상 정보\\\\과학기술정책연구원 과학기술정책 동영상..csv']"
      ]
     },
     "execution_count": 3,
     "metadata": {},
     "output_type": "execute_result"
    }
   ],
   "source": [
    "files = glob.glob('G:\\내 드라이브\\Colab Notebooks\\데이터분석\\.data\\공공데이터포털\\과학기술정책연구원_과학기술정책 동영상 정보\\*')\n",
    "files"
   ]
  },
  {
   "cell_type": "code",
   "execution_count": 4,
   "metadata": {},
   "outputs": [
    {
     "data": {
      "text/html": [
       "<div>\n",
       "<style scoped>\n",
       "    .dataframe tbody tr th:only-of-type {\n",
       "        vertical-align: middle;\n",
       "    }\n",
       "\n",
       "    .dataframe tbody tr th {\n",
       "        vertical-align: top;\n",
       "    }\n",
       "\n",
       "    .dataframe thead th {\n",
       "        text-align: right;\n",
       "    }\n",
       "</style>\n",
       "<table border=\"1\" class=\"dataframe\">\n",
       "  <thead>\n",
       "    <tr style=\"text-align: right;\">\n",
       "      <th></th>\n",
       "      <th>대분류</th>\n",
       "      <th>중분류</th>\n",
       "      <th>동영상 제목</th>\n",
       "      <th>동영상 포맷</th>\n",
       "      <th>자막 여부</th>\n",
       "      <th>키워드</th>\n",
       "      <th>동영상 파일 URL 주소</th>\n",
       "      <th>작성일자</th>\n",
       "      <th>동영상 페이지 URL</th>\n",
       "      <th>자막</th>\n",
       "    </tr>\n",
       "  </thead>\n",
       "  <tbody>\n",
       "    <tr>\n",
       "      <th>0</th>\n",
       "      <td>과학기술</td>\n",
       "      <td>과학기술일반</td>\n",
       "      <td>?[발표]제404회 과학기술정책포럼 - 중국의 혁신드라이브정책과 국가연구개발</td>\n",
       "      <td>YouTube</td>\n",
       "      <td>N</td>\n",
       "      <td>#중국#신소재#해양#기초과학#혁신드라이브#바이오</td>\n",
       "      <td>http://www.stepi.re.kr/vod/view.jsp?ntNo=782&amp;s...</td>\n",
       "      <td>2016.08.24</td>\n",
       "      <td>http://www.stepi.re.kr/vod/list.jsp</td>\n",
       "      <td>N</td>\n",
       "    </tr>\n",
       "    <tr>\n",
       "      <th>1</th>\n",
       "      <td>과학기술</td>\n",
       "      <td>과학기술일반</td>\n",
       "      <td>?[발표] 제403회 과학기술정책포럼 - 뉴프런티어 협력을 통한 한미동맹의 전환</td>\n",
       "      <td>YouTube</td>\n",
       "      <td>N</td>\n",
       "      <td>#중국#신소재#해양#기초과학#혁신드라이브#바이오</td>\n",
       "      <td>https://www.youtube.com/watch?v=-sdkR5V7ciU</td>\n",
       "      <td>2016.08.24</td>\n",
       "      <td>http://www.stepi.re.kr/vod/list.jsp</td>\n",
       "      <td>N</td>\n",
       "    </tr>\n",
       "    <tr>\n",
       "      <th>2</th>\n",
       "      <td>과학기술</td>\n",
       "      <td>과학기술일반</td>\n",
       "      <td>?[발표] 2016 STEPI 국제 심포지엄</td>\n",
       "      <td>YouTube</td>\n",
       "      <td>N</td>\n",
       "      <td>#뉴프런티어#과기포럼#한미동맹</td>\n",
       "      <td>https://www.youtube.com/watch?v=N-YRLKDTeTk</td>\n",
       "      <td>2016.08.16</td>\n",
       "      <td>http://www.stepi.re.kr/vod/list.jsp</td>\n",
       "      <td>N</td>\n",
       "    </tr>\n",
       "    <tr>\n",
       "      <th>3</th>\n",
       "      <td>과학기술</td>\n",
       "      <td>과학기술일반</td>\n",
       "      <td>?[토론] 2016 STEPI 국제 심포지엄</td>\n",
       "      <td>YouTube</td>\n",
       "      <td>N</td>\n",
       "      <td>#과기포럼#바이오헬스#정책과제</td>\n",
       "      <td>http://www.stepi.re.kr/vod/view.jsp?ntNo=780&amp;s...</td>\n",
       "      <td>2016.06.29</td>\n",
       "      <td>http://www.stepi.re.kr/vod/list.jsp</td>\n",
       "      <td>N</td>\n",
       "    </tr>\n",
       "    <tr>\n",
       "      <th>4</th>\n",
       "      <td>과학기술</td>\n",
       "      <td>과학기술일반</td>\n",
       "      <td>?[발표] 제402회 과학기술정책포럼 - 미래사회 변화를 선도할 핵심기술 : 우리사...</td>\n",
       "      <td>YouTube</td>\n",
       "      <td>N</td>\n",
       "      <td>#과기포럼#바이오헬스#정책과제</td>\n",
       "      <td>http://www.stepi.re.kr/vod/view.jsp?ntNo=779&amp;s...</td>\n",
       "      <td>2016.06.29</td>\n",
       "      <td>http://www.stepi.re.kr/vod/list.jsp</td>\n",
       "      <td>N</td>\n",
       "    </tr>\n",
       "  </tbody>\n",
       "</table>\n",
       "</div>"
      ],
      "text/plain": [
       "    대분류     중분류                                             동영상 제목   동영상 포맷  \\\n",
       "0  과학기술  과학기술일반         ?[발표]제404회 과학기술정책포럼 - 중국의 혁신드라이브정책과 국가연구개발  YouTube   \n",
       "1  과학기술  과학기술일반       ?[발표] 제403회 과학기술정책포럼 - 뉴프런티어 협력을 통한 한미동맹의 전환  YouTube   \n",
       "2  과학기술  과학기술일반                           ?[발표] 2016 STEPI 국제 심포지엄  YouTube   \n",
       "3  과학기술  과학기술일반                           ?[토론] 2016 STEPI 국제 심포지엄  YouTube   \n",
       "4  과학기술  과학기술일반  ?[발표] 제402회 과학기술정책포럼 - 미래사회 변화를 선도할 핵심기술 : 우리사...  YouTube   \n",
       "\n",
       "  자막 여부                         키워드  \\\n",
       "0     N  #중국#신소재#해양#기초과학#혁신드라이브#바이오   \n",
       "1     N  #중국#신소재#해양#기초과학#혁신드라이브#바이오   \n",
       "2     N            #뉴프런티어#과기포럼#한미동맹   \n",
       "3     N            #과기포럼#바이오헬스#정책과제   \n",
       "4     N            #과기포럼#바이오헬스#정책과제   \n",
       "\n",
       "                                       동영상 파일 URL 주소        작성일자  \\\n",
       "0  http://www.stepi.re.kr/vod/view.jsp?ntNo=782&s...  2016.08.24   \n",
       "1        https://www.youtube.com/watch?v=-sdkR5V7ciU  2016.08.24   \n",
       "2        https://www.youtube.com/watch?v=N-YRLKDTeTk  2016.08.16   \n",
       "3  http://www.stepi.re.kr/vod/view.jsp?ntNo=780&s...  2016.06.29   \n",
       "4  http://www.stepi.re.kr/vod/view.jsp?ntNo=779&s...  2016.06.29   \n",
       "\n",
       "                           동영상 페이지 URL 자막  \n",
       "0  http://www.stepi.re.kr/vod/list.jsp  N  \n",
       "1  http://www.stepi.re.kr/vod/list.jsp  N  \n",
       "2  http://www.stepi.re.kr/vod/list.jsp  N  \n",
       "3  http://www.stepi.re.kr/vod/list.jsp  N  \n",
       "4  http://www.stepi.re.kr/vod/list.jsp  N  "
      ]
     },
     "execution_count": 4,
     "metadata": {},
     "output_type": "execute_result"
    }
   ],
   "source": [
    "df = pd.read_csv(files[0],encoding='cp949')\n",
    "df.head()"
   ]
  },
  {
   "cell_type": "code",
   "execution_count": 5,
   "metadata": {},
   "outputs": [
    {
     "name": "stdout",
     "output_type": "stream",
     "text": [
      "<class 'pandas.core.frame.DataFrame'>\n",
      "RangeIndex: 762 entries, 0 to 761\n",
      "Data columns (total 10 columns):\n",
      " #   Column         Non-Null Count  Dtype \n",
      "---  ------         --------------  ----- \n",
      " 0   대분류            762 non-null    object\n",
      " 1   중분류            762 non-null    object\n",
      " 2   동영상 제목         762 non-null    object\n",
      " 3   동영상 포맷         762 non-null    object\n",
      " 4   자막 여부          762 non-null    object\n",
      " 5   키워드            762 non-null    object\n",
      " 6   동영상 파일 URL 주소  762 non-null    object\n",
      " 7   작성일자           762 non-null    object\n",
      " 8   동영상 페이지 URL    762 non-null    object\n",
      " 9   자막             762 non-null    object\n",
      "dtypes: object(10)\n",
      "memory usage: 59.7+ KB\n"
     ]
    }
   ],
   "source": [
    "df.info()"
   ]
  },
  {
   "cell_type": "code",
   "execution_count": 6,
   "metadata": {},
   "outputs": [
    {
     "data": {
      "text/html": [
       "<div>\n",
       "<style scoped>\n",
       "    .dataframe tbody tr th:only-of-type {\n",
       "        vertical-align: middle;\n",
       "    }\n",
       "\n",
       "    .dataframe tbody tr th {\n",
       "        vertical-align: top;\n",
       "    }\n",
       "\n",
       "    .dataframe thead th {\n",
       "        text-align: right;\n",
       "    }\n",
       "</style>\n",
       "<table border=\"1\" class=\"dataframe\">\n",
       "  <thead>\n",
       "    <tr style=\"text-align: right;\">\n",
       "      <th></th>\n",
       "      <th>대분류</th>\n",
       "      <th>중분류</th>\n",
       "      <th>동영상 제목</th>\n",
       "      <th>동영상 포맷</th>\n",
       "      <th>자막 여부</th>\n",
       "      <th>키워드</th>\n",
       "      <th>동영상 파일 URL 주소</th>\n",
       "      <th>작성일자</th>\n",
       "      <th>동영상 페이지 URL</th>\n",
       "      <th>자막</th>\n",
       "    </tr>\n",
       "  </thead>\n",
       "  <tbody>\n",
       "    <tr>\n",
       "      <th>count</th>\n",
       "      <td>762</td>\n",
       "      <td>762</td>\n",
       "      <td>762</td>\n",
       "      <td>762</td>\n",
       "      <td>762</td>\n",
       "      <td>762</td>\n",
       "      <td>762</td>\n",
       "      <td>762</td>\n",
       "      <td>762</td>\n",
       "      <td>762</td>\n",
       "    </tr>\n",
       "    <tr>\n",
       "      <th>unique</th>\n",
       "      <td>1</td>\n",
       "      <td>1</td>\n",
       "      <td>757</td>\n",
       "      <td>2</td>\n",
       "      <td>1</td>\n",
       "      <td>363</td>\n",
       "      <td>760</td>\n",
       "      <td>203</td>\n",
       "      <td>1</td>\n",
       "      <td>1</td>\n",
       "    </tr>\n",
       "    <tr>\n",
       "      <th>top</th>\n",
       "      <td>과학기술</td>\n",
       "      <td>과학기술일반</td>\n",
       "      <td>?Global Sharing of Existing Green Technologies...</td>\n",
       "      <td>WMV</td>\n",
       "      <td>N</td>\n",
       "      <td>#국제심포지엄#STEPI#2013</td>\n",
       "      <td>http://www.youtube.com/channel/UC5Nsv1nZdcK0uJ...</td>\n",
       "      <td>2010.11.18</td>\n",
       "      <td>http://www.stepi.re.kr/vod/list.jsp</td>\n",
       "      <td>N</td>\n",
       "    </tr>\n",
       "    <tr>\n",
       "      <th>freq</th>\n",
       "      <td>762</td>\n",
       "      <td>762</td>\n",
       "      <td>2</td>\n",
       "      <td>640</td>\n",
       "      <td>762</td>\n",
       "      <td>15</td>\n",
       "      <td>2</td>\n",
       "      <td>34</td>\n",
       "      <td>762</td>\n",
       "      <td>762</td>\n",
       "    </tr>\n",
       "  </tbody>\n",
       "</table>\n",
       "</div>"
      ],
      "text/plain": [
       "         대분류     중분류                                             동영상 제목  \\\n",
       "count    762     762                                                762   \n",
       "unique     1       1                                                757   \n",
       "top     과학기술  과학기술일반  ?Global Sharing of Existing Green Technologies...   \n",
       "freq     762     762                                                  2   \n",
       "\n",
       "       동영상 포맷 자막 여부                 키워드  \\\n",
       "count     762   762                 762   \n",
       "unique      2     1                 363   \n",
       "top       WMV     N  #국제심포지엄#STEPI#2013   \n",
       "freq      640   762                  15   \n",
       "\n",
       "                                            동영상 파일 URL 주소        작성일자  \\\n",
       "count                                                 762         762   \n",
       "unique                                                760         203   \n",
       "top     http://www.youtube.com/channel/UC5Nsv1nZdcK0uJ...  2010.11.18   \n",
       "freq                                                    2          34   \n",
       "\n",
       "                                동영상 페이지 URL   자막  \n",
       "count                                   762  762  \n",
       "unique                                    1    1  \n",
       "top     http://www.stepi.re.kr/vod/list.jsp    N  \n",
       "freq                                    762  762  "
      ]
     },
     "execution_count": 6,
     "metadata": {},
     "output_type": "execute_result"
    }
   ],
   "source": [
    "df.describe()"
   ]
  },
  {
   "attachments": {},
   "cell_type": "markdown",
   "metadata": {},
   "source": [
    "## 전처리"
   ]
  },
  {
   "cell_type": "code",
   "execution_count": 12,
   "metadata": {},
   "outputs": [],
   "source": [
    "df['키워드'] = df['키워드'].apply(lambda x : [c.strip() for c in x.split('#')[1:]])"
   ]
  },
  {
   "cell_type": "code",
   "execution_count": 85,
   "metadata": {},
   "outputs": [],
   "source": [
    "def convert_site(x):\n",
    "    if 'youtube.com' in x or 'youtu.be' in x:\n",
    "        return 'youtube'\n",
    "    else:\n",
    "        return 'stepi'\n",
    "df['동영상 파일 URL 주소'] = df['동영상 파일 URL 주소'].apply(convert_site)"
   ]
  },
  {
   "cell_type": "code",
   "execution_count": null,
   "metadata": {},
   "outputs": [],
   "source": []
  }
 ],
 "metadata": {
  "kernelspec": {
   "display_name": "Python 3",
   "language": "python",
   "name": "python3"
  },
  "language_info": {
   "codemirror_mode": {
    "name": "ipython",
    "version": 3
   },
   "file_extension": ".py",
   "mimetype": "text/x-python",
   "name": "python",
   "nbconvert_exporter": "python",
   "pygments_lexer": "ipython3",
   "version": "3.8.6"
  },
  "orig_nbformat": 4,
  "vscode": {
   "interpreter": {
    "hash": "4410f3b2d65baa5768f7572e00bd3f92c8cde4189408977fd2f0d4d8fecfc7c1"
   }
  }
 },
 "nbformat": 4,
 "nbformat_minor": 2
}
