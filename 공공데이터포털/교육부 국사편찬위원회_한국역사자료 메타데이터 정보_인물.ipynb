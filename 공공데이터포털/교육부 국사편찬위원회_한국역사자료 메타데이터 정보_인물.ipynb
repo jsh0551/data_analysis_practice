{
 "cells": [
  {
   "cell_type": "code",
   "execution_count": 1,
   "metadata": {},
   "outputs": [],
   "source": [
    "import pandas as pd\n",
    "import matplotlib.pyplot as plt\n",
    "import matplotlib.colors as mcolors\n",
    "import seaborn as sns\n",
    "import numpy as np\n",
    "import glob\n",
    "from datetime import datetime,timedelta\n",
    "import re\n",
    "\n",
    "import warnings\n",
    "warnings.filterwarnings('ignore')"
   ]
  },
  {
   "cell_type": "code",
   "execution_count": 81,
   "metadata": {},
   "outputs": [],
   "source": [
    "plt.rcParams['font.family']=['NanumGothic', 'sans-serif']\n",
    "plt.rcParams['axes.unicode_minus'] = False"
   ]
  },
  {
   "cell_type": "code",
   "execution_count": 82,
   "metadata": {},
   "outputs": [
    {
     "data": {
      "text/plain": [
       "['G:\\\\내 드라이브\\\\Colab Notebooks\\\\데이터분석\\\\.data\\\\공공데이터포털\\\\교육부 국사편찬위원회_한국역사자료 메타데이터 정보_인물\\\\교육부 국사편찬위원회_한국역사자료 메타데이터 정보_인물.csv',\n",
       " 'G:\\\\내 드라이브\\\\Colab Notebooks\\\\데이터분석\\\\.data\\\\공공데이터포털\\\\교육부 국사편찬위원회_한국역사자료 메타데이터 정보_인물\\\\교육부 국사편찬위원회_한국역사자료 메타데이터 정보_인물_컬럼정의서.xlsx']"
      ]
     },
     "execution_count": 82,
     "metadata": {},
     "output_type": "execute_result"
    }
   ],
   "source": [
    "files = glob.glob('G:\\내 드라이브\\Colab Notebooks\\데이터분석\\.data\\공공데이터포털\\교육부 국사편찬위원회_한국역사자료 메타데이터 정보_인물\\*')\n",
    "files"
   ]
  },
  {
   "cell_type": "code",
   "execution_count": 83,
   "metadata": {},
   "outputs": [
    {
     "data": {
      "text/html": [
       "<div>\n",
       "<style scoped>\n",
       "    .dataframe tbody tr th:only-of-type {\n",
       "        vertical-align: middle;\n",
       "    }\n",
       "\n",
       "    .dataframe tbody tr th {\n",
       "        vertical-align: top;\n",
       "    }\n",
       "\n",
       "    .dataframe thead th {\n",
       "        text-align: right;\n",
       "    }\n",
       "</style>\n",
       "<table border=\"1\" class=\"dataframe\">\n",
       "  <thead>\n",
       "    <tr style=\"text-align: right;\">\n",
       "      <th></th>\n",
       "      <th>통합메타데이터 ID</th>\n",
       "      <th>전문센터ID</th>\n",
       "      <th>역통 대분류</th>\n",
       "      <th>DB정보</th>\n",
       "      <th>전문센터 메타데이터</th>\n",
       "      <th>제목</th>\n",
       "      <th>대체제목</th>\n",
       "      <th>원자료의 발신자</th>\n",
       "      <th>원자료의 편찬자</th>\n",
       "      <th>원자료의 작성자</th>\n",
       "      <th>...</th>\n",
       "      <th>사건발생일</th>\n",
       "      <th>원자료생성일</th>\n",
       "      <th>원자료발행일</th>\n",
       "      <th>발행일</th>\n",
       "      <th>생성일</th>\n",
       "      <th>갱신일</th>\n",
       "      <th>연계주소</th>\n",
       "      <th>저자정렬</th>\n",
       "      <th>날짜정렬</th>\n",
       "      <th>Unnamed: 31</th>\n",
       "    </tr>\n",
       "  </thead>\n",
       "  <tbody>\n",
       "    <tr>\n",
       "      <th>0</th>\n",
       "      <td>KH.AKS_PPL.EXM_KM_5COa_0958_000001</td>\n",
       "      <td>AKS_PPL</td>\n",
       "      <td>KH.09.08.000</td>\n",
       "      <td>한국역대과거합격자</td>\n",
       "      <td>EXM_KM_5COa_0958_000001</td>\n",
       "      <td>최섬(崔暹)</td>\n",
       "      <td>고려문과|광종(光宗) 9년 무오방(戊午榜)</td>\n",
       "      <td>NaN</td>\n",
       "      <td>NaN</td>\n",
       "      <td>NaN</td>\n",
       "      <td>...</td>\n",
       "      <td>958</td>\n",
       "      <td>미상</td>\n",
       "      <td>NaN</td>\n",
       "      <td>1900-01-01 00:00:00</td>\n",
       "      <td>1900-01-01 00:00:00</td>\n",
       "      <td>2016-01-22 00:00:00</td>\n",
       "      <td>&lt;url&gt;&lt;get&gt;http://people.aks.ac.kr/front/dirSer...</td>\n",
       "      <td></td>\n",
       "      <td>958</td>\n",
       "      <td>NaN</td>\n",
       "    </tr>\n",
       "    <tr>\n",
       "      <th>1</th>\n",
       "      <td>KH.AKS_PPL.EXM_KM_5COa_0958_000002</td>\n",
       "      <td>AKS_PPL</td>\n",
       "      <td>KH.09.08.000</td>\n",
       "      <td>한국역대과거합격자</td>\n",
       "      <td>EXM_KM_5COa_0958_000002</td>\n",
       "      <td>조욱(趙昱)</td>\n",
       "      <td>고려문과|광종(光宗) 9년 무오방(戊午榜)</td>\n",
       "      <td>NaN</td>\n",
       "      <td>NaN</td>\n",
       "      <td>NaN</td>\n",
       "      <td>...</td>\n",
       "      <td>958</td>\n",
       "      <td>미상</td>\n",
       "      <td>NaN</td>\n",
       "      <td>1900-01-01 00:00:00</td>\n",
       "      <td>1900-01-01 00:00:00</td>\n",
       "      <td>2016-01-22 00:00:00</td>\n",
       "      <td>&lt;url&gt;&lt;get&gt;http://people.aks.ac.kr/front/dirSer...</td>\n",
       "      <td></td>\n",
       "      <td>958</td>\n",
       "      <td>NaN</td>\n",
       "    </tr>\n",
       "    <tr>\n",
       "      <th>2</th>\n",
       "      <td>KH.AKS_PPL.EXM_KM_5COa_0958_000003</td>\n",
       "      <td>AKS_PPL</td>\n",
       "      <td>KH.09.08.000</td>\n",
       "      <td>한국역대과거합격자</td>\n",
       "      <td>EXM_KM_5COa_0958_000003</td>\n",
       "      <td>진긍(晉兢)</td>\n",
       "      <td>고려문과|광종(光宗) 9년 무오방(戊午榜)</td>\n",
       "      <td>NaN</td>\n",
       "      <td>NaN</td>\n",
       "      <td>NaN</td>\n",
       "      <td>...</td>\n",
       "      <td>958</td>\n",
       "      <td>미상</td>\n",
       "      <td>NaN</td>\n",
       "      <td>1900-01-01 00:00:00</td>\n",
       "      <td>1900-01-01 00:00:00</td>\n",
       "      <td>2016-01-22 00:00:00</td>\n",
       "      <td>&lt;url&gt;&lt;get&gt;http://people.aks.ac.kr/front/dirSer...</td>\n",
       "      <td></td>\n",
       "      <td>958</td>\n",
       "      <td>NaN</td>\n",
       "    </tr>\n",
       "    <tr>\n",
       "      <th>3</th>\n",
       "      <td>KH.AKS_PPL.EXM_KM_5COa_0960_000003</td>\n",
       "      <td>AKS_PPL</td>\n",
       "      <td>KH.09.08.000</td>\n",
       "      <td>한국역대과거합격자</td>\n",
       "      <td>EXM_KM_5COa_0960_000003</td>\n",
       "      <td>최광범(崔光範)</td>\n",
       "      <td>고려문과|광종(光宗) 11년 경신방(庚申榜)</td>\n",
       "      <td>NaN</td>\n",
       "      <td>NaN</td>\n",
       "      <td>NaN</td>\n",
       "      <td>...</td>\n",
       "      <td>960</td>\n",
       "      <td>미상</td>\n",
       "      <td>NaN</td>\n",
       "      <td>1900-01-01 00:00:00</td>\n",
       "      <td>1900-01-01 00:00:00</td>\n",
       "      <td>2016-01-22 00:00:00</td>\n",
       "      <td>&lt;url&gt;&lt;get&gt;http://people.aks.ac.kr/front/dirSer...</td>\n",
       "      <td></td>\n",
       "      <td>960</td>\n",
       "      <td>NaN</td>\n",
       "    </tr>\n",
       "    <tr>\n",
       "      <th>4</th>\n",
       "      <td>KH.AKS_PPL.EXM_KM_5COa_0960_000004</td>\n",
       "      <td>AKS_PPL</td>\n",
       "      <td>KH.09.08.000</td>\n",
       "      <td>한국역대과거합격자</td>\n",
       "      <td>EXM_KM_5COa_0960_000004</td>\n",
       "      <td>서희(徐熙)|광윤(光允) 장위(章威)</td>\n",
       "      <td>고려문과|광종(光宗) 11년 경신방(庚申榜)</td>\n",
       "      <td>NaN</td>\n",
       "      <td>NaN</td>\n",
       "      <td>NaN</td>\n",
       "      <td>...</td>\n",
       "      <td>960</td>\n",
       "      <td>943</td>\n",
       "      <td>NaN</td>\n",
       "      <td>1900-01-01 00:00:00</td>\n",
       "      <td>1900-01-01 00:00:00</td>\n",
       "      <td>2016-01-22 00:00:00</td>\n",
       "      <td>&lt;url&gt;&lt;get&gt;http://people.aks.ac.kr/front/dirSer...</td>\n",
       "      <td></td>\n",
       "      <td>960</td>\n",
       "      <td>NaN</td>\n",
       "    </tr>\n",
       "  </tbody>\n",
       "</table>\n",
       "<p>5 rows × 32 columns</p>\n",
       "</div>"
      ],
      "text/plain": [
       "                           통합메타데이터 ID   전문센터ID        역통 대분류       DB정보  \\\n",
       "0  KH.AKS_PPL.EXM_KM_5COa_0958_000001  AKS_PPL  KH.09.08.000  한국역대과거합격자   \n",
       "1  KH.AKS_PPL.EXM_KM_5COa_0958_000002  AKS_PPL  KH.09.08.000  한국역대과거합격자   \n",
       "2  KH.AKS_PPL.EXM_KM_5COa_0958_000003  AKS_PPL  KH.09.08.000  한국역대과거합격자   \n",
       "3  KH.AKS_PPL.EXM_KM_5COa_0960_000003  AKS_PPL  KH.09.08.000  한국역대과거합격자   \n",
       "4  KH.AKS_PPL.EXM_KM_5COa_0960_000004  AKS_PPL  KH.09.08.000  한국역대과거합격자   \n",
       "\n",
       "                전문센터 메타데이터                    제목                      대체제목  \\\n",
       "0  EXM_KM_5COa_0958_000001                최섬(崔暹)   고려문과|광종(光宗) 9년 무오방(戊午榜)   \n",
       "1  EXM_KM_5COa_0958_000002                조욱(趙昱)   고려문과|광종(光宗) 9년 무오방(戊午榜)   \n",
       "2  EXM_KM_5COa_0958_000003                진긍(晉兢)   고려문과|광종(光宗) 9년 무오방(戊午榜)   \n",
       "3  EXM_KM_5COa_0960_000003              최광범(崔光範)  고려문과|광종(光宗) 11년 경신방(庚申榜)   \n",
       "4  EXM_KM_5COa_0960_000004  서희(徐熙)|광윤(光允) 장위(章威)  고려문과|광종(光宗) 11년 경신방(庚申榜)   \n",
       "\n",
       "   원자료의 발신자  원자료의 편찬자 원자료의 작성자  ... 사건발생일 원자료생성일 원자료발행일                  발행일  \\\n",
       "0       NaN       NaN      NaN  ...   958     미상    NaN  1900-01-01 00:00:00   \n",
       "1       NaN       NaN      NaN  ...   958     미상    NaN  1900-01-01 00:00:00   \n",
       "2       NaN       NaN      NaN  ...   958     미상    NaN  1900-01-01 00:00:00   \n",
       "3       NaN       NaN      NaN  ...   960     미상    NaN  1900-01-01 00:00:00   \n",
       "4       NaN       NaN      NaN  ...   960    943    NaN  1900-01-01 00:00:00   \n",
       "\n",
       "                   생성일                  갱신일  \\\n",
       "0  1900-01-01 00:00:00  2016-01-22 00:00:00   \n",
       "1  1900-01-01 00:00:00  2016-01-22 00:00:00   \n",
       "2  1900-01-01 00:00:00  2016-01-22 00:00:00   \n",
       "3  1900-01-01 00:00:00  2016-01-22 00:00:00   \n",
       "4  1900-01-01 00:00:00  2016-01-22 00:00:00   \n",
       "\n",
       "                                                연계주소  저자정렬 날짜정렬  Unnamed: 31  \n",
       "0  <url><get>http://people.aks.ac.kr/front/dirSer...        958          NaN  \n",
       "1  <url><get>http://people.aks.ac.kr/front/dirSer...        958          NaN  \n",
       "2  <url><get>http://people.aks.ac.kr/front/dirSer...        958          NaN  \n",
       "3  <url><get>http://people.aks.ac.kr/front/dirSer...        960          NaN  \n",
       "4  <url><get>http://people.aks.ac.kr/front/dirSer...        960          NaN  \n",
       "\n",
       "[5 rows x 32 columns]"
      ]
     },
     "execution_count": 83,
     "metadata": {},
     "output_type": "execute_result"
    }
   ],
   "source": [
    "meta_df = pd.read_excel(files[1],sheet_name=[0])\n",
    "df = pd.read_csv(files[0],encoding='utf-8')\n",
    "df.head()"
   ]
  },
  {
   "cell_type": "code",
   "execution_count": 84,
   "metadata": {},
   "outputs": [
    {
     "name": "stdout",
     "output_type": "stream",
     "text": [
      "<class 'pandas.core.frame.DataFrame'>\n",
      "RangeIndex: 193202 entries, 0 to 193201\n",
      "Data columns (total 32 columns):\n",
      " #   Column       Non-Null Count   Dtype  \n",
      "---  ------       --------------   -----  \n",
      " 0   통합메타데이터 ID   193202 non-null  object \n",
      " 1   전문센터ID       193202 non-null  object \n",
      " 2   역통 대분류       193202 non-null  object \n",
      " 3   DB정보         193202 non-null  object \n",
      " 4   전문센터 메타데이터   193202 non-null  object \n",
      " 5   제목           193202 non-null  object \n",
      " 6   대체제목         122795 non-null  object \n",
      " 7   원자료의 발신자     0 non-null       float64\n",
      " 8   원자료의 편찬자     0 non-null       float64\n",
      " 9   원자료의 작성자     36 non-null      object \n",
      " 10  역통 중분류       193202 non-null  object \n",
      " 11  역통 소분류       193202 non-null  object \n",
      " 12  전문센터주제분류     193202 non-null  object \n",
      " 13  자료유형         0 non-null       float64\n",
      " 14  기사레벨         193202 non-null  int64  \n",
      " 15  발행자          15053 non-null   object \n",
      " 16  파일형식         193202 non-null  object \n",
      " 17  목차           0 non-null       float64\n",
      " 18  초록           190482 non-null  object \n",
      " 19  상위자료아이디      0 non-null       float64\n",
      " 20  상위자료         0 non-null       float64\n",
      " 21  의존자료         0 non-null       float64\n",
      " 22  사건발생일        158581 non-null  object \n",
      " 23  원자료생성일       114499 non-null  object \n",
      " 24  원자료발행일       15052 non-null   object \n",
      " 25  발행일          193202 non-null  object \n",
      " 26  생성일          193202 non-null  object \n",
      " 27  갱신일          193202 non-null  object \n",
      " 28  연계주소         193202 non-null  object \n",
      " 29  저자정렬         127936 non-null  object \n",
      " 30  날짜정렬         179522 non-null  object \n",
      " 31  Unnamed: 31  0 non-null       float64\n",
      "dtypes: float64(8), int64(1), object(23)\n",
      "memory usage: 47.2+ MB\n"
     ]
    }
   ],
   "source": [
    "df.info()"
   ]
  },
  {
   "cell_type": "code",
   "execution_count": 11,
   "metadata": {},
   "outputs": [
    {
     "data": {
      "text/html": [
       "<div>\n",
       "<style scoped>\n",
       "    .dataframe tbody tr th:only-of-type {\n",
       "        vertical-align: middle;\n",
       "    }\n",
       "\n",
       "    .dataframe tbody tr th {\n",
       "        vertical-align: top;\n",
       "    }\n",
       "\n",
       "    .dataframe thead th {\n",
       "        text-align: right;\n",
       "    }\n",
       "</style>\n",
       "<table border=\"1\" class=\"dataframe\">\n",
       "  <thead>\n",
       "    <tr style=\"text-align: right;\">\n",
       "      <th></th>\n",
       "      <th>원자료의 발신자</th>\n",
       "      <th>원자료의 편찬자</th>\n",
       "      <th>자료유형</th>\n",
       "      <th>기사레벨</th>\n",
       "      <th>목차</th>\n",
       "      <th>상위자료아이디</th>\n",
       "      <th>상위자료</th>\n",
       "      <th>의존자료</th>\n",
       "      <th>Unnamed: 31</th>\n",
       "    </tr>\n",
       "  </thead>\n",
       "  <tbody>\n",
       "    <tr>\n",
       "      <th>count</th>\n",
       "      <td>0.0</td>\n",
       "      <td>0.0</td>\n",
       "      <td>0.0</td>\n",
       "      <td>193202.0</td>\n",
       "      <td>0.0</td>\n",
       "      <td>0.0</td>\n",
       "      <td>0.0</td>\n",
       "      <td>0.0</td>\n",
       "      <td>0.0</td>\n",
       "    </tr>\n",
       "    <tr>\n",
       "      <th>mean</th>\n",
       "      <td>NaN</td>\n",
       "      <td>NaN</td>\n",
       "      <td>NaN</td>\n",
       "      <td>2.0</td>\n",
       "      <td>NaN</td>\n",
       "      <td>NaN</td>\n",
       "      <td>NaN</td>\n",
       "      <td>NaN</td>\n",
       "      <td>NaN</td>\n",
       "    </tr>\n",
       "    <tr>\n",
       "      <th>std</th>\n",
       "      <td>NaN</td>\n",
       "      <td>NaN</td>\n",
       "      <td>NaN</td>\n",
       "      <td>0.0</td>\n",
       "      <td>NaN</td>\n",
       "      <td>NaN</td>\n",
       "      <td>NaN</td>\n",
       "      <td>NaN</td>\n",
       "      <td>NaN</td>\n",
       "    </tr>\n",
       "    <tr>\n",
       "      <th>min</th>\n",
       "      <td>NaN</td>\n",
       "      <td>NaN</td>\n",
       "      <td>NaN</td>\n",
       "      <td>2.0</td>\n",
       "      <td>NaN</td>\n",
       "      <td>NaN</td>\n",
       "      <td>NaN</td>\n",
       "      <td>NaN</td>\n",
       "      <td>NaN</td>\n",
       "    </tr>\n",
       "    <tr>\n",
       "      <th>25%</th>\n",
       "      <td>NaN</td>\n",
       "      <td>NaN</td>\n",
       "      <td>NaN</td>\n",
       "      <td>2.0</td>\n",
       "      <td>NaN</td>\n",
       "      <td>NaN</td>\n",
       "      <td>NaN</td>\n",
       "      <td>NaN</td>\n",
       "      <td>NaN</td>\n",
       "    </tr>\n",
       "    <tr>\n",
       "      <th>50%</th>\n",
       "      <td>NaN</td>\n",
       "      <td>NaN</td>\n",
       "      <td>NaN</td>\n",
       "      <td>2.0</td>\n",
       "      <td>NaN</td>\n",
       "      <td>NaN</td>\n",
       "      <td>NaN</td>\n",
       "      <td>NaN</td>\n",
       "      <td>NaN</td>\n",
       "    </tr>\n",
       "    <tr>\n",
       "      <th>75%</th>\n",
       "      <td>NaN</td>\n",
       "      <td>NaN</td>\n",
       "      <td>NaN</td>\n",
       "      <td>2.0</td>\n",
       "      <td>NaN</td>\n",
       "      <td>NaN</td>\n",
       "      <td>NaN</td>\n",
       "      <td>NaN</td>\n",
       "      <td>NaN</td>\n",
       "    </tr>\n",
       "    <tr>\n",
       "      <th>max</th>\n",
       "      <td>NaN</td>\n",
       "      <td>NaN</td>\n",
       "      <td>NaN</td>\n",
       "      <td>2.0</td>\n",
       "      <td>NaN</td>\n",
       "      <td>NaN</td>\n",
       "      <td>NaN</td>\n",
       "      <td>NaN</td>\n",
       "      <td>NaN</td>\n",
       "    </tr>\n",
       "  </tbody>\n",
       "</table>\n",
       "</div>"
      ],
      "text/plain": [
       "       원자료의 발신자  원자료의 편찬자  자료유형      기사레벨   목차  상위자료아이디  상위자료  의존자료  \\\n",
       "count       0.0       0.0   0.0  193202.0  0.0      0.0   0.0   0.0   \n",
       "mean        NaN       NaN   NaN       2.0  NaN      NaN   NaN   NaN   \n",
       "std         NaN       NaN   NaN       0.0  NaN      NaN   NaN   NaN   \n",
       "min         NaN       NaN   NaN       2.0  NaN      NaN   NaN   NaN   \n",
       "25%         NaN       NaN   NaN       2.0  NaN      NaN   NaN   NaN   \n",
       "50%         NaN       NaN   NaN       2.0  NaN      NaN   NaN   NaN   \n",
       "75%         NaN       NaN   NaN       2.0  NaN      NaN   NaN   NaN   \n",
       "max         NaN       NaN   NaN       2.0  NaN      NaN   NaN   NaN   \n",
       "\n",
       "       Unnamed: 31  \n",
       "count          0.0  \n",
       "mean           NaN  \n",
       "std            NaN  \n",
       "min            NaN  \n",
       "25%            NaN  \n",
       "50%            NaN  \n",
       "75%            NaN  \n",
       "max            NaN  "
      ]
     },
     "execution_count": 11,
     "metadata": {},
     "output_type": "execute_result"
    }
   ],
   "source": [
    "df.describe()"
   ]
  },
  {
   "cell_type": "code",
   "execution_count": 12,
   "metadata": {},
   "outputs": [
    {
     "data": {
      "text/html": [
       "<div>\n",
       "<style scoped>\n",
       "    .dataframe tbody tr th:only-of-type {\n",
       "        vertical-align: middle;\n",
       "    }\n",
       "\n",
       "    .dataframe tbody tr th {\n",
       "        vertical-align: top;\n",
       "    }\n",
       "\n",
       "    .dataframe thead th {\n",
       "        text-align: right;\n",
       "    }\n",
       "</style>\n",
       "<table border=\"1\" class=\"dataframe\">\n",
       "  <thead>\n",
       "    <tr style=\"text-align: right;\">\n",
       "      <th></th>\n",
       "      <th>통합메타데이터 ID</th>\n",
       "      <th>전문센터ID</th>\n",
       "      <th>역통 대분류</th>\n",
       "      <th>DB정보</th>\n",
       "      <th>전문센터 메타데이터</th>\n",
       "      <th>제목</th>\n",
       "      <th>대체제목</th>\n",
       "      <th>원자료의 작성자</th>\n",
       "      <th>역통 중분류</th>\n",
       "      <th>역통 소분류</th>\n",
       "      <th>...</th>\n",
       "      <th>초록</th>\n",
       "      <th>사건발생일</th>\n",
       "      <th>원자료생성일</th>\n",
       "      <th>원자료발행일</th>\n",
       "      <th>발행일</th>\n",
       "      <th>생성일</th>\n",
       "      <th>갱신일</th>\n",
       "      <th>연계주소</th>\n",
       "      <th>저자정렬</th>\n",
       "      <th>날짜정렬</th>\n",
       "    </tr>\n",
       "  </thead>\n",
       "  <tbody>\n",
       "    <tr>\n",
       "      <th>count</th>\n",
       "      <td>193202</td>\n",
       "      <td>193202</td>\n",
       "      <td>193202</td>\n",
       "      <td>193202</td>\n",
       "      <td>193202</td>\n",
       "      <td>193202</td>\n",
       "      <td>122795</td>\n",
       "      <td>36</td>\n",
       "      <td>193202</td>\n",
       "      <td>193202</td>\n",
       "      <td>...</td>\n",
       "      <td>190482</td>\n",
       "      <td>158581</td>\n",
       "      <td>114499</td>\n",
       "      <td>15052</td>\n",
       "      <td>193202</td>\n",
       "      <td>193202</td>\n",
       "      <td>193202</td>\n",
       "      <td>193202</td>\n",
       "      <td>127936</td>\n",
       "      <td>179522</td>\n",
       "    </tr>\n",
       "    <tr>\n",
       "      <th>unique</th>\n",
       "      <td>193202</td>\n",
       "      <td>5</td>\n",
       "      <td>7</td>\n",
       "      <td>7</td>\n",
       "      <td>193202</td>\n",
       "      <td>166253</td>\n",
       "      <td>18670</td>\n",
       "      <td>33</td>\n",
       "      <td>1</td>\n",
       "      <td>7</td>\n",
       "      <td>...</td>\n",
       "      <td>182654</td>\n",
       "      <td>25320</td>\n",
       "      <td>4398</td>\n",
       "      <td>48</td>\n",
       "      <td>82</td>\n",
       "      <td>10</td>\n",
       "      <td>7</td>\n",
       "      <td>193202</td>\n",
       "      <td>34</td>\n",
       "      <td>29026</td>\n",
       "    </tr>\n",
       "    <tr>\n",
       "      <th>top</th>\n",
       "      <td>KH.AKS_PPL.EXM_KM_5COa_0958_000001</td>\n",
       "      <td>AKS_PPL</td>\n",
       "      <td>KH.09.08.000</td>\n",
       "      <td>한국역대과거합격자</td>\n",
       "      <td>EXM_KM_5COa_0958_000001</td>\n",
       "      <td>■■■(■■■)</td>\n",
       "      <td>무과|인조(仁祖) 15년 별시(別試)</td>\n",
       "      <td>김현숙</td>\n",
       "      <td>KH.09</td>\n",
       "      <td>KH.09.08</td>\n",
       "      <td>...</td>\n",
       "      <td>본적:未詳  , 주소:미상</td>\n",
       "      <td>9999-99-99</td>\n",
       "      <td>미상</td>\n",
       "      <td>1990-99-99</td>\n",
       "      <td>1900-01-01 00:00:00</td>\n",
       "      <td>1900-01-01 00:00:00</td>\n",
       "      <td>2016-01-22 00:00:00</td>\n",
       "      <td>&lt;url&gt;&lt;get&gt;http://people.aks.ac.kr/front/dirSer...</td>\n",
       "      <td></td>\n",
       "      <td>9999-99-99</td>\n",
       "    </tr>\n",
       "    <tr>\n",
       "      <th>freq</th>\n",
       "      <td>1</td>\n",
       "      <td>122280</td>\n",
       "      <td>106551</td>\n",
       "      <td>106551</td>\n",
       "      <td>1</td>\n",
       "      <td>95</td>\n",
       "      <td>5506</td>\n",
       "      <td>3</td>\n",
       "      <td>193202</td>\n",
       "      <td>106551</td>\n",
       "      <td>...</td>\n",
       "      <td>327</td>\n",
       "      <td>5595</td>\n",
       "      <td>13325</td>\n",
       "      <td>3615</td>\n",
       "      <td>127899</td>\n",
       "      <td>127936</td>\n",
       "      <td>106551</td>\n",
       "      <td>1</td>\n",
       "      <td>127900</td>\n",
       "      <td>5603</td>\n",
       "    </tr>\n",
       "  </tbody>\n",
       "</table>\n",
       "<p>4 rows × 23 columns</p>\n",
       "</div>"
      ],
      "text/plain": [
       "                                통합메타데이터 ID   전문센터ID        역통 대분류       DB정보  \\\n",
       "count                               193202   193202        193202     193202   \n",
       "unique                              193202        5             7          7   \n",
       "top     KH.AKS_PPL.EXM_KM_5COa_0958_000001  AKS_PPL  KH.09.08.000  한국역대과거합격자   \n",
       "freq                                     1   122280        106551     106551   \n",
       "\n",
       "                     전문센터 메타데이터        제목                  대체제목 원자료의 작성자  \\\n",
       "count                    193202    193202                122795       36   \n",
       "unique                   193202    166253                 18670       33   \n",
       "top     EXM_KM_5COa_0958_000001  ■■■(■■■)  무과|인조(仁祖) 15년 별시(別試)      김현숙   \n",
       "freq                          1        95                  5506        3   \n",
       "\n",
       "        역통 중분류    역통 소분류  ...              초록       사건발생일  원자료생성일      원자료발행일  \\\n",
       "count   193202    193202  ...          190482      158581  114499       15052   \n",
       "unique       1         7  ...          182654       25320    4398          48   \n",
       "top      KH.09  KH.09.08  ...  본적:未詳  , 주소:미상  9999-99-99      미상  1990-99-99   \n",
       "freq    193202    106551  ...             327        5595   13325        3615   \n",
       "\n",
       "                        발행일                  생성일                  갱신일  \\\n",
       "count                193202               193202               193202   \n",
       "unique                   82                   10                    7   \n",
       "top     1900-01-01 00:00:00  1900-01-01 00:00:00  2016-01-22 00:00:00   \n",
       "freq                 127899               127936               106551   \n",
       "\n",
       "                                                     연계주소    저자정렬        날짜정렬  \n",
       "count                                              193202  127936      179522  \n",
       "unique                                             193202      34       29026  \n",
       "top     <url><get>http://people.aks.ac.kr/front/dirSer...          9999-99-99  \n",
       "freq                                                    1  127900        5603  \n",
       "\n",
       "[4 rows x 23 columns]"
      ]
     },
     "execution_count": 12,
     "metadata": {},
     "output_type": "execute_result"
    }
   ],
   "source": [
    "df.describe(include=np.object)"
   ]
  },
  {
   "cell_type": "code",
   "execution_count": 13,
   "metadata": {},
   "outputs": [
    {
     "data": {
      "text/plain": [
       "통합메타데이터 ID          0\n",
       "전문센터ID              0\n",
       "역통 대분류              0\n",
       "DB정보                0\n",
       "전문센터 메타데이터          0\n",
       "제목                  0\n",
       "대체제목            70407\n",
       "원자료의 발신자       193202\n",
       "원자료의 편찬자       193202\n",
       "원자료의 작성자       193166\n",
       "역통 중분류              0\n",
       "역통 소분류              0\n",
       "전문센터주제분류            0\n",
       "자료유형           193202\n",
       "기사레벨                0\n",
       "발행자            178149\n",
       "파일형식                0\n",
       "목차             193202\n",
       "초록               2720\n",
       "상위자료아이디        193202\n",
       "상위자료           193202\n",
       "의존자료           193202\n",
       "사건발생일           34621\n",
       "원자료생성일          78703\n",
       "원자료발행일         178150\n",
       "발행일                 0\n",
       "생성일                 0\n",
       "갱신일                 0\n",
       "연계주소                0\n",
       "저자정렬            65266\n",
       "날짜정렬            13680\n",
       "Unnamed: 31    193202\n",
       "dtype: int64"
      ]
     },
     "execution_count": 13,
     "metadata": {},
     "output_type": "execute_result"
    }
   ],
   "source": [
    "df.isnull().sum()"
   ]
  },
  {
   "attachments": {},
   "cell_type": "markdown",
   "metadata": {},
   "source": [
    "## 전처리"
   ]
  },
  {
   "cell_type": "code",
   "execution_count": 85,
   "metadata": {},
   "outputs": [],
   "source": [
    "df = df.drop(['원자료의 발신자','원자료의 편찬자','자료유형','기사레벨','목차','상위자료아이디','상위자료','의존자료','Unnamed: 31',\n",
    "'통합메타데이터 ID','역통 대분류','역통 중분류','초록','파일형식','사건발생일','연계주소'],axis=1)"
   ]
  },
  {
   "cell_type": "code",
   "execution_count": 86,
   "metadata": {},
   "outputs": [],
   "source": [
    "df.fillna('미상',inplace=True)"
   ]
  },
  {
   "cell_type": "code",
   "execution_count": 88,
   "metadata": {},
   "outputs": [],
   "source": [
    "df['날짜정렬'] = df['날짜정렬'].apply(lambda x:re.findall(r'([BC]*[0-9]*)',x)[0])"
   ]
  },
  {
   "cell_type": "code",
   "execution_count": 90,
   "metadata": {},
   "outputs": [],
   "source": [
    "def date_convert(x):\n",
    "    if x=='':\n",
    "        return -1\n",
    "    elif 'BC' in x:\n",
    "        return 0\n",
    "    else:\n",
    "        return int(x)\n",
    "df['날짜정렬'] = df['날짜정렬'].apply(date_convert)"
   ]
  },
  {
   "cell_type": "code",
   "execution_count": 97,
   "metadata": {},
   "outputs": [],
   "source": [
    "def to_year_month(x):\n",
    "    dat = datetime.strptime(x,'%Y-%m-%d %H:%M:%S')\n",
    "    return str(dat.year) + '-' + str(dat.month).zfill(2)\n",
    "df['발행일'] = df['발행일'].apply(to_year_month)\n",
    "df['생성일'] = df['생성일'].apply(to_year_month)\n",
    "df['갱신일'] = df['갱신일'].apply(to_year_month)"
   ]
  },
  {
   "cell_type": "code",
   "execution_count": 98,
   "metadata": {},
   "outputs": [
    {
     "data": {
      "text/html": [
       "<div>\n",
       "<style scoped>\n",
       "    .dataframe tbody tr th:only-of-type {\n",
       "        vertical-align: middle;\n",
       "    }\n",
       "\n",
       "    .dataframe tbody tr th {\n",
       "        vertical-align: top;\n",
       "    }\n",
       "\n",
       "    .dataframe thead th {\n",
       "        text-align: right;\n",
       "    }\n",
       "</style>\n",
       "<table border=\"1\" class=\"dataframe\">\n",
       "  <thead>\n",
       "    <tr style=\"text-align: right;\">\n",
       "      <th></th>\n",
       "      <th>전문센터ID</th>\n",
       "      <th>DB정보</th>\n",
       "      <th>전문센터 메타데이터</th>\n",
       "      <th>제목</th>\n",
       "      <th>대체제목</th>\n",
       "      <th>원자료의 작성자</th>\n",
       "      <th>역통 소분류</th>\n",
       "      <th>전문센터주제분류</th>\n",
       "      <th>발행자</th>\n",
       "      <th>원자료생성일</th>\n",
       "      <th>원자료발행일</th>\n",
       "      <th>발행일</th>\n",
       "      <th>생성일</th>\n",
       "      <th>갱신일</th>\n",
       "      <th>저자정렬</th>\n",
       "      <th>날짜정렬</th>\n",
       "    </tr>\n",
       "  </thead>\n",
       "  <tbody>\n",
       "    <tr>\n",
       "      <th>0</th>\n",
       "      <td>AKS_PPL</td>\n",
       "      <td>한국역대과거합격자</td>\n",
       "      <td>EXM_KM_5COa_0958_000001</td>\n",
       "      <td>최섬(崔暹)</td>\n",
       "      <td>고려문과|광종(光宗) 9년 무오방(戊午榜)</td>\n",
       "      <td>미상</td>\n",
       "      <td>KH.09.08</td>\n",
       "      <td>exm_ppl</td>\n",
       "      <td>미상</td>\n",
       "      <td>미상</td>\n",
       "      <td>미상</td>\n",
       "      <td>1900-01</td>\n",
       "      <td>1900-01</td>\n",
       "      <td>2016-01</td>\n",
       "      <td></td>\n",
       "      <td>958</td>\n",
       "    </tr>\n",
       "    <tr>\n",
       "      <th>1</th>\n",
       "      <td>AKS_PPL</td>\n",
       "      <td>한국역대과거합격자</td>\n",
       "      <td>EXM_KM_5COa_0958_000002</td>\n",
       "      <td>조욱(趙昱)</td>\n",
       "      <td>고려문과|광종(光宗) 9년 무오방(戊午榜)</td>\n",
       "      <td>미상</td>\n",
       "      <td>KH.09.08</td>\n",
       "      <td>exm_ppl</td>\n",
       "      <td>미상</td>\n",
       "      <td>미상</td>\n",
       "      <td>미상</td>\n",
       "      <td>1900-01</td>\n",
       "      <td>1900-01</td>\n",
       "      <td>2016-01</td>\n",
       "      <td></td>\n",
       "      <td>958</td>\n",
       "    </tr>\n",
       "    <tr>\n",
       "      <th>2</th>\n",
       "      <td>AKS_PPL</td>\n",
       "      <td>한국역대과거합격자</td>\n",
       "      <td>EXM_KM_5COa_0958_000003</td>\n",
       "      <td>진긍(晉兢)</td>\n",
       "      <td>고려문과|광종(光宗) 9년 무오방(戊午榜)</td>\n",
       "      <td>미상</td>\n",
       "      <td>KH.09.08</td>\n",
       "      <td>exm_ppl</td>\n",
       "      <td>미상</td>\n",
       "      <td>미상</td>\n",
       "      <td>미상</td>\n",
       "      <td>1900-01</td>\n",
       "      <td>1900-01</td>\n",
       "      <td>2016-01</td>\n",
       "      <td></td>\n",
       "      <td>958</td>\n",
       "    </tr>\n",
       "    <tr>\n",
       "      <th>3</th>\n",
       "      <td>AKS_PPL</td>\n",
       "      <td>한국역대과거합격자</td>\n",
       "      <td>EXM_KM_5COa_0960_000003</td>\n",
       "      <td>최광범(崔光範)</td>\n",
       "      <td>고려문과|광종(光宗) 11년 경신방(庚申榜)</td>\n",
       "      <td>미상</td>\n",
       "      <td>KH.09.08</td>\n",
       "      <td>exm_ppl</td>\n",
       "      <td>미상</td>\n",
       "      <td>미상</td>\n",
       "      <td>미상</td>\n",
       "      <td>1900-01</td>\n",
       "      <td>1900-01</td>\n",
       "      <td>2016-01</td>\n",
       "      <td></td>\n",
       "      <td>960</td>\n",
       "    </tr>\n",
       "    <tr>\n",
       "      <th>4</th>\n",
       "      <td>AKS_PPL</td>\n",
       "      <td>한국역대과거합격자</td>\n",
       "      <td>EXM_KM_5COa_0960_000004</td>\n",
       "      <td>서희(徐熙)|광윤(光允) 장위(章威)</td>\n",
       "      <td>고려문과|광종(光宗) 11년 경신방(庚申榜)</td>\n",
       "      <td>미상</td>\n",
       "      <td>KH.09.08</td>\n",
       "      <td>exm_ppl</td>\n",
       "      <td>미상</td>\n",
       "      <td>943</td>\n",
       "      <td>미상</td>\n",
       "      <td>1900-01</td>\n",
       "      <td>1900-01</td>\n",
       "      <td>2016-01</td>\n",
       "      <td></td>\n",
       "      <td>960</td>\n",
       "    </tr>\n",
       "  </tbody>\n",
       "</table>\n",
       "</div>"
      ],
      "text/plain": [
       "    전문센터ID       DB정보               전문센터 메타데이터                    제목  \\\n",
       "0  AKS_PPL  한국역대과거합격자  EXM_KM_5COa_0958_000001                최섬(崔暹)   \n",
       "1  AKS_PPL  한국역대과거합격자  EXM_KM_5COa_0958_000002                조욱(趙昱)   \n",
       "2  AKS_PPL  한국역대과거합격자  EXM_KM_5COa_0958_000003                진긍(晉兢)   \n",
       "3  AKS_PPL  한국역대과거합격자  EXM_KM_5COa_0960_000003              최광범(崔光範)   \n",
       "4  AKS_PPL  한국역대과거합격자  EXM_KM_5COa_0960_000004  서희(徐熙)|광윤(光允) 장위(章威)   \n",
       "\n",
       "                       대체제목 원자료의 작성자    역통 소분류 전문센터주제분류 발행자 원자료생성일 원자료발행일  \\\n",
       "0   고려문과|광종(光宗) 9년 무오방(戊午榜)       미상  KH.09.08  exm_ppl  미상     미상     미상   \n",
       "1   고려문과|광종(光宗) 9년 무오방(戊午榜)       미상  KH.09.08  exm_ppl  미상     미상     미상   \n",
       "2   고려문과|광종(光宗) 9년 무오방(戊午榜)       미상  KH.09.08  exm_ppl  미상     미상     미상   \n",
       "3  고려문과|광종(光宗) 11년 경신방(庚申榜)       미상  KH.09.08  exm_ppl  미상     미상     미상   \n",
       "4  고려문과|광종(光宗) 11년 경신방(庚申榜)       미상  KH.09.08  exm_ppl  미상    943     미상   \n",
       "\n",
       "       발행일      생성일      갱신일 저자정렬  날짜정렬  \n",
       "0  1900-01  1900-01  2016-01        958  \n",
       "1  1900-01  1900-01  2016-01        958  \n",
       "2  1900-01  1900-01  2016-01        958  \n",
       "3  1900-01  1900-01  2016-01        960  \n",
       "4  1900-01  1900-01  2016-01        960  "
      ]
     },
     "execution_count": 98,
     "metadata": {},
     "output_type": "execute_result"
    }
   ],
   "source": [
    "df.head()"
   ]
  },
  {
   "attachments": {},
   "cell_type": "markdown",
   "metadata": {},
   "source": [
    "## 시각화"
   ]
  },
  {
   "cell_type": "code",
   "execution_count": 106,
   "metadata": {},
   "outputs": [
    {
     "data": {
      "text/plain": [
       "array(['미상', '김현숙', '유하영', '정병상', '허동현', '박광석', '우성민', '김은숙', '이혜은',\n",
       "       '김기섭', '김종식', '연민수', '손승철', '배경한', '한명기', '반병률', '오병수', '임상선',\n",
       "       '김은국', '윤재운', '이종욱', '장세윤', '김상기', '박원길', '김택민', '홍성덕', '이명화',\n",
       "       '임상범', '신병주', '이준갑', '곽진오', '김민규', '조규태', '이병진'], dtype=object)"
      ]
     },
     "execution_count": 106,
     "metadata": {},
     "output_type": "execute_result"
    }
   ],
   "source": [
    "df['원자료의 작성자'].unique()"
   ]
  },
  {
   "cell_type": "code",
   "execution_count": null,
   "metadata": {},
   "outputs": [],
   "source": [
    "DB정보,원자료의 작성자,발행자,역통 소분류"
   ]
  },
  {
   "cell_type": "code",
   "execution_count": 108,
   "metadata": {},
   "outputs": [
    {
     "data": {
      "text/plain": [
       "[Text(0.5, 1.0, 'DB정보 분포'), Text(0, 0.5, 'count')]"
      ]
     },
     "execution_count": 108,
     "metadata": {},
     "output_type": "execute_result"
    },
    {
     "data": {
      "image/png": "[encoded data removed]",
      "text/plain": [
       "<Figure size 1296x360 with 1 Axes>"
      ]
     },
     "metadata": {
      "needs_background": "light"
     },
     "output_type": "display_data"
    }
   ],
   "source": [
    "sub_df = df.groupby('DB정보',as_index=False)['제목'].count().sort_values('제목',ascending=False)\n",
    "plt.figure(figsize=(18,5))\n",
    "sns.barplot(data=sub_df,x='DB정보',y='제목').set(title='DB정보 분포',ylabel='count')"
   ]
  },
  {
   "cell_type": "code",
   "execution_count": 110,
   "metadata": {},
   "outputs": [
    {
     "data": {
      "text/plain": [
       "[Text(0.5, 1.0, '원자료의 작성자 분포'), Text(0, 0.5, 'count')]"
      ]
     },
     "execution_count": 110,
     "metadata": {},
     "output_type": "execute_result"
    },
    {
     "data": {
      "image/png": "[encoded data removed]",
      "text/plain": [
       "<Figure size 1296x360 with 1 Axes>"
      ]
     },
     "metadata": {
      "needs_background": "light"
     },
     "output_type": "display_data"
    }
   ],
   "source": [
    "sub_df = df[df['원자료의 작성자']!='미상'].groupby('원자료의 작성자',as_index=False)['제목'].count().sort_values('제목',ascending=False)\n",
    "plt.figure(figsize=(18,5))\n",
    "sns.barplot(data=sub_df,x='원자료의 작성자',y='제목').set(title='원자료의 작성자 분포',ylabel='count')"
   ]
  },
  {
   "cell_type": "code",
   "execution_count": 129,
   "metadata": {},
   "outputs": [
    {
     "data": {
      "text/plain": [
       "<AxesSubplot: ylabel='제목'>"
      ]
     },
     "execution_count": 129,
     "metadata": {},
     "output_type": "execute_result"
    },
    {
     "data": {
      "image/png": "[encoded data removed]",
      "text/plain": [
       "<Figure size 504x504 with 1 Axes>"
      ]
     },
     "metadata": {},
     "output_type": "display_data"
    }
   ],
   "source": [
    "sub_df = df.groupby('발행자',as_index=False)['제목'].count().sort_values('제목',ascending=False)\n",
    "fig,ax = plt.subplots(1,1,figsize=(7,7))\n",
    "sub_df.plot.pie(y='제목',labels=sub_df['발행자'].unique(),ax=ax,autopct='%.2f%%')"
   ]
  },
  {
   "cell_type": "code",
   "execution_count": 113,
   "metadata": {},
   "outputs": [
    {
     "data": {
      "text/plain": [
       "[Text(0.5, 1.0, '역통 소분류 분포'), Text(0, 0.5, 'count')]"
      ]
     },
     "execution_count": 113,
     "metadata": {},
     "output_type": "execute_result"
    },
    {
     "data": {
      "image/png": "[encoded data removed]",
      "text/plain": [
       "<Figure size 1296x360 with 1 Axes>"
      ]
     },
     "metadata": {
      "needs_background": "light"
     },
     "output_type": "display_data"
    }
   ],
   "source": [
    "sub_df = df[df['역통 소분류']!='미상'].groupby('역통 소분류',as_index=False)['제목'].count().sort_values('제목',ascending=False)\n",
    "plt.figure(figsize=(18,5))\n",
    "sns.barplot(data=sub_df,x='역통 소분류',y='제목').set(title='역통 소분류 분포',ylabel='count')"
   ]
  },
  {
   "cell_type": "code",
   "execution_count": 130,
   "metadata": {},
   "outputs": [
    {
     "data": {
      "text/plain": [
       "[Text(0.5, 1.0, '날짜 분포')]"
      ]
     },
     "execution_count": 130,
     "metadata": {},
     "output_type": "execute_result"
    },
    {
     "data": {
      "image/png": "[encoded data removed]",
      "text/plain": [
       "<Figure size 1296x360 with 1 Axes>"
      ]
     },
     "metadata": {
      "needs_background": "light"
     },
     "output_type": "display_data"
    }
   ],
   "source": [
    "plt.figure(figsize=(18,5))\n",
    "sns.histplot(data=df[(df['날짜정렬']>-1)&(df['날짜정렬']<2023)],x='날짜정렬').set(title='날짜 분포')"
   ]
  },
  {
   "cell_type": "code",
   "execution_count": 121,
   "metadata": {},
   "outputs": [
    {
     "data": {
      "text/plain": [
       "[Text(0.5, 1.0, '발행일 분포'), Text(0, 0.5, 'count')]"
      ]
     },
     "execution_count": 121,
     "metadata": {},
     "output_type": "execute_result"
    },
    {
     "data": {
      "image/png": "[encoded data removed]",
      "text/plain": [
       "<Figure size 1296x360 with 1 Axes>"
      ]
     },
     "metadata": {
      "needs_background": "light"
     },
     "output_type": "display_data"
    }
   ],
   "source": [
    "sub_df = df.groupby('발행일',as_index=False)['제목'].count().sort_values('발행일')\n",
    "plt.figure(figsize=(18,5))\n",
    "sns.barplot(data=sub_df,x='발행일',y='제목').set(title='발행일 분포',ylabel='count')"
   ]
  },
  {
   "cell_type": "code",
   "execution_count": 120,
   "metadata": {},
   "outputs": [
    {
     "data": {
      "text/plain": [
       "[Text(0.5, 1.0, '생성일 분포'), Text(0, 0.5, 'count')]"
      ]
     },
     "execution_count": 120,
     "metadata": {},
     "output_type": "execute_result"
    },
    {
     "data": {
      "image/png": "[encoded data removed]",
      "text/plain": [
       "<Figure size 1296x360 with 1 Axes>"
      ]
     },
     "metadata": {
      "needs_background": "light"
     },
     "output_type": "display_data"
    }
   ],
   "source": [
    "sub_df = df.groupby('생성일',as_index=False)['제목'].count().sort_values('생성일')\n",
    "plt.figure(figsize=(18,5))\n",
    "sns.barplot(data=sub_df,x='생성일',y='제목').set(title='생성일 분포',ylabel='count')"
   ]
  },
  {
   "cell_type": "code",
   "execution_count": 122,
   "metadata": {},
   "outputs": [
    {
     "data": {
      "text/plain": [
       "[Text(0.5, 1.0, '갱신일 분포'), Text(0, 0.5, 'count')]"
      ]
     },
     "execution_count": 122,
     "metadata": {},
     "output_type": "execute_result"
    },
    {
     "data": {
      "image/png": "[encoded data removed]",
      "text/plain": [
       "<Figure size 1296x360 with 1 Axes>"
      ]
     },
     "metadata": {
      "needs_background": "light"
     },
     "output_type": "display_data"
    }
   ],
   "source": [
    "sub_df = df.groupby('갱신일',as_index=False)['제목'].count().sort_values('갱신일')\n",
    "plt.figure(figsize=(18,5))\n",
    "sns.barplot(data=sub_df,x='갱신일',y='제목').set(title='갱신일 분포',ylabel='count')"
   ]
  },
  {
   "cell_type": "code",
   "execution_count": null,
   "metadata": {},
   "outputs": [],
   "source": []
  }
 ],
 "metadata": {
  "kernelspec": {
   "display_name": "Python 3",
   "language": "python",
   "name": "python3"
  },
  "language_info": {
   "codemirror_mode": {
    "name": "ipython",
    "version": 3
   },
   "file_extension": ".py",
   "mimetype": "text/x-python",
   "name": "python",
   "nbconvert_exporter": "python",
   "pygments_lexer": "ipython3",
   "version": "3.8.6"
  },
  "orig_nbformat": 4,
  "vscode": {
   "interpreter": {
    "hash": "4410f3b2d65baa5768f7572e00bd3f92c8cde4189408977fd2f0d4d8fecfc7c1"
   }
  }
 },
 "nbformat": 4,
 "nbformat_minor": 2
}
