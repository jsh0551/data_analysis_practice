{
 "cells": [
  {
   "cell_type": "code",
   "execution_count": 11,
   "metadata": {},
   "outputs": [],
   "source": [
    "import pandas as pd\n",
    "import numpy as np\n",
    "import matplotlib.pyplot as plt\n",
    "import seaborn as sns\n",
    "import glob\n",
    "import time\n",
    "\n",
    "import warnings\n",
    "warnings.filterwarnings('ignore')"
   ]
  },
  {
   "cell_type": "code",
   "execution_count": 2,
   "metadata": {},
   "outputs": [],
   "source": [
    "plt.rcParams['font.family'] = ['NanumGothic','sans-serif']\n",
    "plt.rcParams['axes.unicode_minus'] = False"
   ]
  },
  {
   "cell_type": "code",
   "execution_count": 111,
   "metadata": {},
   "outputs": [
    {
     "data": {
      "text/plain": [
       "['G:\\\\내 드라이브\\\\Colab Notebooks\\\\데이터분석\\\\.data\\\\서울열린데이터광장\\\\서울시농수산식품공사 식품 판매 결과\\\\서울시농수산식품공사 식품 판매 결과.csv']"
      ]
     },
     "execution_count": 111,
     "metadata": {},
     "output_type": "execute_result"
    }
   ],
   "source": [
    "files = glob.glob('G:\\내 드라이브\\Colab Notebooks\\데이터분석\\.data\\서울열린데이터광장\\서울시농수산식품공사 식품 판매 결과\\*.csv')\n",
    "files"
   ]
  },
  {
   "cell_type": "code",
   "execution_count": 112,
   "metadata": {},
   "outputs": [
    {
     "data": {
      "text/html": [
       "<div>\n",
       "<style scoped>\n",
       "    .dataframe tbody tr th:only-of-type {\n",
       "        vertical-align: middle;\n",
       "    }\n",
       "\n",
       "    .dataframe tbody tr th {\n",
       "        vertical-align: top;\n",
       "    }\n",
       "\n",
       "    .dataframe thead th {\n",
       "        text-align: right;\n",
       "    }\n",
       "</style>\n",
       "<table border=\"1\" class=\"dataframe\">\n",
       "  <thead>\n",
       "    <tr style=\"text-align: right;\">\n",
       "      <th></th>\n",
       "      <th>거래일</th>\n",
       "      <th>품목</th>\n",
       "      <th>품종</th>\n",
       "      <th>단위</th>\n",
       "      <th>등급</th>\n",
       "      <th>가격</th>\n",
       "      <th>출하지</th>\n",
       "      <th>친환경구분(일반)</th>\n",
       "    </tr>\n",
       "  </thead>\n",
       "  <tbody>\n",
       "    <tr>\n",
       "      <th>0</th>\n",
       "      <td>2022-12-19</td>\n",
       "      <td>콩나물</td>\n",
       "      <td>콩나물 수입</td>\n",
       "      <td>3.5키로</td>\n",
       "      <td>기타</td>\n",
       "      <td>2900</td>\n",
       "      <td>중국</td>\n",
       "      <td>일반</td>\n",
       "    </tr>\n",
       "    <tr>\n",
       "      <th>1</th>\n",
       "      <td>2022-12-19</td>\n",
       "      <td>건어류 기타</td>\n",
       "      <td>건어류 기타</td>\n",
       "      <td>10키로</td>\n",
       "      <td>기타</td>\n",
       "      <td>260000</td>\n",
       "      <td>수입</td>\n",
       "      <td>일반</td>\n",
       "    </tr>\n",
       "    <tr>\n",
       "      <th>2</th>\n",
       "      <td>2022-12-19</td>\n",
       "      <td>건어류 기타</td>\n",
       "      <td>건어류 기타</td>\n",
       "      <td>10키로</td>\n",
       "      <td>기타</td>\n",
       "      <td>265000</td>\n",
       "      <td>수입</td>\n",
       "      <td>일반</td>\n",
       "    </tr>\n",
       "    <tr>\n",
       "      <th>3</th>\n",
       "      <td>2022-12-19</td>\n",
       "      <td>봉지 미역</td>\n",
       "      <td>봉지미역(상장예외)</td>\n",
       "      <td>1키로</td>\n",
       "      <td>기타</td>\n",
       "      <td>13000</td>\n",
       "      <td>전라남도 완도군</td>\n",
       "      <td>일반</td>\n",
       "    </tr>\n",
       "    <tr>\n",
       "      <th>4</th>\n",
       "      <td>2022-12-19</td>\n",
       "      <td>봉지 미역</td>\n",
       "      <td>봉지미역(상장예외)</td>\n",
       "      <td>500그람</td>\n",
       "      <td>기타</td>\n",
       "      <td>6900</td>\n",
       "      <td>전라남도 완도군</td>\n",
       "      <td>일반</td>\n",
       "    </tr>\n",
       "  </tbody>\n",
       "</table>\n",
       "</div>"
      ],
      "text/plain": [
       "          거래일      품목          품종     단위  등급      가격       출하지 친환경구분(일반)\n",
       "0  2022-12-19     콩나물      콩나물 수입  3.5키로  기타    2900        중국        일반\n",
       "1  2022-12-19  건어류 기타      건어류 기타   10키로  기타  260000        수입        일반\n",
       "2  2022-12-19  건어류 기타      건어류 기타   10키로  기타  265000        수입        일반\n",
       "3  2022-12-19   봉지 미역  봉지미역(상장예외)    1키로  기타   13000  전라남도 완도군        일반\n",
       "4  2022-12-19   봉지 미역  봉지미역(상장예외)  500그람  기타    6900  전라남도 완도군        일반"
      ]
     },
     "execution_count": 112,
     "metadata": {},
     "output_type": "execute_result"
    }
   ],
   "source": [
    "df = pd.read_csv(files[0],encoding='cp949')\n",
    "df.head()"
   ]
  },
  {
   "cell_type": "code",
   "execution_count": 113,
   "metadata": {},
   "outputs": [
    {
     "name": "stdout",
     "output_type": "stream",
     "text": [
      "<class 'pandas.core.frame.DataFrame'>\n",
      "RangeIndex: 640000 entries, 0 to 639999\n",
      "Data columns (total 8 columns):\n",
      " #   Column     Non-Null Count   Dtype \n",
      "---  ------     --------------   ----- \n",
      " 0   거래일        640000 non-null  object\n",
      " 1   품목         640000 non-null  object\n",
      " 2   품종         640000 non-null  object\n",
      " 3   단위         640000 non-null  object\n",
      " 4   등급         640000 non-null  object\n",
      " 5   가격         640000 non-null  int64 \n",
      " 6   출하지        640000 non-null  object\n",
      " 7   친환경구분(일반)  640000 non-null  object\n",
      "dtypes: int64(1), object(7)\n",
      "memory usage: 39.1+ MB\n"
     ]
    }
   ],
   "source": [
    "df.info()"
   ]
  },
  {
   "cell_type": "code",
   "execution_count": 114,
   "metadata": {},
   "outputs": [
    {
     "data": {
      "text/html": [
       "<div>\n",
       "<style scoped>\n",
       "    .dataframe tbody tr th:only-of-type {\n",
       "        vertical-align: middle;\n",
       "    }\n",
       "\n",
       "    .dataframe tbody tr th {\n",
       "        vertical-align: top;\n",
       "    }\n",
       "\n",
       "    .dataframe thead th {\n",
       "        text-align: right;\n",
       "    }\n",
       "</style>\n",
       "<table border=\"1\" class=\"dataframe\">\n",
       "  <thead>\n",
       "    <tr style=\"text-align: right;\">\n",
       "      <th></th>\n",
       "      <th>가격</th>\n",
       "    </tr>\n",
       "  </thead>\n",
       "  <tbody>\n",
       "    <tr>\n",
       "      <th>count</th>\n",
       "      <td>6.400000e+05</td>\n",
       "    </tr>\n",
       "    <tr>\n",
       "      <th>mean</th>\n",
       "      <td>3.089618e+04</td>\n",
       "    </tr>\n",
       "    <tr>\n",
       "      <th>std</th>\n",
       "      <td>6.790024e+04</td>\n",
       "    </tr>\n",
       "    <tr>\n",
       "      <th>min</th>\n",
       "      <td>6.000000e+01</td>\n",
       "    </tr>\n",
       "    <tr>\n",
       "      <th>25%</th>\n",
       "      <td>3.700000e+03</td>\n",
       "    </tr>\n",
       "    <tr>\n",
       "      <th>50%</th>\n",
       "      <td>1.070000e+04</td>\n",
       "    </tr>\n",
       "    <tr>\n",
       "      <th>75%</th>\n",
       "      <td>3.200000e+04</td>\n",
       "    </tr>\n",
       "    <tr>\n",
       "      <th>max</th>\n",
       "      <td>8.500000e+06</td>\n",
       "    </tr>\n",
       "  </tbody>\n",
       "</table>\n",
       "</div>"
      ],
      "text/plain": [
       "                 가격\n",
       "count  6.400000e+05\n",
       "mean   3.089618e+04\n",
       "std    6.790024e+04\n",
       "min    6.000000e+01\n",
       "25%    3.700000e+03\n",
       "50%    1.070000e+04\n",
       "75%    3.200000e+04\n",
       "max    8.500000e+06"
      ]
     },
     "execution_count": 114,
     "metadata": {},
     "output_type": "execute_result"
    }
   ],
   "source": [
    "df.describe()"
   ]
  },
  {
   "cell_type": "code",
   "execution_count": 115,
   "metadata": {},
   "outputs": [
    {
     "data": {
      "text/html": [
       "<div>\n",
       "<style scoped>\n",
       "    .dataframe tbody tr th:only-of-type {\n",
       "        vertical-align: middle;\n",
       "    }\n",
       "\n",
       "    .dataframe tbody tr th {\n",
       "        vertical-align: top;\n",
       "    }\n",
       "\n",
       "    .dataframe thead th {\n",
       "        text-align: right;\n",
       "    }\n",
       "</style>\n",
       "<table border=\"1\" class=\"dataframe\">\n",
       "  <thead>\n",
       "    <tr style=\"text-align: right;\">\n",
       "      <th></th>\n",
       "      <th>거래일</th>\n",
       "      <th>품목</th>\n",
       "      <th>품종</th>\n",
       "      <th>단위</th>\n",
       "      <th>등급</th>\n",
       "      <th>출하지</th>\n",
       "      <th>친환경구분(일반)</th>\n",
       "    </tr>\n",
       "  </thead>\n",
       "  <tbody>\n",
       "    <tr>\n",
       "      <th>count</th>\n",
       "      <td>640000</td>\n",
       "      <td>640000</td>\n",
       "      <td>640000</td>\n",
       "      <td>640000</td>\n",
       "      <td>640000</td>\n",
       "      <td>640000</td>\n",
       "      <td>640000</td>\n",
       "    </tr>\n",
       "    <tr>\n",
       "      <th>unique</th>\n",
       "      <td>310</td>\n",
       "      <td>223</td>\n",
       "      <td>413</td>\n",
       "      <td>380</td>\n",
       "      <td>11</td>\n",
       "      <td>467</td>\n",
       "      <td>1</td>\n",
       "    </tr>\n",
       "    <tr>\n",
       "      <th>top</th>\n",
       "      <td>2022-05-02</td>\n",
       "      <td>마늘</td>\n",
       "      <td>콩나물 수입</td>\n",
       "      <td>10키로</td>\n",
       "      <td>기타</td>\n",
       "      <td>수입</td>\n",
       "      <td>일반</td>\n",
       "    </tr>\n",
       "    <tr>\n",
       "      <th>freq</th>\n",
       "      <td>3163</td>\n",
       "      <td>74362</td>\n",
       "      <td>57504</td>\n",
       "      <td>112048</td>\n",
       "      <td>595365</td>\n",
       "      <td>228944</td>\n",
       "      <td>640000</td>\n",
       "    </tr>\n",
       "  </tbody>\n",
       "</table>\n",
       "</div>"
      ],
      "text/plain": [
       "               거래일      품목      품종      단위      등급     출하지 친환경구분(일반)\n",
       "count       640000  640000  640000  640000  640000  640000    640000\n",
       "unique         310     223     413     380      11     467         1\n",
       "top     2022-05-02      마늘  콩나물 수입    10키로      기타      수입        일반\n",
       "freq          3163   74362   57504  112048  595365  228944    640000"
      ]
     },
     "execution_count": 115,
     "metadata": {},
     "output_type": "execute_result"
    }
   ],
   "source": [
    "df.describe(include=np.object)"
   ]
  },
  {
   "attachments": {},
   "cell_type": "markdown",
   "metadata": {},
   "source": [
    "## 전처리"
   ]
  },
  {
   "cell_type": "code",
   "execution_count": 116,
   "metadata": {},
   "outputs": [],
   "source": [
    "def to_year(x):\n",
    "    return time.strptime(x,'%Y-%m-%d').tm_year\n",
    "def to_month(x):\n",
    "    return time.strptime(x,'%Y-%m-%d').tm_mon\n",
    "def to_day(x):\n",
    "    return time.strptime(x,'%Y-%m-%d').tm_mday\n",
    "def to_weekday(x):\n",
    "    return time.strptime(x,'%Y-%m-%d').tm_wday\n",
    "df['년도'] = df['거래일'].apply(to_year)\n",
    "df['월'] = df['거래일'].apply(to_month)\n",
    "df['일'] = df['거래일'].apply(to_day)\n",
    "df['요일'] = df['거래일'].apply(to_weekday)"
   ]
  },
  {
   "cell_type": "code",
   "execution_count": 117,
   "metadata": {},
   "outputs": [],
   "source": [
    "def to_unit(x):\n",
    "    if x.find('키로'):\n",
    "        return float(x[:-2])\n",
    "    elif x.find('그람'):\n",
    "        return float(x[:-2])/1000\n",
    "\n",
    "df['단위'] = df['단위'].apply(to_unit)"
   ]
  },
  {
   "cell_type": "code",
   "execution_count": 118,
   "metadata": {},
   "outputs": [],
   "source": [
    "def area(x):\n",
    "    if x.find('서울')>-1:\n",
    "        return '서울특별시'\n",
    "    elif x.find('광주광역시')>-1:\n",
    "        return '광주광역시'\n",
    "    elif x.find('부산')>-1:\n",
    "        return '부산광역시'\n",
    "    elif x.find('인천')>-1:\n",
    "        return '인천광역시'\n",
    "    elif x.find('대구')>-1:\n",
    "        return '대구광역시'\n",
    "    elif x.find('경기')>-1:\n",
    "        return '경기'\n",
    "    elif x.find('제주')>-1:\n",
    "        return '제주'\n",
    "    elif x.find('충북')>-1 or x.find('충청북도')>-1:\n",
    "        return '충북'\n",
    "    elif x.find('충남')>-1 or x.find('충청남도')>-1:\n",
    "        return '충남'\n",
    "    elif x.find('전남')>-1 or x.find('전라남도')>-1:\n",
    "        return '전남'\n",
    "    elif x.find('전북')>-1 or x.find('전라북도')>-1:\n",
    "        return '전북'\n",
    "    elif x.find('경남')>-1 or x.find('경상남도')>-1:\n",
    "        return '경남'\n",
    "    elif x.find('경북')>-1 or x.find('경상북도')>-1:\n",
    "        return '경북'\n",
    "    elif x.find('강원')>-1:\n",
    "        return '강원'\n",
    "    else:\n",
    "        return '해외'\n",
    "df['출하지'] = df['출하지'].apply(area)"
   ]
  },
  {
   "cell_type": "code",
   "execution_count": 120,
   "metadata": {},
   "outputs": [],
   "source": [
    "df.drop(['친환경구분(일반)'],axis=1,inplace=True)"
   ]
  },
  {
   "cell_type": "markdown",
   "metadata": {},
   "source": []
  },
  {
   "attachments": {},
   "cell_type": "markdown",
   "metadata": {},
   "source": [
    "## 시각화"
   ]
  },
  {
   "cell_type": "code",
   "execution_count": null,
   "metadata": {},
   "outputs": [],
   "source": []
  }
 ],
 "metadata": {
  "kernelspec": {
   "display_name": "Python 3",
   "language": "python",
   "name": "python3"
  },
  "language_info": {
   "codemirror_mode": {
    "name": "ipython",
    "version": 3
   },
   "file_extension": ".py",
   "mimetype": "text/x-python",
   "name": "python",
   "nbconvert_exporter": "python",
   "pygments_lexer": "ipython3",
   "version": "3.8.6"
  },
  "orig_nbformat": 4,
  "vscode": {
   "interpreter": {
    "hash": "4410f3b2d65baa5768f7572e00bd3f92c8cde4189408977fd2f0d4d8fecfc7c1"
   }
  }
 },
 "nbformat": 4,
 "nbformat_minor": 2
}
