{
 "cells": [
  {
   "cell_type": "code",
   "execution_count": 1,
   "metadata": {},
   "outputs": [],
   "source": [
    "import pandas as pd\n",
    "import matplotlib.pyplot as plt\n",
    "import seaborn as sns\n",
    "import numpy as np\n",
    "import glob\n",
    "from datetime import datetime,timedelta\n",
    "import re\n",
    "\n",
    "import warnings\n",
    "warnings.filterwarnings('ignore')"
   ]
  },
  {
   "cell_type": "code",
   "execution_count": 17,
   "metadata": {},
   "outputs": [],
   "source": [
    "plt.rcParams['font.family']=['NanumGothic', 'sans-serif']\n",
    "plt.rcParams['axes.unicode_minus'] = False"
   ]
  },
  {
   "cell_type": "code",
   "execution_count": 18,
   "metadata": {},
   "outputs": [
    {
     "data": {
      "text/plain": [
       "['G:\\\\내 드라이브\\\\Colab Notebooks\\\\데이터분석\\\\.data\\\\서울열린데이터광장\\\\서울시 서대문구 방문판매업 인허가 정보\\\\서울시 서대문구 방문판매업 인허가 정보.csv']"
      ]
     },
     "execution_count": 18,
     "metadata": {},
     "output_type": "execute_result"
    }
   ],
   "source": [
    "files = glob.glob('G:\\내 드라이브\\Colab Notebooks\\데이터분석\\.data\\서울열린데이터광장\\서울시 서대문구 방문판매업 인허가 정보\\*.csv')\n",
    "files"
   ]
  },
  {
   "cell_type": "code",
   "execution_count": 19,
   "metadata": {},
   "outputs": [
    {
     "data": {
      "text/html": [
       "<div>\n",
       "<style scoped>\n",
       "    .dataframe tbody tr th:only-of-type {\n",
       "        vertical-align: middle;\n",
       "    }\n",
       "\n",
       "    .dataframe tbody tr th {\n",
       "        vertical-align: top;\n",
       "    }\n",
       "\n",
       "    .dataframe thead th {\n",
       "        text-align: right;\n",
       "    }\n",
       "</style>\n",
       "<table border=\"1\" class=\"dataframe\">\n",
       "  <thead>\n",
       "    <tr style=\"text-align: right;\">\n",
       "      <th></th>\n",
       "      <th>개방자치단체코드</th>\n",
       "      <th>관리번호</th>\n",
       "      <th>인허가일자</th>\n",
       "      <th>인허가취소일자</th>\n",
       "      <th>영업상태코드</th>\n",
       "      <th>영업상태명</th>\n",
       "      <th>상세영업상태코드</th>\n",
       "      <th>상세영업상태명</th>\n",
       "      <th>폐업일자</th>\n",
       "      <th>휴업시작일자</th>\n",
       "      <th>...</th>\n",
       "      <th>최종수정일자</th>\n",
       "      <th>데이터갱신구분</th>\n",
       "      <th>데이터갱신일자</th>\n",
       "      <th>업태구분명</th>\n",
       "      <th>좌표정보(X)</th>\n",
       "      <th>좌표정보(Y)</th>\n",
       "      <th>자산규모</th>\n",
       "      <th>부채총액</th>\n",
       "      <th>자본금</th>\n",
       "      <th>판매방식명</th>\n",
       "    </tr>\n",
       "  </thead>\n",
       "  <tbody>\n",
       "    <tr>\n",
       "      <th>0</th>\n",
       "      <td>3120000</td>\n",
       "      <td>1996312010723200001</td>\n",
       "      <td>19960823</td>\n",
       "      <td>NaN</td>\n",
       "      <td>4</td>\n",
       "      <td>취소/말소/만료/정지/중지</td>\n",
       "      <td>7</td>\n",
       "      <td>직권말소</td>\n",
       "      <td>NaN</td>\n",
       "      <td>NaN</td>\n",
       "      <td>...</td>\n",
       "      <td>20130220175634</td>\n",
       "      <td>I</td>\n",
       "      <td>2018-08-31 23:59:59.0</td>\n",
       "      <td>NaN</td>\n",
       "      <td>NaN</td>\n",
       "      <td>NaN</td>\n",
       "      <td>NaN</td>\n",
       "      <td>NaN</td>\n",
       "      <td>NaN</td>\n",
       "      <td>NaN</td>\n",
       "    </tr>\n",
       "    <tr>\n",
       "      <th>1</th>\n",
       "      <td>3120000</td>\n",
       "      <td>1996312010723200004</td>\n",
       "      <td>19960830</td>\n",
       "      <td>NaN</td>\n",
       "      <td>3</td>\n",
       "      <td>폐업</td>\n",
       "      <td>3</td>\n",
       "      <td>폐업처리</td>\n",
       "      <td>20130911.0</td>\n",
       "      <td>NaN</td>\n",
       "      <td>...</td>\n",
       "      <td>20130911170953</td>\n",
       "      <td>I</td>\n",
       "      <td>2018-08-31 23:59:59.0</td>\n",
       "      <td>NaN</td>\n",
       "      <td>194297.832937</td>\n",
       "      <td>452570.312593</td>\n",
       "      <td>NaN</td>\n",
       "      <td>NaN</td>\n",
       "      <td>NaN</td>\n",
       "      <td>NaN</td>\n",
       "    </tr>\n",
       "    <tr>\n",
       "      <th>2</th>\n",
       "      <td>3120000</td>\n",
       "      <td>1996312010723200005</td>\n",
       "      <td>19961014</td>\n",
       "      <td>NaN</td>\n",
       "      <td>3</td>\n",
       "      <td>폐업</td>\n",
       "      <td>3</td>\n",
       "      <td>폐업처리</td>\n",
       "      <td>20080513.0</td>\n",
       "      <td>NaN</td>\n",
       "      <td>...</td>\n",
       "      <td>20080513141353</td>\n",
       "      <td>I</td>\n",
       "      <td>2018-08-31 23:59:59.0</td>\n",
       "      <td>NaN</td>\n",
       "      <td>NaN</td>\n",
       "      <td>NaN</td>\n",
       "      <td>NaN</td>\n",
       "      <td>NaN</td>\n",
       "      <td>NaN</td>\n",
       "      <td>NaN</td>\n",
       "    </tr>\n",
       "    <tr>\n",
       "      <th>3</th>\n",
       "      <td>3120000</td>\n",
       "      <td>1996312010723200007</td>\n",
       "      <td>19961029</td>\n",
       "      <td>NaN</td>\n",
       "      <td>3</td>\n",
       "      <td>폐업</td>\n",
       "      <td>3</td>\n",
       "      <td>폐업처리</td>\n",
       "      <td>20130902.0</td>\n",
       "      <td>NaN</td>\n",
       "      <td>...</td>\n",
       "      <td>20130902142806</td>\n",
       "      <td>I</td>\n",
       "      <td>2018-08-31 23:59:59.0</td>\n",
       "      <td>NaN</td>\n",
       "      <td>192500.456775</td>\n",
       "      <td>451806.103388</td>\n",
       "      <td>NaN</td>\n",
       "      <td>NaN</td>\n",
       "      <td>NaN</td>\n",
       "      <td>NaN</td>\n",
       "    </tr>\n",
       "    <tr>\n",
       "      <th>4</th>\n",
       "      <td>3120000</td>\n",
       "      <td>1996312010723200018</td>\n",
       "      <td>19961118</td>\n",
       "      <td>NaN</td>\n",
       "      <td>4</td>\n",
       "      <td>취소/말소/만료/정지/중지</td>\n",
       "      <td>7</td>\n",
       "      <td>직권말소</td>\n",
       "      <td>NaN</td>\n",
       "      <td>NaN</td>\n",
       "      <td>...</td>\n",
       "      <td>20181227130821</td>\n",
       "      <td>U</td>\n",
       "      <td>2018-12-29 02:40:00.0</td>\n",
       "      <td>NaN</td>\n",
       "      <td>193422.545074</td>\n",
       "      <td>453356.334098</td>\n",
       "      <td>NaN</td>\n",
       "      <td>NaN</td>\n",
       "      <td>NaN</td>\n",
       "      <td>NaN</td>\n",
       "    </tr>\n",
       "  </tbody>\n",
       "</table>\n",
       "<p>5 rows × 29 columns</p>\n",
       "</div>"
      ],
      "text/plain": [
       "   개방자치단체코드                 관리번호     인허가일자  인허가취소일자  영업상태코드           영업상태명  \\\n",
       "0   3120000  1996312010723200001  19960823      NaN       4  취소/말소/만료/정지/중지   \n",
       "1   3120000  1996312010723200004  19960830      NaN       3              폐업   \n",
       "2   3120000  1996312010723200005  19961014      NaN       3              폐업   \n",
       "3   3120000  1996312010723200007  19961029      NaN       3              폐업   \n",
       "4   3120000  1996312010723200018  19961118      NaN       4  취소/말소/만료/정지/중지   \n",
       "\n",
       "   상세영업상태코드 상세영업상태명        폐업일자  휴업시작일자  ...          최종수정일자  데이터갱신구분  \\\n",
       "0         7    직권말소         NaN     NaN  ...  20130220175634        I   \n",
       "1         3    폐업처리  20130911.0     NaN  ...  20130911170953        I   \n",
       "2         3    폐업처리  20080513.0     NaN  ...  20080513141353        I   \n",
       "3         3    폐업처리  20130902.0     NaN  ...  20130902142806        I   \n",
       "4         7    직권말소         NaN     NaN  ...  20181227130821        U   \n",
       "\n",
       "                 데이터갱신일자  업태구분명        좌표정보(X)        좌표정보(Y) 자산규모  부채총액 자본금  \\\n",
       "0  2018-08-31 23:59:59.0    NaN            NaN            NaN  NaN   NaN NaN   \n",
       "1  2018-08-31 23:59:59.0    NaN  194297.832937  452570.312593  NaN   NaN NaN   \n",
       "2  2018-08-31 23:59:59.0    NaN            NaN            NaN  NaN   NaN NaN   \n",
       "3  2018-08-31 23:59:59.0    NaN  192500.456775  451806.103388  NaN   NaN NaN   \n",
       "4  2018-12-29 02:40:00.0    NaN  193422.545074  453356.334098  NaN   NaN NaN   \n",
       "\n",
       "   판매방식명  \n",
       "0    NaN  \n",
       "1    NaN  \n",
       "2    NaN  \n",
       "3    NaN  \n",
       "4    NaN  \n",
       "\n",
       "[5 rows x 29 columns]"
      ]
     },
     "execution_count": 19,
     "metadata": {},
     "output_type": "execute_result"
    }
   ],
   "source": [
    "df = pd.read_csv(files[0],encoding='cp949')\n",
    "df.head()"
   ]
  },
  {
   "cell_type": "code",
   "execution_count": 20,
   "metadata": {},
   "outputs": [
    {
     "name": "stdout",
     "output_type": "stream",
     "text": [
      "<class 'pandas.core.frame.DataFrame'>\n",
      "RangeIndex: 314 entries, 0 to 313\n",
      "Data columns (total 29 columns):\n",
      " #   Column    Non-Null Count  Dtype  \n",
      "---  ------    --------------  -----  \n",
      " 0   개방자치단체코드  314 non-null    int64  \n",
      " 1   관리번호      314 non-null    int64  \n",
      " 2   인허가일자     314 non-null    int64  \n",
      " 3   인허가취소일자   3 non-null      float64\n",
      " 4   영업상태코드    314 non-null    int64  \n",
      " 5   영업상태명     314 non-null    object \n",
      " 6   상세영업상태코드  314 non-null    int64  \n",
      " 7   상세영업상태명   314 non-null    object \n",
      " 8   폐업일자      198 non-null    float64\n",
      " 9   휴업시작일자    1 non-null      float64\n",
      " 10  휴업종료일자    1 non-null      float64\n",
      " 11  재개업일자     3 non-null      float64\n",
      " 12  전화번호      233 non-null    object \n",
      " 13  소재지면적     0 non-null      float64\n",
      " 14  소재지우편번호   180 non-null    float64\n",
      " 15  지번주소      311 non-null    object \n",
      " 16  도로명주소     265 non-null    object \n",
      " 17  도로명우편번호   158 non-null    float64\n",
      " 18  사업장명      314 non-null    object \n",
      " 19  최종수정일자    314 non-null    int64  \n",
      " 20  데이터갱신구분   314 non-null    object \n",
      " 21  데이터갱신일자   314 non-null    object \n",
      " 22  업태구분명     0 non-null      float64\n",
      " 23  좌표정보(X)   278 non-null    float64\n",
      " 24  좌표정보(Y)   278 non-null    float64\n",
      " 25  자산규모      75 non-null     float64\n",
      " 26  부채총액      68 non-null     float64\n",
      " 27  자본금       78 non-null     float64\n",
      " 28  판매방식명     0 non-null      float64\n",
      "dtypes: float64(15), int64(6), object(8)\n",
      "memory usage: 71.3+ KB\n"
     ]
    }
   ],
   "source": [
    "df.info()"
   ]
  },
  {
   "cell_type": "code",
   "execution_count": 21,
   "metadata": {},
   "outputs": [
    {
     "data": {
      "text/html": [
       "<div>\n",
       "<style scoped>\n",
       "    .dataframe tbody tr th:only-of-type {\n",
       "        vertical-align: middle;\n",
       "    }\n",
       "\n",
       "    .dataframe tbody tr th {\n",
       "        vertical-align: top;\n",
       "    }\n",
       "\n",
       "    .dataframe thead th {\n",
       "        text-align: right;\n",
       "    }\n",
       "</style>\n",
       "<table border=\"1\" class=\"dataframe\">\n",
       "  <thead>\n",
       "    <tr style=\"text-align: right;\">\n",
       "      <th></th>\n",
       "      <th>개방자치단체코드</th>\n",
       "      <th>관리번호</th>\n",
       "      <th>인허가일자</th>\n",
       "      <th>인허가취소일자</th>\n",
       "      <th>영업상태코드</th>\n",
       "      <th>상세영업상태코드</th>\n",
       "      <th>폐업일자</th>\n",
       "      <th>휴업시작일자</th>\n",
       "      <th>휴업종료일자</th>\n",
       "      <th>재개업일자</th>\n",
       "      <th>...</th>\n",
       "      <th>소재지우편번호</th>\n",
       "      <th>도로명우편번호</th>\n",
       "      <th>최종수정일자</th>\n",
       "      <th>업태구분명</th>\n",
       "      <th>좌표정보(X)</th>\n",
       "      <th>좌표정보(Y)</th>\n",
       "      <th>자산규모</th>\n",
       "      <th>부채총액</th>\n",
       "      <th>자본금</th>\n",
       "      <th>판매방식명</th>\n",
       "    </tr>\n",
       "  </thead>\n",
       "  <tbody>\n",
       "    <tr>\n",
       "      <th>count</th>\n",
       "      <td>314.0</td>\n",
       "      <td>3.140000e+02</td>\n",
       "      <td>3.140000e+02</td>\n",
       "      <td>3.0</td>\n",
       "      <td>314.000000</td>\n",
       "      <td>314.000000</td>\n",
       "      <td>1.980000e+02</td>\n",
       "      <td>1.0</td>\n",
       "      <td>1.0</td>\n",
       "      <td>3.000000e+00</td>\n",
       "      <td>...</td>\n",
       "      <td>180.000000</td>\n",
       "      <td>158.000000</td>\n",
       "      <td>3.140000e+02</td>\n",
       "      <td>0.0</td>\n",
       "      <td>278.000000</td>\n",
       "      <td>278.000000</td>\n",
       "      <td>7.500000e+01</td>\n",
       "      <td>6.800000e+01</td>\n",
       "      <td>7.800000e+01</td>\n",
       "      <td>0.0</td>\n",
       "    </tr>\n",
       "    <tr>\n",
       "      <th>mean</th>\n",
       "      <td>3120000.0</td>\n",
       "      <td>2.011255e+18</td>\n",
       "      <td>2.010682e+07</td>\n",
       "      <td>20150102.0</td>\n",
       "      <td>2.961783</td>\n",
       "      <td>3.630573</td>\n",
       "      <td>2.013595e+07</td>\n",
       "      <td>20210811.0</td>\n",
       "      <td>20220810.0</td>\n",
       "      <td>2.015409e+07</td>\n",
       "      <td>...</td>\n",
       "      <td>120324.044444</td>\n",
       "      <td>56168.449367</td>\n",
       "      <td>2.014544e+13</td>\n",
       "      <td>NaN</td>\n",
       "      <td>194376.184241</td>\n",
       "      <td>452832.659680</td>\n",
       "      <td>2.158014e+09</td>\n",
       "      <td>1.013675e+09</td>\n",
       "      <td>5.077412e+08</td>\n",
       "      <td>NaN</td>\n",
       "    </tr>\n",
       "    <tr>\n",
       "      <th>std</th>\n",
       "      <td>0.0</td>\n",
       "      <td>5.816408e+15</td>\n",
       "      <td>5.786685e+04</td>\n",
       "      <td>0.0</td>\n",
       "      <td>0.878463</td>\n",
       "      <td>1.931037</td>\n",
       "      <td>4.485179e+04</td>\n",
       "      <td>NaN</td>\n",
       "      <td>NaN</td>\n",
       "      <td>6.620811e+04</td>\n",
       "      <td>...</td>\n",
       "      <td>1650.568204</td>\n",
       "      <td>58283.103346</td>\n",
       "      <td>4.499671e+10</td>\n",
       "      <td>NaN</td>\n",
       "      <td>1524.498835</td>\n",
       "      <td>1376.004478</td>\n",
       "      <td>9.829152e+09</td>\n",
       "      <td>4.350286e+09</td>\n",
       "      <td>1.965408e+09</td>\n",
       "      <td>NaN</td>\n",
       "    </tr>\n",
       "    <tr>\n",
       "      <th>min</th>\n",
       "      <td>3120000.0</td>\n",
       "      <td>1.996312e+18</td>\n",
       "      <td>1.996010e+07</td>\n",
       "      <td>20150102.0</td>\n",
       "      <td>1.000000</td>\n",
       "      <td>1.000000</td>\n",
       "      <td>2.007053e+07</td>\n",
       "      <td>20210811.0</td>\n",
       "      <td>20220810.0</td>\n",
       "      <td>2.008103e+07</td>\n",
       "      <td>...</td>\n",
       "      <td>120012.000000</td>\n",
       "      <td>3602.000000</td>\n",
       "      <td>2.007072e+13</td>\n",
       "      <td>NaN</td>\n",
       "      <td>191526.125664</td>\n",
       "      <td>450451.593377</td>\n",
       "      <td>0.000000e+00</td>\n",
       "      <td>0.000000e+00</td>\n",
       "      <td>-1.648580e+08</td>\n",
       "      <td>NaN</td>\n",
       "    </tr>\n",
       "    <tr>\n",
       "      <th>25%</th>\n",
       "      <td>3120000.0</td>\n",
       "      <td>2.007312e+18</td>\n",
       "      <td>2.007064e+07</td>\n",
       "      <td>20150102.0</td>\n",
       "      <td>3.000000</td>\n",
       "      <td>3.000000</td>\n",
       "      <td>2.009317e+07</td>\n",
       "      <td>20210811.0</td>\n",
       "      <td>20220810.0</td>\n",
       "      <td>2.012608e+07</td>\n",
       "      <td>...</td>\n",
       "      <td>120091.000000</td>\n",
       "      <td>3677.250000</td>\n",
       "      <td>2.012044e+13</td>\n",
       "      <td>NaN</td>\n",
       "      <td>193288.837244</td>\n",
       "      <td>451713.181665</td>\n",
       "      <td>0.000000e+00</td>\n",
       "      <td>0.000000e+00</td>\n",
       "      <td>0.000000e+00</td>\n",
       "      <td>NaN</td>\n",
       "    </tr>\n",
       "    <tr>\n",
       "      <th>50%</th>\n",
       "      <td>3120000.0</td>\n",
       "      <td>2.010312e+18</td>\n",
       "      <td>2.010076e+07</td>\n",
       "      <td>20150102.0</td>\n",
       "      <td>3.000000</td>\n",
       "      <td>3.000000</td>\n",
       "      <td>2.013067e+07</td>\n",
       "      <td>20210811.0</td>\n",
       "      <td>20220810.0</td>\n",
       "      <td>2.017113e+07</td>\n",
       "      <td>...</td>\n",
       "      <td>120110.000000</td>\n",
       "      <td>3747.500000</td>\n",
       "      <td>2.014036e+13</td>\n",
       "      <td>NaN</td>\n",
       "      <td>194327.169494</td>\n",
       "      <td>452958.063245</td>\n",
       "      <td>4.887632e+07</td>\n",
       "      <td>9.670457e+06</td>\n",
       "      <td>4.000000e+07</td>\n",
       "      <td>NaN</td>\n",
       "    </tr>\n",
       "    <tr>\n",
       "      <th>75%</th>\n",
       "      <td>3120000.0</td>\n",
       "      <td>2.015312e+18</td>\n",
       "      <td>2.015033e+07</td>\n",
       "      <td>20150102.0</td>\n",
       "      <td>3.000000</td>\n",
       "      <td>3.000000</td>\n",
       "      <td>2.017062e+07</td>\n",
       "      <td>20210811.0</td>\n",
       "      <td>20220810.0</td>\n",
       "      <td>2.019062e+07</td>\n",
       "      <td>...</td>\n",
       "      <td>120170.000000</td>\n",
       "      <td>120137.750000</td>\n",
       "      <td>2.018123e+13</td>\n",
       "      <td>NaN</td>\n",
       "      <td>195366.250186</td>\n",
       "      <td>453830.336310</td>\n",
       "      <td>4.003120e+08</td>\n",
       "      <td>3.310591e+08</td>\n",
       "      <td>1.575000e+08</td>\n",
       "      <td>NaN</td>\n",
       "    </tr>\n",
       "    <tr>\n",
       "      <th>max</th>\n",
       "      <td>3120000.0</td>\n",
       "      <td>2.022312e+18</td>\n",
       "      <td>2.022121e+07</td>\n",
       "      <td>20150102.0</td>\n",
       "      <td>4.000000</td>\n",
       "      <td>7.000000</td>\n",
       "      <td>2.022111e+07</td>\n",
       "      <td>20210811.0</td>\n",
       "      <td>20220810.0</td>\n",
       "      <td>2.021011e+07</td>\n",
       "      <td>...</td>\n",
       "      <td>142100.000000</td>\n",
       "      <td>120866.000000</td>\n",
       "      <td>2.022121e+13</td>\n",
       "      <td>NaN</td>\n",
       "      <td>202537.911994</td>\n",
       "      <td>457556.846506</td>\n",
       "      <td>7.494576e+10</td>\n",
       "      <td>3.406958e+10</td>\n",
       "      <td>1.277039e+10</td>\n",
       "      <td>NaN</td>\n",
       "    </tr>\n",
       "  </tbody>\n",
       "</table>\n",
       "<p>8 rows × 21 columns</p>\n",
       "</div>"
      ],
      "text/plain": [
       "        개방자치단체코드          관리번호         인허가일자     인허가취소일자      영업상태코드  \\\n",
       "count      314.0  3.140000e+02  3.140000e+02         3.0  314.000000   \n",
       "mean   3120000.0  2.011255e+18  2.010682e+07  20150102.0    2.961783   \n",
       "std          0.0  5.816408e+15  5.786685e+04         0.0    0.878463   \n",
       "min    3120000.0  1.996312e+18  1.996010e+07  20150102.0    1.000000   \n",
       "25%    3120000.0  2.007312e+18  2.007064e+07  20150102.0    3.000000   \n",
       "50%    3120000.0  2.010312e+18  2.010076e+07  20150102.0    3.000000   \n",
       "75%    3120000.0  2.015312e+18  2.015033e+07  20150102.0    3.000000   \n",
       "max    3120000.0  2.022312e+18  2.022121e+07  20150102.0    4.000000   \n",
       "\n",
       "         상세영업상태코드          폐업일자      휴업시작일자      휴업종료일자         재개업일자  ...  \\\n",
       "count  314.000000  1.980000e+02         1.0         1.0  3.000000e+00  ...   \n",
       "mean     3.630573  2.013595e+07  20210811.0  20220810.0  2.015409e+07  ...   \n",
       "std      1.931037  4.485179e+04         NaN         NaN  6.620811e+04  ...   \n",
       "min      1.000000  2.007053e+07  20210811.0  20220810.0  2.008103e+07  ...   \n",
       "25%      3.000000  2.009317e+07  20210811.0  20220810.0  2.012608e+07  ...   \n",
       "50%      3.000000  2.013067e+07  20210811.0  20220810.0  2.017113e+07  ...   \n",
       "75%      3.000000  2.017062e+07  20210811.0  20220810.0  2.019062e+07  ...   \n",
       "max      7.000000  2.022111e+07  20210811.0  20220810.0  2.021011e+07  ...   \n",
       "\n",
       "             소재지우편번호        도로명우편번호        최종수정일자  업태구분명        좌표정보(X)  \\\n",
       "count     180.000000     158.000000  3.140000e+02    0.0     278.000000   \n",
       "mean   120324.044444   56168.449367  2.014544e+13    NaN  194376.184241   \n",
       "std      1650.568204   58283.103346  4.499671e+10    NaN    1524.498835   \n",
       "min    120012.000000    3602.000000  2.007072e+13    NaN  191526.125664   \n",
       "25%    120091.000000    3677.250000  2.012044e+13    NaN  193288.837244   \n",
       "50%    120110.000000    3747.500000  2.014036e+13    NaN  194327.169494   \n",
       "75%    120170.000000  120137.750000  2.018123e+13    NaN  195366.250186   \n",
       "max    142100.000000  120866.000000  2.022121e+13    NaN  202537.911994   \n",
       "\n",
       "             좌표정보(Y)          자산규모          부채총액           자본금  판매방식명  \n",
       "count     278.000000  7.500000e+01  6.800000e+01  7.800000e+01    0.0  \n",
       "mean   452832.659680  2.158014e+09  1.013675e+09  5.077412e+08    NaN  \n",
       "std      1376.004478  9.829152e+09  4.350286e+09  1.965408e+09    NaN  \n",
       "min    450451.593377  0.000000e+00  0.000000e+00 -1.648580e+08    NaN  \n",
       "25%    451713.181665  0.000000e+00  0.000000e+00  0.000000e+00    NaN  \n",
       "50%    452958.063245  4.887632e+07  9.670457e+06  4.000000e+07    NaN  \n",
       "75%    453830.336310  4.003120e+08  3.310591e+08  1.575000e+08    NaN  \n",
       "max    457556.846506  7.494576e+10  3.406958e+10  1.277039e+10    NaN  \n",
       "\n",
       "[8 rows x 21 columns]"
      ]
     },
     "execution_count": 21,
     "metadata": {},
     "output_type": "execute_result"
    }
   ],
   "source": [
    "df.describe()"
   ]
  },
  {
   "cell_type": "code",
   "execution_count": 22,
   "metadata": {},
   "outputs": [
    {
     "data": {
      "text/html": [
       "<div>\n",
       "<style scoped>\n",
       "    .dataframe tbody tr th:only-of-type {\n",
       "        vertical-align: middle;\n",
       "    }\n",
       "\n",
       "    .dataframe tbody tr th {\n",
       "        vertical-align: top;\n",
       "    }\n",
       "\n",
       "    .dataframe thead th {\n",
       "        text-align: right;\n",
       "    }\n",
       "</style>\n",
       "<table border=\"1\" class=\"dataframe\">\n",
       "  <thead>\n",
       "    <tr style=\"text-align: right;\">\n",
       "      <th></th>\n",
       "      <th>영업상태명</th>\n",
       "      <th>상세영업상태명</th>\n",
       "      <th>전화번호</th>\n",
       "      <th>지번주소</th>\n",
       "      <th>도로명주소</th>\n",
       "      <th>사업장명</th>\n",
       "      <th>데이터갱신구분</th>\n",
       "      <th>데이터갱신일자</th>\n",
       "    </tr>\n",
       "  </thead>\n",
       "  <tbody>\n",
       "    <tr>\n",
       "      <th>count</th>\n",
       "      <td>314</td>\n",
       "      <td>314</td>\n",
       "      <td>233</td>\n",
       "      <td>311</td>\n",
       "      <td>265</td>\n",
       "      <td>314</td>\n",
       "      <td>314</td>\n",
       "      <td>314</td>\n",
       "    </tr>\n",
       "    <tr>\n",
       "      <th>unique</th>\n",
       "      <td>4</td>\n",
       "      <td>5</td>\n",
       "      <td>210</td>\n",
       "      <td>246</td>\n",
       "      <td>243</td>\n",
       "      <td>307</td>\n",
       "      <td>2</td>\n",
       "      <td>69</td>\n",
       "    </tr>\n",
       "    <tr>\n",
       "      <th>top</th>\n",
       "      <td>폐업</td>\n",
       "      <td>폐업처리</td>\n",
       "      <td>02-</td>\n",
       "      <td>서울특별시 서대문구 홍제동 ***번지 **호</td>\n",
       "      <td>서울특별시 서대문구 통일로 *** (홍제동)</td>\n",
       "      <td>금성케미칼</td>\n",
       "      <td>I</td>\n",
       "      <td>2018-08-31 23:59:59.0</td>\n",
       "    </tr>\n",
       "    <tr>\n",
       "      <th>freq</th>\n",
       "      <td>198</td>\n",
       "      <td>198</td>\n",
       "      <td>11</td>\n",
       "      <td>12</td>\n",
       "      <td>5</td>\n",
       "      <td>3</td>\n",
       "      <td>244</td>\n",
       "      <td>229</td>\n",
       "    </tr>\n",
       "  </tbody>\n",
       "</table>\n",
       "</div>"
      ],
      "text/plain": [
       "       영업상태명 상세영업상태명 전화번호                      지번주소                     도로명주소  \\\n",
       "count    314     314  233                       311                       265   \n",
       "unique     4       5  210                       246                       243   \n",
       "top       폐업    폐업처리  02-  서울특별시 서대문구 홍제동 ***번지 **호  서울특별시 서대문구 통일로 *** (홍제동)   \n",
       "freq     198     198   11                        12                         5   \n",
       "\n",
       "         사업장명 데이터갱신구분                데이터갱신일자  \n",
       "count     314     314                    314  \n",
       "unique    307       2                     69  \n",
       "top     금성케미칼       I  2018-08-31 23:59:59.0  \n",
       "freq        3     244                    229  "
      ]
     },
     "execution_count": 22,
     "metadata": {},
     "output_type": "execute_result"
    }
   ],
   "source": [
    "df.describe(include=np.object)"
   ]
  },
  {
   "cell_type": "code",
   "execution_count": 23,
   "metadata": {},
   "outputs": [
    {
     "data": {
      "text/plain": [
       "개방자치단체코드      0\n",
       "관리번호          0\n",
       "인허가일자         0\n",
       "인허가취소일자     311\n",
       "영업상태코드        0\n",
       "영업상태명         0\n",
       "상세영업상태코드      0\n",
       "상세영업상태명       0\n",
       "폐업일자        116\n",
       "휴업시작일자      313\n",
       "휴업종료일자      313\n",
       "재개업일자       311\n",
       "전화번호         81\n",
       "소재지면적       314\n",
       "소재지우편번호     134\n",
       "지번주소          3\n",
       "도로명주소        49\n",
       "도로명우편번호     156\n",
       "사업장명          0\n",
       "최종수정일자        0\n",
       "데이터갱신구분       0\n",
       "데이터갱신일자       0\n",
       "업태구분명       314\n",
       "좌표정보(X)      36\n",
       "좌표정보(Y)      36\n",
       "자산규모        239\n",
       "부채총액        246\n",
       "자본금         236\n",
       "판매방식명       314\n",
       "dtype: int64"
      ]
     },
     "execution_count": 23,
     "metadata": {},
     "output_type": "execute_result"
    }
   ],
   "source": [
    "df.isnull().sum()"
   ]
  },
  {
   "attachments": {},
   "cell_type": "markdown",
   "metadata": {},
   "source": [
    "**영업상태명, 상세영업상태명 분포는?**\n",
    "\n",
    "**자산규모, 부채총액, 자본금 분포는?**\n",
    "\n",
    "**영업상태별 자산규모, 부채총액, 자본금은?**\n",
    "\n",
    "**자치구, 도시 분포는?**\n",
    "\n",
    "**도시별 영업상태는?**\n",
    "\n",
    "**사업기간 분포는?**\n",
    "\n",
    "**자치구별 평균 사업기간은?**"
   ]
  },
  {
   "attachments": {},
   "cell_type": "markdown",
   "metadata": {},
   "source": [
    "## 전처리"
   ]
  },
  {
   "cell_type": "code",
   "execution_count": 24,
   "metadata": {},
   "outputs": [],
   "source": [
    "drop_cols = ['개방자치단체코드','관리번호','인허가취소일자','영업상태코드','상세영업상태코드','폐업일자','휴업시작일자','휴업종료일자','재개업일자',\n",
    "'소재지면적','전화번호','소재지우편번호','도로명우편번호','도로명주소','업태구분명','판매방식명']\n",
    "df = df.drop(drop_cols,axis=1)"
   ]
  },
  {
   "cell_type": "code",
   "execution_count": 29,
   "metadata": {},
   "outputs": [
    {
     "data": {
      "text/html": [
       "<div>\n",
       "<style scoped>\n",
       "    .dataframe tbody tr th:only-of-type {\n",
       "        vertical-align: middle;\n",
       "    }\n",
       "\n",
       "    .dataframe tbody tr th {\n",
       "        vertical-align: top;\n",
       "    }\n",
       "\n",
       "    .dataframe thead th {\n",
       "        text-align: right;\n",
       "    }\n",
       "</style>\n",
       "<table border=\"1\" class=\"dataframe\">\n",
       "  <thead>\n",
       "    <tr style=\"text-align: right;\">\n",
       "      <th></th>\n",
       "      <th>인허가일자</th>\n",
       "      <th>영업상태명</th>\n",
       "      <th>상세영업상태명</th>\n",
       "      <th>지번주소</th>\n",
       "      <th>사업장명</th>\n",
       "      <th>최종수정일자</th>\n",
       "      <th>데이터갱신구분</th>\n",
       "      <th>데이터갱신일자</th>\n",
       "      <th>좌표정보(X)</th>\n",
       "      <th>좌표정보(Y)</th>\n",
       "      <th>자산규모</th>\n",
       "      <th>부채총액</th>\n",
       "      <th>자본금</th>\n",
       "    </tr>\n",
       "  </thead>\n",
       "  <tbody>\n",
       "    <tr>\n",
       "      <th>0</th>\n",
       "      <td>19960823</td>\n",
       "      <td>취소/말소/만료/정지/중지</td>\n",
       "      <td>직권말소</td>\n",
       "      <td>서울특별시 서대문구 홍제*동 ***번지 **호 *층</td>\n",
       "      <td>(주)건강리더</td>\n",
       "      <td>20130220175634</td>\n",
       "      <td>I</td>\n",
       "      <td>2018-08-31 23:59:59.0</td>\n",
       "      <td>NaN</td>\n",
       "      <td>NaN</td>\n",
       "      <td>NaN</td>\n",
       "      <td>NaN</td>\n",
       "      <td>NaN</td>\n",
       "    </tr>\n",
       "    <tr>\n",
       "      <th>1</th>\n",
       "      <td>19960830</td>\n",
       "      <td>폐업</td>\n",
       "      <td>폐업처리</td>\n",
       "      <td>서울특별시 서대문구 연희동 ***번지 대림상가 ***호</td>\n",
       "      <td>아현건강생활</td>\n",
       "      <td>20130911170953</td>\n",
       "      <td>I</td>\n",
       "      <td>2018-08-31 23:59:59.0</td>\n",
       "      <td>194297.832937</td>\n",
       "      <td>452570.312593</td>\n",
       "      <td>NaN</td>\n",
       "      <td>NaN</td>\n",
       "      <td>NaN</td>\n",
       "    </tr>\n",
       "    <tr>\n",
       "      <th>2</th>\n",
       "      <td>19961014</td>\n",
       "      <td>폐업</td>\n",
       "      <td>폐업처리</td>\n",
       "      <td>은평구 역촌동 **-**</td>\n",
       "      <td>A+과학나라서부지사</td>\n",
       "      <td>20080513141353</td>\n",
       "      <td>I</td>\n",
       "      <td>2018-08-31 23:59:59.0</td>\n",
       "      <td>NaN</td>\n",
       "      <td>NaN</td>\n",
       "      <td>NaN</td>\n",
       "      <td>NaN</td>\n",
       "      <td>NaN</td>\n",
       "    </tr>\n",
       "    <tr>\n",
       "      <th>3</th>\n",
       "      <td>19961029</td>\n",
       "      <td>폐업</td>\n",
       "      <td>폐업처리</td>\n",
       "      <td>서울특별시 서대문구 남가좌동 ***번지 *호 *층</td>\n",
       "      <td>마임북가좌지사</td>\n",
       "      <td>20130902142806</td>\n",
       "      <td>I</td>\n",
       "      <td>2018-08-31 23:59:59.0</td>\n",
       "      <td>192500.456775</td>\n",
       "      <td>451806.103388</td>\n",
       "      <td>NaN</td>\n",
       "      <td>NaN</td>\n",
       "      <td>NaN</td>\n",
       "    </tr>\n",
       "    <tr>\n",
       "      <th>4</th>\n",
       "      <td>19961118</td>\n",
       "      <td>취소/말소/만료/정지/중지</td>\n",
       "      <td>직권말소</td>\n",
       "      <td>서울특별시 서대문구 홍은동 ***번지 *호 *층</td>\n",
       "      <td>쉐보레명지대리점</td>\n",
       "      <td>20181227130821</td>\n",
       "      <td>U</td>\n",
       "      <td>2018-12-29 02:40:00.0</td>\n",
       "      <td>193422.545074</td>\n",
       "      <td>453356.334098</td>\n",
       "      <td>NaN</td>\n",
       "      <td>NaN</td>\n",
       "      <td>NaN</td>\n",
       "    </tr>\n",
       "    <tr>\n",
       "      <th>5</th>\n",
       "      <td>19961207</td>\n",
       "      <td>폐업</td>\n",
       "      <td>폐업처리</td>\n",
       "      <td>서울특별시 서대문구 북아현동 ***번지 **호 굴레방빌딩 *층</td>\n",
       "      <td>현대영어사</td>\n",
       "      <td>20150120131034</td>\n",
       "      <td>I</td>\n",
       "      <td>2018-08-31 23:59:59.0</td>\n",
       "      <td>196253.551981</td>\n",
       "      <td>450587.038797</td>\n",
       "      <td>NaN</td>\n",
       "      <td>NaN</td>\n",
       "      <td>NaN</td>\n",
       "    </tr>\n",
       "    <tr>\n",
       "      <th>6</th>\n",
       "      <td>19961207</td>\n",
       "      <td>영업/정상</td>\n",
       "      <td>정상영업</td>\n",
       "      <td>서울특별시 서대문구 북가좌동 **번지 *호 스카이빌</td>\n",
       "      <td>㈜현대엘리트</td>\n",
       "      <td>20180118162626</td>\n",
       "      <td>I</td>\n",
       "      <td>2018-08-31 23:59:59.0</td>\n",
       "      <td>192552.192064</td>\n",
       "      <td>453030.926928</td>\n",
       "      <td>0.0</td>\n",
       "      <td>0.0</td>\n",
       "      <td>0.0</td>\n",
       "    </tr>\n",
       "    <tr>\n",
       "      <th>7</th>\n",
       "      <td>19971229</td>\n",
       "      <td>폐업</td>\n",
       "      <td>폐업처리</td>\n",
       "      <td>서대문구홍은동 ***- 벽산@*** ***</td>\n",
       "      <td>할수있다컴퓨터수학교실</td>\n",
       "      <td>20080125134820</td>\n",
       "      <td>I</td>\n",
       "      <td>2018-08-31 23:59:59.0</td>\n",
       "      <td>193998.104669</td>\n",
       "      <td>453150.854122</td>\n",
       "      <td>NaN</td>\n",
       "      <td>NaN</td>\n",
       "      <td>NaN</td>\n",
       "    </tr>\n",
       "    <tr>\n",
       "      <th>8</th>\n",
       "      <td>19990708</td>\n",
       "      <td>폐업</td>\n",
       "      <td>폐업처리</td>\n",
       "      <td>고양시덕양구토당동***-**윤창빌라***</td>\n",
       "      <td>현대북아현판매대리점</td>\n",
       "      <td>20071227132725</td>\n",
       "      <td>I</td>\n",
       "      <td>2018-08-31 23:59:59.0</td>\n",
       "      <td>NaN</td>\n",
       "      <td>NaN</td>\n",
       "      <td>NaN</td>\n",
       "      <td>NaN</td>\n",
       "      <td>NaN</td>\n",
       "    </tr>\n",
       "    <tr>\n",
       "      <th>9</th>\n",
       "      <td>19990901</td>\n",
       "      <td>폐업</td>\n",
       "      <td>폐업처리</td>\n",
       "      <td>서울특별시 서대문구 홍제*동 ***번지 *호</td>\n",
       "      <td>정산생명공학 서대문지사</td>\n",
       "      <td>20211224100723</td>\n",
       "      <td>U</td>\n",
       "      <td>2021-12-26 02:40:00.0</td>\n",
       "      <td>195297.115525</td>\n",
       "      <td>453758.055554</td>\n",
       "      <td>0.0</td>\n",
       "      <td>0.0</td>\n",
       "      <td>0.0</td>\n",
       "    </tr>\n",
       "  </tbody>\n",
       "</table>\n",
       "</div>"
      ],
      "text/plain": [
       "      인허가일자           영업상태명 상세영업상태명                                지번주소  \\\n",
       "0  19960823  취소/말소/만료/정지/중지    직권말소        서울특별시 서대문구 홍제*동 ***번지 **호 *층   \n",
       "1  19960830              폐업    폐업처리      서울특별시 서대문구 연희동 ***번지 대림상가 ***호   \n",
       "2  19961014              폐업    폐업처리                       은평구 역촌동 **-**   \n",
       "3  19961029              폐업    폐업처리         서울특별시 서대문구 남가좌동 ***번지 *호 *층   \n",
       "4  19961118  취소/말소/만료/정지/중지    직권말소          서울특별시 서대문구 홍은동 ***번지 *호 *층   \n",
       "5  19961207              폐업    폐업처리  서울특별시 서대문구 북아현동 ***번지 **호 굴레방빌딩 *층   \n",
       "6  19961207           영업/정상    정상영업        서울특별시 서대문구 북가좌동 **번지 *호 스카이빌   \n",
       "7  19971229              폐업    폐업처리             서대문구홍은동 ***- 벽산@*** ***   \n",
       "8  19990708              폐업    폐업처리              고양시덕양구토당동***-**윤창빌라***   \n",
       "9  19990901              폐업    폐업처리            서울특별시 서대문구 홍제*동 ***번지 *호   \n",
       "\n",
       "           사업장명          최종수정일자 데이터갱신구분                데이터갱신일자        좌표정보(X)  \\\n",
       "0       (주)건강리더  20130220175634       I  2018-08-31 23:59:59.0            NaN   \n",
       "1        아현건강생활  20130911170953       I  2018-08-31 23:59:59.0  194297.832937   \n",
       "2    A+과학나라서부지사  20080513141353       I  2018-08-31 23:59:59.0            NaN   \n",
       "3       마임북가좌지사  20130902142806       I  2018-08-31 23:59:59.0  192500.456775   \n",
       "4      쉐보레명지대리점  20181227130821       U  2018-12-29 02:40:00.0  193422.545074   \n",
       "5         현대영어사  20150120131034       I  2018-08-31 23:59:59.0  196253.551981   \n",
       "6        ㈜현대엘리트  20180118162626       I  2018-08-31 23:59:59.0  192552.192064   \n",
       "7   할수있다컴퓨터수학교실  20080125134820       I  2018-08-31 23:59:59.0  193998.104669   \n",
       "8    현대북아현판매대리점  20071227132725       I  2018-08-31 23:59:59.0            NaN   \n",
       "9  정산생명공학 서대문지사  20211224100723       U  2021-12-26 02:40:00.0  195297.115525   \n",
       "\n",
       "         좌표정보(Y)  자산규모  부채총액  자본금  \n",
       "0            NaN   NaN   NaN  NaN  \n",
       "1  452570.312593   NaN   NaN  NaN  \n",
       "2            NaN   NaN   NaN  NaN  \n",
       "3  451806.103388   NaN   NaN  NaN  \n",
       "4  453356.334098   NaN   NaN  NaN  \n",
       "5  450587.038797   NaN   NaN  NaN  \n",
       "6  453030.926928   0.0   0.0  0.0  \n",
       "7  453150.854122   NaN   NaN  NaN  \n",
       "8            NaN   NaN   NaN  NaN  \n",
       "9  453758.055554   0.0   0.0  0.0  "
      ]
     },
     "execution_count": 29,
     "metadata": {},
     "output_type": "execute_result"
    }
   ],
   "source": [
    "df.head(10)"
   ]
  },
  {
   "cell_type": "code",
   "execution_count": 28,
   "metadata": {},
   "outputs": [
    {
     "name": "stdout",
     "output_type": "stream",
     "text": [
      "<class 'pandas.core.frame.DataFrame'>\n",
      "RangeIndex: 314 entries, 0 to 313\n",
      "Data columns (total 13 columns):\n",
      " #   Column   Non-Null Count  Dtype  \n",
      "---  ------   --------------  -----  \n",
      " 0   인허가일자    314 non-null    int64  \n",
      " 1   영업상태명    314 non-null    object \n",
      " 2   상세영업상태명  314 non-null    object \n",
      " 3   지번주소     311 non-null    object \n",
      " 4   사업장명     314 non-null    object \n",
      " 5   최종수정일자   314 non-null    int64  \n",
      " 6   데이터갱신구분  314 non-null    object \n",
      " 7   데이터갱신일자  314 non-null    object \n",
      " 8   좌표정보(X)  278 non-null    float64\n",
      " 9   좌표정보(Y)  278 non-null    float64\n",
      " 10  자산규모     75 non-null     float64\n",
      " 11  부채총액     68 non-null     float64\n",
      " 12  자본금      78 non-null     float64\n",
      "dtypes: float64(5), int64(2), object(6)\n",
      "memory usage: 32.0+ KB\n"
     ]
    }
   ],
   "source": [
    "df.info()"
   ]
  },
  {
   "cell_type": "code",
   "execution_count": 58,
   "metadata": {},
   "outputs": [],
   "source": [
    "df['지번주소'].fillna('None',inplace=True)\n",
    "df.fillna(0,inplace=True)"
   ]
  },
  {
   "cell_type": "code",
   "execution_count": 180,
   "metadata": {},
   "outputs": [],
   "source": [
    "def convert_area(x):\n",
    "    area = re.findall(r'(.*?구)',x)\n",
    "    if not area:\n",
    "        return 'None'\n",
    "    elif area[0] == '구':\n",
    "        return '구로구'\n",
    "    else:\n",
    "        return area[0].split('시')[-1].strip()\n",
    "\n",
    "def convert_city(x):\n",
    "    city = re.findall(r'(.*?시)',x)\n",
    "    if not city:\n",
    "        city = '서울특별시'\n",
    "        return city\n",
    "    elif city[0] == '서대문구연희동**-*시' or city[0] == '서초구서초동****-*서초리시':\n",
    "        return '서울특별시'\n",
    "    else:\n",
    "        return city[0]\n",
    "\n",
    "df['자치구'] = df['지번주소'].apply(convert_area)\n",
    "df['도시'] = df['지번주소'].apply(convert_city)"
   ]
  },
  {
   "cell_type": "code",
   "execution_count": 77,
   "metadata": {},
   "outputs": [
    {
     "data": {
      "text/plain": [
       "-6025"
      ]
     },
     "execution_count": 77,
     "metadata": {},
     "output_type": "execute_result"
    }
   ],
   "source": [
    "(datetime.strptime('19960823','%Y%m%d')-datetime.strptime('20130220175634'[:8],'%Y%m%d')).days"
   ]
  },
  {
   "cell_type": "code",
   "execution_count": 82,
   "metadata": {},
   "outputs": [],
   "source": [
    "df['최종수정일자'] = df['최종수정일자'].apply(lambda x : int(str(x)[:8]))"
   ]
  },
  {
   "cell_type": "code",
   "execution_count": 116,
   "metadata": {},
   "outputs": [],
   "source": [
    "period = df['최종수정일자'].apply(lambda x : datetime.strptime(str(x),'%Y%m%d')) - df['인허가일자'].apply(lambda x : datetime.strptime(str(x),'%Y%m%d'))\n",
    "df['사업기간'] = period.apply(lambda x : x.days//365)"
   ]
  },
  {
   "cell_type": "code",
   "execution_count": 117,
   "metadata": {},
   "outputs": [
    {
     "data": {
      "text/html": [
       "<div>\n",
       "<style scoped>\n",
       "    .dataframe tbody tr th:only-of-type {\n",
       "        vertical-align: middle;\n",
       "    }\n",
       "\n",
       "    .dataframe tbody tr th {\n",
       "        vertical-align: top;\n",
       "    }\n",
       "\n",
       "    .dataframe thead th {\n",
       "        text-align: right;\n",
       "    }\n",
       "</style>\n",
       "<table border=\"1\" class=\"dataframe\">\n",
       "  <thead>\n",
       "    <tr style=\"text-align: right;\">\n",
       "      <th></th>\n",
       "      <th>인허가일자</th>\n",
       "      <th>영업상태명</th>\n",
       "      <th>상세영업상태명</th>\n",
       "      <th>지번주소</th>\n",
       "      <th>사업장명</th>\n",
       "      <th>최종수정일자</th>\n",
       "      <th>데이터갱신구분</th>\n",
       "      <th>데이터갱신일자</th>\n",
       "      <th>좌표정보(X)</th>\n",
       "      <th>좌표정보(Y)</th>\n",
       "      <th>자산규모</th>\n",
       "      <th>부채총액</th>\n",
       "      <th>자본금</th>\n",
       "      <th>자치구</th>\n",
       "      <th>도시</th>\n",
       "      <th>사업기간</th>\n",
       "    </tr>\n",
       "  </thead>\n",
       "  <tbody>\n",
       "    <tr>\n",
       "      <th>0</th>\n",
       "      <td>19960823</td>\n",
       "      <td>취소/말소/만료/정지/중지</td>\n",
       "      <td>직권말소</td>\n",
       "      <td>서울특별시 서대문구 홍제*동 ***번지 **호 *층</td>\n",
       "      <td>(주)건강리더</td>\n",
       "      <td>20130220</td>\n",
       "      <td>I</td>\n",
       "      <td>2018-08-31 23:59:59.0</td>\n",
       "      <td>0.000000</td>\n",
       "      <td>0.000000</td>\n",
       "      <td>0.0</td>\n",
       "      <td>0.0</td>\n",
       "      <td>0.0</td>\n",
       "      <td>서대문구</td>\n",
       "      <td>서울특별시</td>\n",
       "      <td>16</td>\n",
       "    </tr>\n",
       "    <tr>\n",
       "      <th>1</th>\n",
       "      <td>19960830</td>\n",
       "      <td>폐업</td>\n",
       "      <td>폐업처리</td>\n",
       "      <td>서울특별시 서대문구 연희동 ***번지 대림상가 ***호</td>\n",
       "      <td>아현건강생활</td>\n",
       "      <td>20130911</td>\n",
       "      <td>I</td>\n",
       "      <td>2018-08-31 23:59:59.0</td>\n",
       "      <td>194297.832937</td>\n",
       "      <td>452570.312593</td>\n",
       "      <td>0.0</td>\n",
       "      <td>0.0</td>\n",
       "      <td>0.0</td>\n",
       "      <td>서대문구</td>\n",
       "      <td>서울특별시</td>\n",
       "      <td>17</td>\n",
       "    </tr>\n",
       "    <tr>\n",
       "      <th>2</th>\n",
       "      <td>19961014</td>\n",
       "      <td>폐업</td>\n",
       "      <td>폐업처리</td>\n",
       "      <td>은평구 역촌동 **-**</td>\n",
       "      <td>A+과학나라서부지사</td>\n",
       "      <td>20080513</td>\n",
       "      <td>I</td>\n",
       "      <td>2018-08-31 23:59:59.0</td>\n",
       "      <td>0.000000</td>\n",
       "      <td>0.000000</td>\n",
       "      <td>0.0</td>\n",
       "      <td>0.0</td>\n",
       "      <td>0.0</td>\n",
       "      <td>은평구</td>\n",
       "      <td>서울특별시</td>\n",
       "      <td>11</td>\n",
       "    </tr>\n",
       "    <tr>\n",
       "      <th>3</th>\n",
       "      <td>19961029</td>\n",
       "      <td>폐업</td>\n",
       "      <td>폐업처리</td>\n",
       "      <td>서울특별시 서대문구 남가좌동 ***번지 *호 *층</td>\n",
       "      <td>마임북가좌지사</td>\n",
       "      <td>20130902</td>\n",
       "      <td>I</td>\n",
       "      <td>2018-08-31 23:59:59.0</td>\n",
       "      <td>192500.456775</td>\n",
       "      <td>451806.103388</td>\n",
       "      <td>0.0</td>\n",
       "      <td>0.0</td>\n",
       "      <td>0.0</td>\n",
       "      <td>서대문구</td>\n",
       "      <td>서울특별시</td>\n",
       "      <td>16</td>\n",
       "    </tr>\n",
       "    <tr>\n",
       "      <th>4</th>\n",
       "      <td>19961118</td>\n",
       "      <td>취소/말소/만료/정지/중지</td>\n",
       "      <td>직권말소</td>\n",
       "      <td>서울특별시 서대문구 홍은동 ***번지 *호 *층</td>\n",
       "      <td>쉐보레명지대리점</td>\n",
       "      <td>20181227</td>\n",
       "      <td>U</td>\n",
       "      <td>2018-12-29 02:40:00.0</td>\n",
       "      <td>193422.545074</td>\n",
       "      <td>453356.334098</td>\n",
       "      <td>0.0</td>\n",
       "      <td>0.0</td>\n",
       "      <td>0.0</td>\n",
       "      <td>서대문구</td>\n",
       "      <td>서울특별시</td>\n",
       "      <td>22</td>\n",
       "    </tr>\n",
       "  </tbody>\n",
       "</table>\n",
       "</div>"
      ],
      "text/plain": [
       "      인허가일자           영업상태명 상세영업상태명                            지번주소  \\\n",
       "0  19960823  취소/말소/만료/정지/중지    직권말소    서울특별시 서대문구 홍제*동 ***번지 **호 *층   \n",
       "1  19960830              폐업    폐업처리  서울특별시 서대문구 연희동 ***번지 대림상가 ***호   \n",
       "2  19961014              폐업    폐업처리                   은평구 역촌동 **-**   \n",
       "3  19961029              폐업    폐업처리     서울특별시 서대문구 남가좌동 ***번지 *호 *층   \n",
       "4  19961118  취소/말소/만료/정지/중지    직권말소      서울특별시 서대문구 홍은동 ***번지 *호 *층   \n",
       "\n",
       "         사업장명    최종수정일자 데이터갱신구분                데이터갱신일자        좌표정보(X)  \\\n",
       "0     (주)건강리더  20130220       I  2018-08-31 23:59:59.0       0.000000   \n",
       "1      아현건강생활  20130911       I  2018-08-31 23:59:59.0  194297.832937   \n",
       "2  A+과학나라서부지사  20080513       I  2018-08-31 23:59:59.0       0.000000   \n",
       "3     마임북가좌지사  20130902       I  2018-08-31 23:59:59.0  192500.456775   \n",
       "4    쉐보레명지대리점  20181227       U  2018-12-29 02:40:00.0  193422.545074   \n",
       "\n",
       "         좌표정보(Y)  자산규모  부채총액  자본금   자치구     도시  사업기간  \n",
       "0       0.000000   0.0   0.0  0.0  서대문구  서울특별시    16  \n",
       "1  452570.312593   0.0   0.0  0.0  서대문구  서울특별시    17  \n",
       "2       0.000000   0.0   0.0  0.0   은평구  서울특별시    11  \n",
       "3  451806.103388   0.0   0.0  0.0  서대문구  서울특별시    16  \n",
       "4  453356.334098   0.0   0.0  0.0  서대문구  서울특별시    22  "
      ]
     },
     "execution_count": 117,
     "metadata": {},
     "output_type": "execute_result"
    }
   ],
   "source": [
    "df.head()"
   ]
  },
  {
   "attachments": {},
   "cell_type": "markdown",
   "metadata": {},
   "source": [
    "## 시각화"
   ]
  },
  {
   "cell_type": "code",
   "execution_count": 125,
   "metadata": {},
   "outputs": [
    {
     "data": {
      "text/plain": [
       "[Text(0.5, 1.0, '상세영업상태별 분포')]"
      ]
     },
     "execution_count": 125,
     "metadata": {},
     "output_type": "execute_result"
    },
    {
     "data": {
      "image/png": "[encoded data removed]",
      "text/plain": [
       "<Figure size 1152x864 with 2 Axes>"
      ]
     },
     "metadata": {
      "needs_background": "light"
     },
     "output_type": "display_data"
    }
   ],
   "source": [
    "fig,axes = plt.subplots(2,1,figsize=(16,12))\n",
    "sub_df1 = df.groupby(['영업상태명'],as_index=False)['지번주소'].count()\n",
    "sub_df2 = df.groupby(['상세영업상태명'],as_index=False)['지번주소'].count()\n",
    "sns.barplot(data=sub_df1,x='영업상태명',y='지번주소',ax=axes[0]).set(title='영업상태별 분포')\n",
    "sns.barplot(data=sub_df2,x='상세영업상태명',y='지번주소',ax=axes[1]).set(title='상세영업상태별 분포')"
   ]
  },
  {
   "cell_type": "code",
   "execution_count": 202,
   "metadata": {},
   "outputs": [
    {
     "data": {
      "text/plain": [
       "[Text(0.5, 1.0, '자본금')]"
      ]
     },
     "execution_count": 202,
     "metadata": {},
     "output_type": "execute_result"
    },
    {
     "data": {
      "image/png": "[encoded data removed]",
      "text/plain": [
       "<Figure size 1152x1296 with 3 Axes>"
      ]
     },
     "metadata": {
      "needs_background": "light"
     },
     "output_type": "display_data"
    }
   ],
   "source": [
    "fig,axes = plt.subplots(3,1,figsize=(16,18))\n",
    "sns.kdeplot(data=df[df['자산규모']>1]['자산규모'],ax=axes[0]).set(title='자산규모')\n",
    "sns.kdeplot(data=df[df['부채총액']>1]['부채총액'],ax=axes[1]).set(title='부채총액')\n",
    "sns.kdeplot(data=df[df['자본금']>1]['자본금'],ax=axes[2]).set(title='자본금')"
   ]
  },
  {
   "cell_type": "code",
   "execution_count": 173,
   "metadata": {},
   "outputs": [
    {
     "data": {
      "text/plain": [
       "[Text(0.5, 1.0, '영업상태별 자본금')]"
      ]
     },
     "execution_count": 173,
     "metadata": {},
     "output_type": "execute_result"
    },
    {
     "data": {
      "image/png": "[encoded data removed]",
      "text/plain": [
       "<Figure size 1728x432 with 3 Axes>"
      ]
     },
     "metadata": {
      "needs_background": "light"
     },
     "output_type": "display_data"
    }
   ],
   "source": [
    "sub_df1 = df.groupby(['영업상태명'],as_index=False)['자산규모'].mean()\n",
    "sub_df2 = df.groupby(['영업상태명'],as_index=False)['부채총액'].mean()\n",
    "sub_df3 = df.groupby(['영업상태명'],as_index=False)[['자본금']].mean()\n",
    "fig,axes = plt.subplots(1,3,figsize=(24,6),sharey=True)\n",
    "sns.barplot(data=sub_df1,x='영업상태명',y='자산규모',ax=axes[0]).set(title='영업상태별 자산규모')\n",
    "sns.barplot(data=sub_df2,x='영업상태명',y='부채총액',ax=axes[1]).set(title='영업상태별 부채총액')\n",
    "sns.barplot(data=sub_df3,x='영업상태명',y='자본금',ax=axes[2]).set(title='영업상태별 자본금')"
   ]
  },
  {
   "cell_type": "code",
   "execution_count": 176,
   "metadata": {},
   "outputs": [
    {
     "data": {
      "text/plain": [
       "[Text(0.5, 1.0, '도시 분포')]"
      ]
     },
     "execution_count": 176,
     "metadata": {},
     "output_type": "execute_result"
    },
    {
     "data": {
      "image/png": "[encoded data removed]",
      "text/plain": [
       "<Figure size 432x432 with 1 Axes>"
      ]
     },
     "metadata": {
      "needs_background": "light"
     },
     "output_type": "display_data"
    }
   ],
   "source": [
    "plt.figure(figsize=(6,6))\n",
    "sns.countplot(data=df,x='도시').set(title='도시 분포')"
   ]
  },
  {
   "cell_type": "code",
   "execution_count": 203,
   "metadata": {},
   "outputs": [
    {
     "data": {
      "text/plain": [
       "[Text(0.5, 1.0, '자치구 분포')]"
      ]
     },
     "execution_count": 203,
     "metadata": {},
     "output_type": "execute_result"
    },
    {
     "data": {
      "image/png": "[encoded data removed]",
      "text/plain": [
       "<Figure size 1296x432 with 1 Axes>"
      ]
     },
     "metadata": {
      "needs_background": "light"
     },
     "output_type": "display_data"
    }
   ],
   "source": [
    "plt.figure(figsize=(18,6))\n",
    "sns.countplot(data=df[df['자치구']!='None'],x='자치구').set(title='자치구 분포')"
   ]
  },
  {
   "cell_type": "code",
   "execution_count": 199,
   "metadata": {},
   "outputs": [
    {
     "data": {
      "text/plain": [
       "[Text(0.5, 1.0, '자치구 분포')]"
      ]
     },
     "execution_count": 199,
     "metadata": {},
     "output_type": "execute_result"
    },
    {
     "data": {
      "image/png": "[encoded data removed]",
      "text/plain": [
       "<Figure size 432x432 with 1 Axes>"
      ]
     },
     "metadata": {
      "needs_background": "light"
     },
     "output_type": "display_data"
    }
   ],
   "source": [
    "plt.figure(figsize=(6,6))\n",
    "sns.countplot(data=df[df['자치구']=='서대문구'],x='자치구',hue='영업상태명').set(title='자치구 분포')"
   ]
  },
  {
   "cell_type": "code",
   "execution_count": 198,
   "metadata": {},
   "outputs": [
    {
     "data": {
      "text/plain": [
       "[Text(0.5, 1.0, '자치구 분포')]"
      ]
     },
     "execution_count": 198,
     "metadata": {},
     "output_type": "execute_result"
    },
    {
     "data": {
      "image/png": "[encoded data removed]",
      "text/plain": [
       "<Figure size 1296x432 with 1 Axes>"
      ]
     },
     "metadata": {
      "needs_background": "light"
     },
     "output_type": "display_data"
    }
   ],
   "source": [
    "plt.figure(figsize=(18,6))\n",
    "sns.countplot(data=df[(df['자치구']!='None')&(df['자치구']!='서대문구')],x='자치구',hue='영업상태명').set(title='자치구 분포')"
   ]
  },
  {
   "cell_type": "code",
   "execution_count": 191,
   "metadata": {},
   "outputs": [
    {
     "data": {
      "text/plain": [
       "[Text(0.5, 1.0, '도시별 영업상태')]"
      ]
     },
     "execution_count": 191,
     "metadata": {},
     "output_type": "execute_result"
    },
    {
     "data": {
      "image/png": "[encoded data removed]",
      "text/plain": [
       "<Figure size 1296x432 with 1 Axes>"
      ]
     },
     "metadata": {
      "needs_background": "light"
     },
     "output_type": "display_data"
    }
   ],
   "source": [
    "plt.figure(figsize=(18,6))\n",
    "sns.countplot(data=df,x='도시',hue='영업상태명').set(title='도시별 영업상태')"
   ]
  },
  {
   "cell_type": "code",
   "execution_count": 190,
   "metadata": {},
   "outputs": [
    {
     "data": {
      "text/plain": [
       "[Text(0.5, 1.0, '사업기간(년)')]"
      ]
     },
     "execution_count": 190,
     "metadata": {},
     "output_type": "execute_result"
    },
    {
     "data": {
      "image/png": "[encoded data removed]",
      "text/plain": [
       "<Figure size 1296x432 with 1 Axes>"
      ]
     },
     "metadata": {
      "needs_background": "light"
     },
     "output_type": "display_data"
    }
   ],
   "source": [
    "plt.figure(figsize=(18,6))\n",
    "sns.countplot(data=df.sort_values('사업기간'),x='사업기간').set(title='사업기간(년)')"
   ]
  },
  {
   "cell_type": "code",
   "execution_count": 195,
   "metadata": {},
   "outputs": [
    {
     "data": {
      "text/plain": [
       "[Text(0.5, 1.0, '자치구별 사업기간')]"
      ]
     },
     "execution_count": 195,
     "metadata": {},
     "output_type": "execute_result"
    },
    {
     "data": {
      "image/png": "[encoded data removed]",
      "text/plain": [
       "<Figure size 1296x432 with 1 Axes>"
      ]
     },
     "metadata": {
      "needs_background": "light"
     },
     "output_type": "display_data"
    }
   ],
   "source": [
    "plt.figure(figsize=(18,6))\n",
    "sub_df = df[df['자치구']!='None'].groupby(['자치구'],as_index=False)['사업기간'].mean()\n",
    "sns.barplot(data=sub_df.sort_values('사업기간',ascending=False),x='자치구',y='사업기간').set(title='자치구별 사업기간')"
   ]
  },
  {
   "attachments": {},
   "cell_type": "markdown",
   "metadata": {},
   "source": [
    "**영업상태명, 상세영업상태명 분포는?**\n",
    "\n",
    "- 폐업 상태가 대부분이고 취소 및 말소, 정상, 휴업 순으로 크다.\n",
    "\n",
    "- 취소 및 말소의 경우 직권말소인 경우가 대부분이다.\n",
    "\n",
    "**자산규모, 부채총액, 자본금 분포는?**\n",
    "\n",
    "- 자산규모, 부채총액, 자본금의 경우 수천만원-수억원 사이가 대부분이나 자본의 편차가 크다.\n",
    "\n",
    "**영업상태별 자산규모, 부채총액, 자본금은?**\n",
    "\n",
    "- 폐업, 취소 및 말소의 경우 자본금보다 부채총액이 높지만 정상,휴업의 경우 부채총액보다 자본금이 더 높다.\n",
    "\n",
    "**자치구, 도시 분포는?**\n",
    "\n",
    "- 대부분 서울특별시이다.\n",
    "\n",
    "- 서대문구가 대부분을 차지하며, 서대문구를 제외한 구는 모두 폐업, 취소 및 말소 상태다.\n",
    "\n",
    "**도시별 영업상태는?**\n",
    "\n",
    "- 서울특별시는 전체 분포와 비슷하고 고양시는 모두 폐업 상태이다.\n",
    "\n",
    "**사업기간 분포는?**\n",
    "\n",
    "- 사업의 30%이상은 1년안에 폐업을 하고, 이를 제외하면 2년동안 사업을 유지하는 비율이 가장 높다.\n",
    "\n",
    "- 일반적으로 0년-6년동안 사업이 유지된다.\n",
    "\n",
    "**자치구별 평균 사업기간은?**\n",
    "\n",
    "- 인천부평구와 은평구가 평균 8년이상 가장 오래 사업을 유지한다.\n",
    "\n",
    "- 강북구가 평균 0년으로 가장 사업기간이 짧고, 강서구와 은평구가 평균 3년정도로 강북구 다음으로 사업기간이 짧다."
   ]
  },
  {
   "cell_type": "code",
   "execution_count": null,
   "metadata": {},
   "outputs": [],
   "source": []
  }
 ],
 "metadata": {
  "kernelspec": {
   "display_name": "Python 3",
   "language": "python",
   "name": "python3"
  },
  "language_info": {
   "codemirror_mode": {
    "name": "ipython",
    "version": 3
   },
   "file_extension": ".py",
   "mimetype": "text/x-python",
   "name": "python",
   "nbconvert_exporter": "python",
   "pygments_lexer": "ipython3",
   "version": "3.8.6"
  },
  "orig_nbformat": 4,
  "vscode": {
   "interpreter": {
    "hash": "4410f3b2d65baa5768f7572e00bd3f92c8cde4189408977fd2f0d4d8fecfc7c1"
   }
  }
 },
 "nbformat": 4,
 "nbformat_minor": 2
}
