{
 "cells": [
  {
   "cell_type": "code",
   "execution_count": 1,
   "metadata": {},
   "outputs": [],
   "source": [
    "import pandas as pd\n",
    "import numpy as np\n",
    "import matplotlib.pyplot as plt\n",
    "import seaborn as sns\n",
    "import glob\n",
    "import time\n",
    "\n",
    "import warnings\n",
    "warnings.filterwarnings('ignore')"
   ]
  },
  {
   "cell_type": "code",
   "execution_count": 2,
   "metadata": {},
   "outputs": [],
   "source": [
    "plt.rcParams['font.family'] = ['NanumGothic','sans-serif']\n",
    "plt.rcParams['axes.unicode_minus'] = False"
   ]
  },
  {
   "cell_type": "code",
   "execution_count": 72,
   "metadata": {},
   "outputs": [
    {
     "data": {
      "text/plain": [
       "['G:\\\\내 드라이브\\\\Colab Notebooks\\\\데이터분석\\\\.data\\\\서울열린데이터광장\\\\서울시 뉴딜일자리 사업정보\\\\서울시 뉴딜일자리 사업정보.json']"
      ]
     },
     "execution_count": 72,
     "metadata": {},
     "output_type": "execute_result"
    }
   ],
   "source": [
    "files = glob.glob('G:\\내 드라이브\\Colab Notebooks\\데이터분석\\.data\\서울열린데이터광장\\서울시 뉴딜일자리 사업정보\\*.json')\n",
    "files"
   ]
  },
  {
   "cell_type": "code",
   "execution_count": 73,
   "metadata": {},
   "outputs": [],
   "source": [
    "import json\n",
    " \n",
    "with open(files[0],encoding='utf-8') as f:\n",
    "    js = json.loads(f.read()) "
   ]
  },
  {
   "cell_type": "code",
   "execution_count": 74,
   "metadata": {},
   "outputs": [
    {
     "data": {
      "text/html": [
       "<div>\n",
       "<style scoped>\n",
       "    .dataframe tbody tr th:only-of-type {\n",
       "        vertical-align: middle;\n",
       "    }\n",
       "\n",
       "    .dataframe tbody tr th {\n",
       "        vertical-align: top;\n",
       "    }\n",
       "\n",
       "    .dataframe thead th {\n",
       "        text-align: right;\n",
       "    }\n",
       "</style>\n",
       "<table border=\"1\" class=\"dataframe\">\n",
       "  <thead>\n",
       "    <tr style=\"text-align: right;\">\n",
       "      <th></th>\n",
       "      <th>파트타임 시급</th>\n",
       "      <th>전일근무 시급</th>\n",
       "      <th>뉴딜사업명</th>\n",
       "      <th>전일근무 일근로시간</th>\n",
       "      <th>상위사업분류</th>\n",
       "      <th>파트타임 계획인원</th>\n",
       "      <th>사업유형</th>\n",
       "      <th>근로기간 시작일자</th>\n",
       "      <th>전일근무 계획인원</th>\n",
       "      <th>사업목적</th>\n",
       "      <th>...</th>\n",
       "      <th>참여대상</th>\n",
       "      <th>근로기간 종료일자</th>\n",
       "      <th>이런일을 합니다</th>\n",
       "      <th>파트타임 일근로시간</th>\n",
       "      <th>전일근무 금회선발인원</th>\n",
       "      <th>사업년도</th>\n",
       "      <th>하위기관명</th>\n",
       "      <th>하위사업분류</th>\n",
       "      <th>사업담당자 전화번호</th>\n",
       "      <th>상위기관명</th>\n",
       "    </tr>\n",
       "  </thead>\n",
       "  <tbody>\n",
       "    <tr>\n",
       "      <th>0</th>\n",
       "      <td>0</td>\n",
       "      <td>11157</td>\n",
       "      <td>고성능 분석장비를 이용한 286개 수질항목 모니터링</td>\n",
       "      <td>8</td>\n",
       "      <td>환경,안전</td>\n",
       "      <td>0</td>\n",
       "      <td>시직접추진</td>\n",
       "      <td>20230403</td>\n",
       "      <td>1</td>\n",
       "      <td>○ 5년 이상의 경력을 보유한 서울물연구원의 전문 연구원으로부터 고성능 분석기기 ...</td>\n",
       "      <td>...</td>\n",
       "      <td>청년</td>\n",
       "      <td>20240329</td>\n",
       "      <td>○ 고성능 분석기기(GC-MS/MS, LC-MS/MS, ICP-MS 등)를 사용하여...</td>\n",
       "      <td>0</td>\n",
       "      <td>None</td>\n",
       "      <td>2023</td>\n",
       "      <td>상수도사업본부</td>\n",
       "      <td>환경·에너지·안전</td>\n",
       "      <td>02-3146-1767</td>\n",
       "      <td>사업소</td>\n",
       "    </tr>\n",
       "    <tr>\n",
       "      <th>1</th>\n",
       "      <td>0</td>\n",
       "      <td>11157</td>\n",
       "      <td>회계지원 활동가, 코디네이터</td>\n",
       "      <td>8</td>\n",
       "      <td>경제</td>\n",
       "      <td>0</td>\n",
       "      <td>자치구추긴</td>\n",
       "      <td>20230401</td>\n",
       "      <td>1</td>\n",
       "      <td>○ 사회적경제기업의 경쟁력 강화\\r\\n○ 관악구 사회적경제기업의 회계지원을 통한 기...</td>\n",
       "      <td>...</td>\n",
       "      <td>청년</td>\n",
       "      <td>20240331</td>\n",
       "      <td>○ 역할 \\r\\n？ 관내 사회적경제 기업의 회계업무지원\\r\\n - 관내 5~7개업체...</td>\n",
       "      <td>0</td>\n",
       "      <td>None</td>\n",
       "      <td>2023</td>\n",
       "      <td>관악구</td>\n",
       "      <td>기획·회계·사무</td>\n",
       "      <td>02-879-5753</td>\n",
       "      <td>자치구</td>\n",
       "    </tr>\n",
       "    <tr>\n",
       "      <th>2</th>\n",
       "      <td>0</td>\n",
       "      <td>11157</td>\n",
       "      <td>청년취업컨설팅 매니저</td>\n",
       "      <td>8</td>\n",
       "      <td>복지</td>\n",
       "      <td>0</td>\n",
       "      <td>자치구추긴</td>\n",
       "      <td>20230401</td>\n",
       "      <td>1</td>\n",
       "      <td>취업난을 겪는 청년을 위한 청년 맞춤형 취업상담, 취업알선 등 구직활동 지원\\r\\n...</td>\n",
       "      <td>...</td>\n",
       "      <td>청년</td>\n",
       "      <td>20240331</td>\n",
       "      <td>○ 미취업 청년들의 어려움에 공감하고 청년과 소통하는 청년 맞춤 취업상담 및 구인구...</td>\n",
       "      <td>0</td>\n",
       "      <td>None</td>\n",
       "      <td>2023</td>\n",
       "      <td>강북구</td>\n",
       "      <td>사회복지·보육·상담</td>\n",
       "      <td>02-901-7253</td>\n",
       "      <td>자치구</td>\n",
       "    </tr>\n",
       "    <tr>\n",
       "      <th>3</th>\n",
       "      <td>0</td>\n",
       "      <td>11157</td>\n",
       "      <td>청각장애인과 함께하는 도서문화진흥 전문 사서 양성</td>\n",
       "      <td>8</td>\n",
       "      <td>문화</td>\n",
       "      <td>0</td>\n",
       "      <td>자치구추긴</td>\n",
       "      <td>20230401</td>\n",
       "      <td>2</td>\n",
       "      <td>○ 사회적약자인 청각장애인의 지식정보격차 해소와 독서 능력 강화를 지원하기 위해 청...</td>\n",
       "      <td>...</td>\n",
       "      <td>일반</td>\n",
       "      <td>20240331</td>\n",
       "      <td>○ 수어영상도서관 자료실 운영 및 관리(청각장애인을 위한 수어변환 대체영상자료 포함...</td>\n",
       "      <td>0</td>\n",
       "      <td>None</td>\n",
       "      <td>2023</td>\n",
       "      <td>서대문구</td>\n",
       "      <td>문화·예술·디자인·방송</td>\n",
       "      <td>02-330-1241</td>\n",
       "      <td>자치구</td>\n",
       "    </tr>\n",
       "    <tr>\n",
       "      <th>4</th>\n",
       "      <td>0</td>\n",
       "      <td>11157</td>\n",
       "      <td>주거관리 및 집수리 전문인력 양성</td>\n",
       "      <td>8</td>\n",
       "      <td>교육,혁신</td>\n",
       "      <td>0</td>\n",
       "      <td>자치구추긴</td>\n",
       "      <td>20230401</td>\n",
       "      <td>2</td>\n",
       "      <td>○ 건축·건설 분야 고령화 및 초보자 취업연계의 어려움을 해소\\r\\n○ 집수리 및 ...</td>\n",
       "      <td>...</td>\n",
       "      <td>청년</td>\n",
       "      <td>20240331</td>\n",
       "      <td>○ 역    할: 교육프로그램 기획 및 운영, 긴급 주거 집수리지원 및 교육 운영(...</td>\n",
       "      <td>0</td>\n",
       "      <td>None</td>\n",
       "      <td>2023</td>\n",
       "      <td>영등포구</td>\n",
       "      <td>건설·기계·재료·화학</td>\n",
       "      <td>02-2670-1665</td>\n",
       "      <td>자치구</td>\n",
       "    </tr>\n",
       "  </tbody>\n",
       "</table>\n",
       "<p>5 rows × 23 columns</p>\n",
       "</div>"
      ],
      "text/plain": [
       "  파트타임 시급 전일근무 시급                         뉴딜사업명 전일근무 일근로시간 상위사업분류 파트타임 계획인원  \\\n",
       "0       0   11157  고성능 분석장비를 이용한 286개 수질항목 모니터링          8  환경,안전         0   \n",
       "1       0   11157               회계지원 활동가, 코디네이터          8     경제         0   \n",
       "2       0   11157                   청년취업컨설팅 매니저          8     복지         0   \n",
       "3       0   11157   청각장애인과 함께하는 도서문화진흥 전문 사서 양성          8     문화         0   \n",
       "4       0   11157            주거관리 및 집수리 전문인력 양성          8  교육,혁신         0   \n",
       "\n",
       "    사업유형 근로기간 시작일자 전일근무 계획인원  \\\n",
       "0  시직접추진  20230403         1   \n",
       "1  자치구추긴  20230401         1   \n",
       "2  자치구추긴  20230401         1   \n",
       "3  자치구추긴  20230401         2   \n",
       "4  자치구추긴  20230401         2   \n",
       "\n",
       "                                                사업목적  ... 참여대상 근로기간 종료일자  \\\n",
       "0   ○ 5년 이상의 경력을 보유한 서울물연구원의 전문 연구원으로부터 고성능 분석기기 ...  ...   청년  20240329   \n",
       "1  ○ 사회적경제기업의 경쟁력 강화\\r\\n○ 관악구 사회적경제기업의 회계지원을 통한 기...  ...   청년  20240331   \n",
       "2  취업난을 겪는 청년을 위한 청년 맞춤형 취업상담, 취업알선 등 구직활동 지원\\r\\n...  ...   청년  20240331   \n",
       "3  ○ 사회적약자인 청각장애인의 지식정보격차 해소와 독서 능력 강화를 지원하기 위해 청...  ...   일반  20240331   \n",
       "4  ○ 건축·건설 분야 고령화 및 초보자 취업연계의 어려움을 해소\\r\\n○ 집수리 및 ...  ...   청년  20240331   \n",
       "\n",
       "                                            이런일을 합니다 파트타임 일근로시간 전일근무 금회선발인원  \\\n",
       "0  ○ 고성능 분석기기(GC-MS/MS, LC-MS/MS, ICP-MS 등)를 사용하여...          0        None   \n",
       "1  ○ 역할 \\r\\n？ 관내 사회적경제 기업의 회계업무지원\\r\\n - 관내 5~7개업체...          0        None   \n",
       "2  ○ 미취업 청년들의 어려움에 공감하고 청년과 소통하는 청년 맞춤 취업상담 및 구인구...          0        None   \n",
       "3  ○ 수어영상도서관 자료실 운영 및 관리(청각장애인을 위한 수어변환 대체영상자료 포함...          0        None   \n",
       "4  ○ 역    할: 교육프로그램 기획 및 운영, 긴급 주거 집수리지원 및 교육 운영(...          0        None   \n",
       "\n",
       "   사업년도    하위기관명        하위사업분류    사업담당자 전화번호 상위기관명  \n",
       "0  2023  상수도사업본부     환경·에너지·안전  02-3146-1767   사업소  \n",
       "1  2023      관악구      기획·회계·사무   02-879-5753   자치구  \n",
       "2  2023      강북구    사회복지·보육·상담   02-901-7253   자치구  \n",
       "3  2023     서대문구  문화·예술·디자인·방송   02-330-1241   자치구  \n",
       "4  2023     영등포구   건설·기계·재료·화학  02-2670-1665   자치구  \n",
       "\n",
       "[5 rows x 23 columns]"
      ]
     },
     "execution_count": 74,
     "metadata": {},
     "output_type": "execute_result"
    }
   ],
   "source": [
    "df = pd.DataFrame(columns=js['DESCRIPTION'].values())\n",
    "\n",
    "for data in js['DATA']:\n",
    "    tmp_df = pd.DataFrame(columns=js['DESCRIPTION'].values())\n",
    "    for c in data:\n",
    "        tmp_df[js['DESCRIPTION'][c.upper()]] = [data[c]]\n",
    "    df = pd.concat([df,tmp_df],ignore_index=True)\n",
    "df.head()"
   ]
  },
  {
   "cell_type": "code",
   "execution_count": 75,
   "metadata": {},
   "outputs": [
    {
     "name": "stdout",
     "output_type": "stream",
     "text": [
      "<class 'pandas.core.frame.DataFrame'>\n",
      "RangeIndex: 2037 entries, 0 to 2036\n",
      "Data columns (total 23 columns):\n",
      " #   Column       Non-Null Count  Dtype \n",
      "---  ------       --------------  ----- \n",
      " 0   파트타임 시급      1602 non-null   object\n",
      " 1   전일근무 시급      1612 non-null   object\n",
      " 2   뉴딜사업명        2037 non-null   object\n",
      " 3   전일근무 일근로시간   1615 non-null   object\n",
      " 4   상위사업분류       2037 non-null   object\n",
      " 5   파트타임 계획인원    1607 non-null   object\n",
      " 6   사업유형         2037 non-null   object\n",
      " 7   근로기간 시작일자    2035 non-null   object\n",
      " 8   전일근무 계획인원    1624 non-null   object\n",
      " 9   사업목적         1698 non-null   object\n",
      " 10  근무조건         1639 non-null   object\n",
      " 11  파트타임 금회선발인원  120 non-null    object\n",
      " 12  부서명          1739 non-null   object\n",
      " 13  참여대상         2032 non-null   object\n",
      " 14  근로기간 종료일자    2035 non-null   object\n",
      " 15  이런일을 합니다     1624 non-null   object\n",
      " 16  파트타임 일근로시간   1605 non-null   object\n",
      " 17  전일근무 금회선발인원  754 non-null    object\n",
      " 18  사업년도         2037 non-null   object\n",
      " 19  하위기관명        2037 non-null   object\n",
      " 20  하위사업분류       2037 non-null   object\n",
      " 21  사업담당자 전화번호   2037 non-null   object\n",
      " 22  상위기관명        2037 non-null   object\n",
      "dtypes: object(23)\n",
      "memory usage: 366.1+ KB\n"
     ]
    }
   ],
   "source": [
    "df.info()"
   ]
  },
  {
   "cell_type": "code",
   "execution_count": 76,
   "metadata": {},
   "outputs": [
    {
     "data": {
      "text/html": [
       "<div>\n",
       "<style scoped>\n",
       "    .dataframe tbody tr th:only-of-type {\n",
       "        vertical-align: middle;\n",
       "    }\n",
       "\n",
       "    .dataframe tbody tr th {\n",
       "        vertical-align: top;\n",
       "    }\n",
       "\n",
       "    .dataframe thead th {\n",
       "        text-align: right;\n",
       "    }\n",
       "</style>\n",
       "<table border=\"1\" class=\"dataframe\">\n",
       "  <thead>\n",
       "    <tr style=\"text-align: right;\">\n",
       "      <th></th>\n",
       "      <th>파트타임 시급</th>\n",
       "      <th>전일근무 시급</th>\n",
       "      <th>뉴딜사업명</th>\n",
       "      <th>전일근무 일근로시간</th>\n",
       "      <th>상위사업분류</th>\n",
       "      <th>파트타임 계획인원</th>\n",
       "      <th>사업유형</th>\n",
       "      <th>근로기간 시작일자</th>\n",
       "      <th>전일근무 계획인원</th>\n",
       "      <th>사업목적</th>\n",
       "      <th>...</th>\n",
       "      <th>참여대상</th>\n",
       "      <th>근로기간 종료일자</th>\n",
       "      <th>이런일을 합니다</th>\n",
       "      <th>파트타임 일근로시간</th>\n",
       "      <th>전일근무 금회선발인원</th>\n",
       "      <th>사업년도</th>\n",
       "      <th>하위기관명</th>\n",
       "      <th>하위사업분류</th>\n",
       "      <th>사업담당자 전화번호</th>\n",
       "      <th>상위기관명</th>\n",
       "    </tr>\n",
       "  </thead>\n",
       "  <tbody>\n",
       "    <tr>\n",
       "      <th>count</th>\n",
       "      <td>1602</td>\n",
       "      <td>1612</td>\n",
       "      <td>2037</td>\n",
       "      <td>1615</td>\n",
       "      <td>2037</td>\n",
       "      <td>1607</td>\n",
       "      <td>2037</td>\n",
       "      <td>2035</td>\n",
       "      <td>1624</td>\n",
       "      <td>1698</td>\n",
       "      <td>...</td>\n",
       "      <td>2032</td>\n",
       "      <td>2035</td>\n",
       "      <td>1624</td>\n",
       "      <td>1605</td>\n",
       "      <td>754</td>\n",
       "      <td>2037</td>\n",
       "      <td>2037</td>\n",
       "      <td>2037</td>\n",
       "      <td>2037</td>\n",
       "      <td>2037</td>\n",
       "    </tr>\n",
       "    <tr>\n",
       "      <th>unique</th>\n",
       "      <td>16</td>\n",
       "      <td>29</td>\n",
       "      <td>1627</td>\n",
       "      <td>9</td>\n",
       "      <td>5</td>\n",
       "      <td>45</td>\n",
       "      <td>4</td>\n",
       "      <td>199</td>\n",
       "      <td>75</td>\n",
       "      <td>1579</td>\n",
       "      <td>...</td>\n",
       "      <td>5</td>\n",
       "      <td>85</td>\n",
       "      <td>1509</td>\n",
       "      <td>9</td>\n",
       "      <td>44</td>\n",
       "      <td>11</td>\n",
       "      <td>105</td>\n",
       "      <td>17</td>\n",
       "      <td>926</td>\n",
       "      <td>5</td>\n",
       "    </tr>\n",
       "    <tr>\n",
       "      <th>top</th>\n",
       "      <td>0</td>\n",
       "      <td>10770</td>\n",
       "      <td>생활문화예술 코디네이터</td>\n",
       "      <td>8</td>\n",
       "      <td>문화</td>\n",
       "      <td>0</td>\n",
       "      <td>자치구추긴</td>\n",
       "      <td>20170101</td>\n",
       "      <td>2</td>\n",
       "      <td>.</td>\n",
       "      <td>...</td>\n",
       "      <td>청년</td>\n",
       "      <td>20171231</td>\n",
       "      <td>강소기업 등에서 현장실무 일경험\\r\\n기업 일경험 기간 중 역량강화 전담멘토 지정\\...</td>\n",
       "      <td>0</td>\n",
       "      <td>2</td>\n",
       "      <td>2018</td>\n",
       "      <td>민간공모</td>\n",
       "      <td>문화·예술·디자인·방송</td>\n",
       "      <td>010--</td>\n",
       "      <td>자치구</td>\n",
       "    </tr>\n",
       "    <tr>\n",
       "      <th>freq</th>\n",
       "      <td>1350</td>\n",
       "      <td>262</td>\n",
       "      <td>6</td>\n",
       "      <td>1385</td>\n",
       "      <td>619</td>\n",
       "      <td>1431</td>\n",
       "      <td>906</td>\n",
       "      <td>262</td>\n",
       "      <td>251</td>\n",
       "      <td>21</td>\n",
       "      <td>...</td>\n",
       "      <td>1184</td>\n",
       "      <td>264</td>\n",
       "      <td>7</td>\n",
       "      <td>1407</td>\n",
       "      <td>132</td>\n",
       "      <td>309</td>\n",
       "      <td>250</td>\n",
       "      <td>588</td>\n",
       "      <td>409</td>\n",
       "      <td>879</td>\n",
       "    </tr>\n",
       "  </tbody>\n",
       "</table>\n",
       "<p>4 rows × 23 columns</p>\n",
       "</div>"
      ],
      "text/plain": [
       "        파트타임 시급  전일근무 시급          뉴딜사업명  전일근무 일근로시간 상위사업분류  파트타임 계획인원   사업유형  \\\n",
       "count      1602     1612           2037        1615   2037       1607   2037   \n",
       "unique       16       29           1627           9      5         45      4   \n",
       "top           0    10770  생활문화예술 코디네이터            8     문화          0  자치구추긴   \n",
       "freq       1350      262              6        1385    619       1431    906   \n",
       "\n",
       "       근로기간 시작일자  전일근무 계획인원  사업목적  ...  참여대상  근로기간 종료일자  \\\n",
       "count       2035       1624  1698  ...  2032       2035   \n",
       "unique       199         75  1579  ...     5         85   \n",
       "top     20170101          2     .  ...    청년   20171231   \n",
       "freq         262        251    21  ...  1184        264   \n",
       "\n",
       "                                                 이런일을 합니다 파트타임 일근로시간  \\\n",
       "count                                                1624       1605   \n",
       "unique                                               1509          9   \n",
       "top     강소기업 등에서 현장실무 일경험\\r\\n기업 일경험 기간 중 역량강화 전담멘토 지정\\...          0   \n",
       "freq                                                    7       1407   \n",
       "\n",
       "       전일근무 금회선발인원  사업년도  하위기관명        하위사업분류 사업담당자 전화번호 상위기관명  \n",
       "count          754  2037   2037          2037       2037  2037  \n",
       "unique          44    11    105            17        926     5  \n",
       "top              2  2018   민간공모  문화·예술·디자인·방송      010--   자치구  \n",
       "freq           132   309    250           588        409   879  \n",
       "\n",
       "[4 rows x 23 columns]"
      ]
     },
     "execution_count": 76,
     "metadata": {},
     "output_type": "execute_result"
    }
   ],
   "source": [
    "df.describe(include=np.object)"
   ]
  },
  {
   "cell_type": "code",
   "execution_count": 77,
   "metadata": {},
   "outputs": [
    {
     "data": {
      "text/plain": [
       "파트타임 시급         435\n",
       "전일근무 시급         425\n",
       "뉴딜사업명             0\n",
       "전일근무 일근로시간      422\n",
       "상위사업분류            0\n",
       "파트타임 계획인원       430\n",
       "사업유형              0\n",
       "근로기간 시작일자         2\n",
       "전일근무 계획인원       413\n",
       "사업목적            339\n",
       "근무조건            398\n",
       "파트타임 금회선발인원    1917\n",
       "부서명             298\n",
       "참여대상              5\n",
       "근로기간 종료일자         2\n",
       "이런일을 합니다        413\n",
       "파트타임 일근로시간      432\n",
       "전일근무 금회선발인원    1283\n",
       "사업년도              0\n",
       "하위기관명             0\n",
       "하위사업분류            0\n",
       "사업담당자 전화번호        0\n",
       "상위기관명             0\n",
       "dtype: int64"
      ]
     },
     "execution_count": 77,
     "metadata": {},
     "output_type": "execute_result"
    }
   ],
   "source": [
    "df.isnull().sum()"
   ]
  },
  {
   "attachments": {},
   "cell_type": "markdown",
   "metadata": {},
   "source": [
    "**파트타임 시급, 전일근무 시급 분포는?**\n",
    "\n",
    "**전일근무 일근로시간,파트타임 일근로시간 분포는?**\n",
    "\n",
    "**년도별/월별 파트타임 시급, 전일근무 시급 평균은?**\n",
    "\n",
    "**년도별/월별 전일근무 일근로시간,파트타임 일근로시간 평균은?**\n",
    "\n",
    "**년도별/월별 파트타임 계획인원, 전일근무 계획인원은?**\n",
    "\n",
    "**년도별 상위사업분류 분포는?**\n",
    "\n",
    "**각 상위사업분류 내 하위산업분류 비율은?**\n",
    "\n",
    "**사업유형별 파트타임 시급, 전일근무 시급 평균은?**\n",
    "\n",
    "**사업유형별 전일근무 일근로시간, 파트타임 일근로시간 평균은?**\n",
    "\n",
    "**참여대상별 파트타임 시급, 전일근무 시급 평균은?**\n",
    "\n",
    "**참여대상별 전일근무 일근로시간, 파트타임 일근로시간 평균은?**"
   ]
  },
  {
   "attachments": {},
   "cell_type": "markdown",
   "metadata": {},
   "source": [
    "## 전처리"
   ]
  },
  {
   "cell_type": "code",
   "execution_count": 78,
   "metadata": {},
   "outputs": [],
   "source": [
    "int_cols = ['파트타임 시급', '전일근무 시급', '전일근무 일근로시간', '파트타임 계획인원', '전일근무 계획인원', '파트타임 금회선발인원', '파트타임 일근로시간', '전일근무 금회선발인원']\n",
    "df[int_cols] = df[int_cols].fillna('0')"
   ]
  },
  {
   "cell_type": "code",
   "execution_count": 79,
   "metadata": {},
   "outputs": [],
   "source": [
    "df[int_cols] = df[int_cols].astype('int')"
   ]
  },
  {
   "cell_type": "code",
   "execution_count": 80,
   "metadata": {},
   "outputs": [],
   "source": [
    "df.drop(df[df['근로기간 시작일자'].isnull()].index,inplace=True)\n",
    "df.reset_index(drop=True,inplace=True)"
   ]
  },
  {
   "cell_type": "code",
   "execution_count": 81,
   "metadata": {},
   "outputs": [],
   "source": [
    "df.fillna('None',inplace=True)"
   ]
  },
  {
   "cell_type": "code",
   "execution_count": 86,
   "metadata": {},
   "outputs": [
    {
     "data": {
      "text/plain": [
       "1962      201502\n",
       "1950      201504\n",
       "1595    20080101\n",
       "1286    20100220\n",
       "2034    20130101\n",
       "          ...   \n",
       "95      20230401\n",
       "96      20230401\n",
       "97      20230401\n",
       "83      20230401\n",
       "0       20230403\n",
       "Name: 근로기간 시작일자, Length: 2035, dtype: int32"
      ]
     },
     "execution_count": 86,
     "metadata": {},
     "output_type": "execute_result"
    }
   ],
   "source": [
    "df['근로기간 시작일자'].astype('int').sort_values()\n"
   ]
  },
  {
   "cell_type": "code",
   "execution_count": 87,
   "metadata": {},
   "outputs": [],
   "source": [
    "df['근로기간 시작일자'].loc[1950] = '20150401'\n",
    "df['근로기간 시작일자'].loc[1962] = '20150201'"
   ]
  },
  {
   "cell_type": "code",
   "execution_count": 88,
   "metadata": {},
   "outputs": [],
   "source": [
    "df['시작년도'] = df.apply(lambda x:x['근로기간 시작일자'][:4],axis=1)\n",
    "df['시작월'] = df.apply(lambda x:x['근로기간 시작일자'][4:6],axis=1)\n",
    "df['시작일'] = df.apply(lambda x:x['근로기간 시작일자'][6:8],axis=1)\n",
    "df['종료년도'] = df.apply(lambda x:x['근로기간 종료일자'][:4],axis=1)\n",
    "df['종료월'] = df.apply(lambda x:x['근로기간 종료일자'][4:6],axis=1)\n",
    "df['종료일'] = df.apply(lambda x:x['근로기간 종료일자'][6:8],axis=1)\n",
    "df.drop(['근로기간 시작일자'],axis=1,inplace=True)\n",
    "df.drop(['근로기간 종료일자'],axis=1,inplace=True)"
   ]
  },
  {
   "cell_type": "code",
   "execution_count": 49,
   "metadata": {},
   "outputs": [
    {
     "data": {
      "text/plain": [
       "파트타임 시급        0\n",
       "전일근무 시급        0\n",
       "뉴딜사업명          0\n",
       "전일근무 일근로시간     0\n",
       "상위사업분류         0\n",
       "파트타임 계획인원      0\n",
       "사업유형           0\n",
       "전일근무 계획인원      0\n",
       "사업목적           0\n",
       "근무조건           0\n",
       "파트타임 금회선발인원    0\n",
       "부서명            0\n",
       "참여대상           0\n",
       "이런일을 합니다       0\n",
       "파트타임 일근로시간     0\n",
       "전일근무 금회선발인원    0\n",
       "사업년도           0\n",
       "하위기관명          0\n",
       "하위사업분류         0\n",
       "사업담당자 전화번호     0\n",
       "상위기관명          0\n",
       "시작년도           0\n",
       "시작월            0\n",
       "시작일            0\n",
       "종료년도           0\n",
       "종료월            0\n",
       "종료일            0\n",
       "dtype: int64"
      ]
     },
     "execution_count": 49,
     "metadata": {},
     "output_type": "execute_result"
    }
   ],
   "source": [
    "df.isnull().sum()"
   ]
  },
  {
   "cell_type": "code",
   "execution_count": 89,
   "metadata": {},
   "outputs": [],
   "source": [
    "date_cols = ['시작년도','시작월','시작일','종료년도','종료월','종료일']\n",
    "df[date_cols] = df[date_cols].astype('int')"
   ]
  },
  {
   "attachments": {},
   "cell_type": "markdown",
   "metadata": {},
   "source": [
    "## 시각화"
   ]
  },
  {
   "cell_type": "code",
   "execution_count": 110,
   "metadata": {},
   "outputs": [
    {
     "data": {
      "text/plain": [
       "[Text(0.5, 1.0, '전일근무 시급 분포'), Text(0, 0.5, 'count')]"
      ]
     },
     "execution_count": 110,
     "metadata": {},
     "output_type": "execute_result"
    },
    {
     "data": {
      "image/png": "[encoded data removed]",
      "text/plain": [
       "<Figure size 1296x864 with 2 Axes>"
      ]
     },
     "metadata": {
      "needs_background": "light"
     },
     "output_type": "display_data"
    }
   ],
   "source": [
    "sub_df1 = df.groupby(by=['파트타임 시급'],as_index=False).count()\n",
    "sub_df2 = df.groupby(by=['전일근무 시급'],as_index=False).count()\n",
    "fig,axes = plt.subplots(2,1,figsize=(18,12),sharex=True)\n",
    "sns.histplot(data=sub_df1[sub_df1['파트타임 시급']!=0]['파트타임 시급'],ax=axes[0]).set(title='파트타임 시급 분포',ylabel='count')\n",
    "sns.histplot(data=sub_df2[sub_df2['전일근무 시급']!=0]['전일근무 시급'],ax=axes[1]).set(title='전일근무 시급 분포',ylabel='count')"
   ]
  },
  {
   "cell_type": "code",
   "execution_count": 116,
   "metadata": {},
   "outputs": [
    {
     "data": {
      "text/plain": [
       "[Text(0.5, 1.0, '전일근무 일근로시간 분포'), Text(0, 0.5, 'count')]"
      ]
     },
     "execution_count": 116,
     "metadata": {},
     "output_type": "execute_result"
    },
    {
     "data": {
      "image/png": "[encoded data removed]",
      "text/plain": [
       "<Figure size 1296x864 with 2 Axes>"
      ]
     },
     "metadata": {
      "needs_background": "light"
     },
     "output_type": "display_data"
    }
   ],
   "source": [
    "sub_df1 = df.groupby(by=['파트타임 일근로시간'],as_index=False).count()\n",
    "sub_df2 = df.groupby(by=['전일근무 일근로시간'],as_index=False).count()\n",
    "fig,axes = plt.subplots(2,1,figsize=(18,12))\n",
    "sns.histplot(data=sub_df1[sub_df1['파트타임 일근로시간']!=0]['파트타임 일근로시간'],bins=40,ax=axes[0]).set(title='파트타임 일근로시간 분포',ylabel='count')\n",
    "sns.histplot(data=sub_df2[sub_df2['전일근무 일근로시간']!=0]['전일근무 일근로시간'],bins=40,ax=axes[1]).set(title='전일근무 일근로시간 분포',ylabel='count')"
   ]
  },
  {
   "cell_type": "code",
   "execution_count": 123,
   "metadata": {},
   "outputs": [
    {
     "data": {
      "text/plain": [
       "[Text(0.5, 1.0, '연도별 전일근무 시급 평균')]"
      ]
     },
     "execution_count": 123,
     "metadata": {},
     "output_type": "execute_result"
    },
    {
     "data": {
      "image/png": "[encoded data removed]",
      "text/plain": [
       "<Figure size 1440x432 with 2 Axes>"
      ]
     },
     "metadata": {
      "needs_background": "light"
     },
     "output_type": "display_data"
    }
   ],
   "source": [
    "sub_df = df[(df['파트타임 시급']!=0)&(df['전일근무 시급']!=0)].groupby(by=['시작년도'],as_index=False)['파트타임 시급','전일근무 시급'].mean()\n",
    "fig,axes = plt.subplots(1,2,figsize=(20,6))\n",
    "sns.barplot(data=sub_df,x='시작년도',y='파트타임 시급',ax=axes[0]).set(title='연도별 파트타임 시급 평균')\n",
    "sns.barplot(data=sub_df,x='시작년도',y='전일근무 시급',ax=axes[1]).set(title='연도별 전일근무 시급 평균')"
   ]
  },
  {
   "cell_type": "code",
   "execution_count": 126,
   "metadata": {},
   "outputs": [
    {
     "data": {
      "text/plain": [
       "[Text(0.5, 1.0, '월별 전일근무 시급 평균')]"
      ]
     },
     "execution_count": 126,
     "metadata": {},
     "output_type": "execute_result"
    },
    {
     "data": {
      "image/png": "[encoded data removed]",
      "text/plain": [
       "<Figure size 1440x432 with 2 Axes>"
      ]
     },
     "metadata": {
      "needs_background": "light"
     },
     "output_type": "display_data"
    }
   ],
   "source": [
    "sub_df = df[(df['파트타임 시급']!=0)&(df['전일근무 시급']!=0)].groupby(by=['시작월'],as_index=False)['파트타임 시급','전일근무 시급'].mean()\n",
    "fig,axes = plt.subplots(1,2,figsize=(20,6))\n",
    "sns.barplot(data=sub_df,x='시작월',y='파트타임 시급',ax=axes[0]).set(title='월별 파트타임 시급 평균')\n",
    "sns.barplot(data=sub_df,x='시작월',y='전일근무 시급',ax=axes[1]).set(title='월별 전일근무 시급 평균')"
   ]
  },
  {
   "cell_type": "code",
   "execution_count": 124,
   "metadata": {},
   "outputs": [
    {
     "data": {
      "text/plain": [
       "[Text(0.5, 1.0, '연도별 전일근무 일근로시간 평균')]"
      ]
     },
     "execution_count": 124,
     "metadata": {},
     "output_type": "execute_result"
    },
    {
     "data": {
      "image/png": "[encoded data removed]",
      "text/plain": [
       "<Figure size 1440x432 with 2 Axes>"
      ]
     },
     "metadata": {
      "needs_background": "light"
     },
     "output_type": "display_data"
    }
   ],
   "source": [
    "sub_df = df[(df['파트타임 일근로시간']!=0)&(df['전일근무 일근로시간']!=0)].groupby(by=['시작년도'],as_index=False)['파트타임 일근로시간','전일근무 일근로시간'].mean()\n",
    "fig,axes = plt.subplots(1,2,figsize=(20,6))\n",
    "sns.barplot(data=sub_df,x='시작년도',y='파트타임 일근로시간',ax=axes[0]).set(title='연도별 파트타임 일근로시간 평균')\n",
    "sns.barplot(data=sub_df,x='시작년도',y='전일근무 일근로시간',ax=axes[1]).set(title='연도별 전일근무 일근로시간 평균')"
   ]
  },
  {
   "cell_type": "code",
   "execution_count": 127,
   "metadata": {},
   "outputs": [
    {
     "data": {
      "text/plain": [
       "[Text(0.5, 1.0, '월별 전일근무 일근로시간 평균')]"
      ]
     },
     "execution_count": 127,
     "metadata": {},
     "output_type": "execute_result"
    },
    {
     "data": {
      "image/png": "[encoded data removed]",
      "text/plain": [
       "<Figure size 1440x432 with 2 Axes>"
      ]
     },
     "metadata": {
      "needs_background": "light"
     },
     "output_type": "display_data"
    }
   ],
   "source": [
    "sub_df = df[(df['파트타임 일근로시간']!=0)&(df['전일근무 일근로시간']!=0)].groupby(by=['시작월'],as_index=False)['파트타임 일근로시간','전일근무 일근로시간'].mean()\n",
    "fig,axes = plt.subplots(1,2,figsize=(20,6))\n",
    "sns.barplot(data=sub_df,x='시작월',y='파트타임 일근로시간',ax=axes[0]).set(title='월별 파트타임 일근로시간 평균')\n",
    "sns.barplot(data=sub_df,x='시작월',y='전일근무 일근로시간',ax=axes[1]).set(title='월별 전일근무 일근로시간 평균')"
   ]
  },
  {
   "cell_type": "code",
   "execution_count": 129,
   "metadata": {},
   "outputs": [
    {
     "data": {
      "text/plain": [
       "[Text(0.5, 1.0, '연도별 전일근무 계획인원')]"
      ]
     },
     "execution_count": 129,
     "metadata": {},
     "output_type": "execute_result"
    },
    {
     "data": {
      "image/png": "[encoded data removed]",
      "text/plain": [
       "<Figure size 1440x432 with 2 Axes>"
      ]
     },
     "metadata": {
      "needs_background": "light"
     },
     "output_type": "display_data"
    }
   ],
   "source": [
    "sub_df = df[(df['파트타임 계획인원']!=0)&(df['전일근무 계획인원']!=0)].groupby(by=['시작년도'],as_index=False)['파트타임 계획인원','전일근무 계획인원'].sum()\n",
    "fig,axes = plt.subplots(1,2,figsize=(20,6))\n",
    "sns.barplot(data=sub_df,x='시작년도',y='파트타임 계획인원',ax=axes[0]).set(title='연도별 파트타임 계획인원')\n",
    "sns.barplot(data=sub_df,x='시작년도',y='전일근무 계획인원',ax=axes[1]).set(title='연도별 전일근무 계획인원')"
   ]
  },
  {
   "cell_type": "code",
   "execution_count": 130,
   "metadata": {},
   "outputs": [
    {
     "data": {
      "text/plain": [
       "[Text(0.5, 1.0, '월별 전일근무 계획인원')]"
      ]
     },
     "execution_count": 130,
     "metadata": {},
     "output_type": "execute_result"
    },
    {
     "data": {
      "image/png": "[encoded data removed]",
      "text/plain": [
       "<Figure size 1440x432 with 2 Axes>"
      ]
     },
     "metadata": {
      "needs_background": "light"
     },
     "output_type": "display_data"
    }
   ],
   "source": [
    "sub_df = df[(df['파트타임 계획인원']!=0)&(df['전일근무 계획인원']!=0)].groupby(by=['시작월'],as_index=False)['파트타임 계획인원','전일근무 계획인원'].sum()\n",
    "fig,axes = plt.subplots(1,2,figsize=(20,6))\n",
    "sns.barplot(data=sub_df,x='시작월',y='파트타임 계획인원',ax=axes[0]).set(title='월별 파트타임 계획인원')\n",
    "sns.barplot(data=sub_df,x='시작월',y='전일근무 계획인원',ax=axes[1]).set(title='월별 전일근무 계획인원')"
   ]
  },
  {
   "cell_type": "code",
   "execution_count": null,
   "metadata": {},
   "outputs": [],
   "source": []
  }
 ],
 "metadata": {
  "kernelspec": {
   "display_name": "Python 3",
   "language": "python",
   "name": "python3"
  },
  "language_info": {
   "codemirror_mode": {
    "name": "ipython",
    "version": 3
   },
   "file_extension": ".py",
   "mimetype": "text/x-python",
   "name": "python",
   "nbconvert_exporter": "python",
   "pygments_lexer": "ipython3",
   "version": "3.8.6"
  },
  "orig_nbformat": 4,
  "vscode": {
   "interpreter": {
    "hash": "4410f3b2d65baa5768f7572e00bd3f92c8cde4189408977fd2f0d4d8fecfc7c1"
   }
  }
 },
 "nbformat": 4,
 "nbformat_minor": 2
}
