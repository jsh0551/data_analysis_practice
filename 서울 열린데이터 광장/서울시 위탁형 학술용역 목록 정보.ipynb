{
 "cells": [
  {
   "cell_type": "code",
   "execution_count": 1,
   "metadata": {},
   "outputs": [],
   "source": [
    "import pandas as pd\n",
    "import matplotlib.pyplot as plt\n",
    "import seaborn as sns\n",
    "import numpy as np\n",
    "import glob\n",
    "from datetime import datetime,timedelta\n",
    "import re\n",
    "\n",
    "import warnings\n",
    "warnings.filterwarnings('ignore')"
   ]
  },
  {
   "cell_type": "code",
   "execution_count": 2,
   "metadata": {},
   "outputs": [],
   "source": [
    "plt.rcParams['font.family']=['NanumGothic', 'sans-serif']\n",
    "plt.rcParams['axes.unicode_minus'] = False"
   ]
  },
  {
   "cell_type": "code",
   "execution_count": 9,
   "metadata": {},
   "outputs": [
    {
     "data": {
      "text/plain": [
       "['G:\\\\내 드라이브\\\\Colab Notebooks\\\\데이터분석\\\\.data\\\\서울열린데이터광장\\\\서울시 위탁형 학술용역 목록 정보\\\\서울시 위탁형 학술용역 목록 정보.csv']"
      ]
     },
     "execution_count": 9,
     "metadata": {},
     "output_type": "execute_result"
    }
   ],
   "source": [
    "files = glob.glob('G:\\내 드라이브\\Colab Notebooks\\데이터분석\\.data\\서울열린데이터광장\\서울시 위탁형 학술용역 목록 정보\\*.csv')\n",
    "files"
   ]
  },
  {
   "cell_type": "code",
   "execution_count": 10,
   "metadata": {},
   "outputs": [
    {
     "data": {
      "text/html": [
       "<div>\n",
       "<style scoped>\n",
       "    .dataframe tbody tr th:only-of-type {\n",
       "        vertical-align: middle;\n",
       "    }\n",
       "\n",
       "    .dataframe tbody tr th {\n",
       "        vertical-align: top;\n",
       "    }\n",
       "\n",
       "    .dataframe thead th {\n",
       "        text-align: right;\n",
       "    }\n",
       "</style>\n",
       "<table border=\"1\" class=\"dataframe\">\n",
       "  <thead>\n",
       "    <tr style=\"text-align: right;\">\n",
       "      <th></th>\n",
       "      <th>ID</th>\n",
       "      <th>용역명</th>\n",
       "      <th>용역기간(시작)</th>\n",
       "      <th>용역기간(끝)</th>\n",
       "      <th>용역기관</th>\n",
       "      <th>필요성</th>\n",
       "      <th>연구개요</th>\n",
       "    </tr>\n",
       "  </thead>\n",
       "  <tbody>\n",
       "    <tr>\n",
       "      <th>0</th>\n",
       "      <td>24337</td>\n",
       "      <td>공공건설 품질관리 및 품질 시험검정 개선방안 연구용역</td>\n",
       "      <td>2019-12-09</td>\n",
       "      <td>2020-03-31</td>\n",
       "      <td>(주)날리지웍스</td>\n",
       "      <td>○ 시책(양재R&amp;D혁신지구 조성)에 따른 별관 검사시설 이전 설치의 적정 규모 및 ...</td>\n",
       "      <td>○ 양재R&amp;D지구 조성에 따른 별관 검정시설 이전 신규 조성 규모 검토 ○ 부실공사...</td>\n",
       "    </tr>\n",
       "    <tr>\n",
       "      <th>1</th>\n",
       "      <td>22477</td>\n",
       "      <td>누리과정 개편에 따른 서울시어린이집 평가체계 개선 방안 연구</td>\n",
       "      <td>2019-06-24</td>\n",
       "      <td>2019-09-21</td>\n",
       "      <td>사단법인 한국생태유아교육연구소</td>\n",
       "      <td>○ 2020년부터 실시될 누리과정 및 표준보육과정의 개편과 함께 새로운 교육과정의 ...</td>\n",
       "      <td>○ 국내 어린이집 평가체계 및 질 관리 관련 선행연구 결과 분석  ○ 1990년대 ...</td>\n",
       "    </tr>\n",
       "    <tr>\n",
       "      <th>2</th>\n",
       "      <td>20717</td>\n",
       "      <td>주거용 집합건물 유형별 세대별 관리방법 연구</td>\n",
       "      <td>2019-05-09</td>\n",
       "      <td>2019-12-09</td>\n",
       "      <td>(사)한국주거서비스소사이어티대한주택관리사협회</td>\n",
       "      <td>○ 집합건물 관리 민원 및 분쟁 등 해소를 위해 구분소유자 합의로 만든 규약이 절대...</td>\n",
       "      <td>○ 연구기관 : 미정 ○ 연구기간 : 10개월(‘19.2~’19.11) ○ 연구내용...</td>\n",
       "    </tr>\n",
       "    <tr>\n",
       "      <th>3</th>\n",
       "      <td>22117</td>\n",
       "      <td>제2차 람사스습지 한강밤섬관리 기본계획수립 연구 용역</td>\n",
       "      <td>2019-03-15</td>\n",
       "      <td>2019-09-15</td>\n",
       "      <td>동국대학교 산학협력단</td>\n",
       "      <td>- 2012.6.21 람사르협약에 의한 람사르습지로 지정 등록 - 습지보전법 제9조...</td>\n",
       "      <td>- 사 업 명 : 제2차 람사르습지 한강밤섬관리 기본계획 수립 연구용역 - 사업기간...</td>\n",
       "    </tr>\n",
       "    <tr>\n",
       "      <th>4</th>\n",
       "      <td>21897</td>\n",
       "      <td>자원회수시설 주변영향지역 주민건강영향 조사-연구(6단계 1차)</td>\n",
       "      <td>2019-02-11</td>\n",
       "      <td>2019-12-07</td>\n",
       "      <td>연세대학교 산학협력단</td>\n",
       "      <td>- 공신력 있는 전문기관에서 장기 연구를 위한 지역 연구대상군을 구성하여 지속적으로...</td>\n",
       "      <td>- 자원회수시설 주변 지역의 환경 및 인체영향 조사 - 혈중 유해 물질의 경향 분석...</td>\n",
       "    </tr>\n",
       "  </tbody>\n",
       "</table>\n",
       "</div>"
      ],
      "text/plain": [
       "      ID                                 용역명    용역기간(시작)     용역기간(끝)  \\\n",
       "0  24337       공공건설 품질관리 및 품질 시험검정 개선방안 연구용역  2019-12-09  2020-03-31   \n",
       "1  22477   누리과정 개편에 따른 서울시어린이집 평가체계 개선 방안 연구  2019-06-24  2019-09-21   \n",
       "2  20717            주거용 집합건물 유형별 세대별 관리방법 연구  2019-05-09  2019-12-09   \n",
       "3  22117       제2차 람사스습지 한강밤섬관리 기본계획수립 연구 용역  2019-03-15  2019-09-15   \n",
       "4  21897  자원회수시설 주변영향지역 주민건강영향 조사-연구(6단계 1차)  2019-02-11  2019-12-07   \n",
       "\n",
       "                       용역기관  \\\n",
       "0                  (주)날리지웍스   \n",
       "1          사단법인 한국생태유아교육연구소   \n",
       "2  (사)한국주거서비스소사이어티대한주택관리사협회   \n",
       "3               동국대학교 산학협력단   \n",
       "4               연세대학교 산학협력단   \n",
       "\n",
       "                                                 필요성  \\\n",
       "0  ○ 시책(양재R&D혁신지구 조성)에 따른 별관 검사시설 이전 설치의 적정 규모 및 ...   \n",
       "1  ○ 2020년부터 실시될 누리과정 및 표준보육과정의 개편과 함께 새로운 교육과정의 ...   \n",
       "2  ○ 집합건물 관리 민원 및 분쟁 등 해소를 위해 구분소유자 합의로 만든 규약이 절대...   \n",
       "3  - 2012.6.21 람사르협약에 의한 람사르습지로 지정 등록 - 습지보전법 제9조...   \n",
       "4  - 공신력 있는 전문기관에서 장기 연구를 위한 지역 연구대상군을 구성하여 지속적으로...   \n",
       "\n",
       "                                                연구개요  \n",
       "0  ○ 양재R&D지구 조성에 따른 별관 검정시설 이전 신규 조성 규모 검토 ○ 부실공사...  \n",
       "1  ○ 국내 어린이집 평가체계 및 질 관리 관련 선행연구 결과 분석  ○ 1990년대 ...  \n",
       "2  ○ 연구기관 : 미정 ○ 연구기간 : 10개월(‘19.2~’19.11) ○ 연구내용...  \n",
       "3  - 사 업 명 : 제2차 람사르습지 한강밤섬관리 기본계획 수립 연구용역 - 사업기간...  \n",
       "4  - 자원회수시설 주변 지역의 환경 및 인체영향 조사 - 혈중 유해 물질의 경향 분석...  "
      ]
     },
     "execution_count": 10,
     "metadata": {},
     "output_type": "execute_result"
    }
   ],
   "source": [
    "df = pd.read_csv(files[0],encoding='cp949')\n",
    "df.head()"
   ]
  },
  {
   "cell_type": "code",
   "execution_count": 11,
   "metadata": {},
   "outputs": [
    {
     "name": "stdout",
     "output_type": "stream",
     "text": [
      "<class 'pandas.core.frame.DataFrame'>\n",
      "RangeIndex: 327 entries, 0 to 326\n",
      "Data columns (total 7 columns):\n",
      " #   Column    Non-Null Count  Dtype \n",
      "---  ------    --------------  ----- \n",
      " 0   ID        327 non-null    int64 \n",
      " 1   용역명       327 non-null    object\n",
      " 2   용역기간(시작)  327 non-null    object\n",
      " 3   용역기간(끝)   327 non-null    object\n",
      " 4   용역기관      327 non-null    object\n",
      " 5   필요성       327 non-null    object\n",
      " 6   연구개요      327 non-null    object\n",
      "dtypes: int64(1), object(6)\n",
      "memory usage: 18.0+ KB\n"
     ]
    }
   ],
   "source": [
    "df.info()"
   ]
  },
  {
   "cell_type": "code",
   "execution_count": 12,
   "metadata": {},
   "outputs": [
    {
     "data": {
      "text/html": [
       "<div>\n",
       "<style scoped>\n",
       "    .dataframe tbody tr th:only-of-type {\n",
       "        vertical-align: middle;\n",
       "    }\n",
       "\n",
       "    .dataframe tbody tr th {\n",
       "        vertical-align: top;\n",
       "    }\n",
       "\n",
       "    .dataframe thead th {\n",
       "        text-align: right;\n",
       "    }\n",
       "</style>\n",
       "<table border=\"1\" class=\"dataframe\">\n",
       "  <thead>\n",
       "    <tr style=\"text-align: right;\">\n",
       "      <th></th>\n",
       "      <th>ID</th>\n",
       "    </tr>\n",
       "  </thead>\n",
       "  <tbody>\n",
       "    <tr>\n",
       "      <th>count</th>\n",
       "      <td>327.000000</td>\n",
       "    </tr>\n",
       "    <tr>\n",
       "      <th>mean</th>\n",
       "      <td>6801.770642</td>\n",
       "    </tr>\n",
       "    <tr>\n",
       "      <th>std</th>\n",
       "      <td>4912.366047</td>\n",
       "    </tr>\n",
       "    <tr>\n",
       "      <th>min</th>\n",
       "      <td>30.000000</td>\n",
       "    </tr>\n",
       "    <tr>\n",
       "      <th>25%</th>\n",
       "      <td>3075.500000</td>\n",
       "    </tr>\n",
       "    <tr>\n",
       "      <th>50%</th>\n",
       "      <td>6277.000000</td>\n",
       "    </tr>\n",
       "    <tr>\n",
       "      <th>75%</th>\n",
       "      <td>8257.000000</td>\n",
       "    </tr>\n",
       "    <tr>\n",
       "      <th>max</th>\n",
       "      <td>24337.000000</td>\n",
       "    </tr>\n",
       "  </tbody>\n",
       "</table>\n",
       "</div>"
      ],
      "text/plain": [
       "                 ID\n",
       "count    327.000000\n",
       "mean    6801.770642\n",
       "std     4912.366047\n",
       "min       30.000000\n",
       "25%     3075.500000\n",
       "50%     6277.000000\n",
       "75%     8257.000000\n",
       "max    24337.000000"
      ]
     },
     "execution_count": 12,
     "metadata": {},
     "output_type": "execute_result"
    }
   ],
   "source": [
    "df.describe()"
   ]
  },
  {
   "cell_type": "code",
   "execution_count": 13,
   "metadata": {},
   "outputs": [
    {
     "data": {
      "text/html": [
       "<div>\n",
       "<style scoped>\n",
       "    .dataframe tbody tr th:only-of-type {\n",
       "        vertical-align: middle;\n",
       "    }\n",
       "\n",
       "    .dataframe tbody tr th {\n",
       "        vertical-align: top;\n",
       "    }\n",
       "\n",
       "    .dataframe thead th {\n",
       "        text-align: right;\n",
       "    }\n",
       "</style>\n",
       "<table border=\"1\" class=\"dataframe\">\n",
       "  <thead>\n",
       "    <tr style=\"text-align: right;\">\n",
       "      <th></th>\n",
       "      <th>용역명</th>\n",
       "      <th>용역기간(시작)</th>\n",
       "      <th>용역기간(끝)</th>\n",
       "      <th>용역기관</th>\n",
       "      <th>필요성</th>\n",
       "      <th>연구개요</th>\n",
       "    </tr>\n",
       "  </thead>\n",
       "  <tbody>\n",
       "    <tr>\n",
       "      <th>count</th>\n",
       "      <td>327</td>\n",
       "      <td>327</td>\n",
       "      <td>327</td>\n",
       "      <td>327</td>\n",
       "      <td>327</td>\n",
       "      <td>327</td>\n",
       "    </tr>\n",
       "    <tr>\n",
       "      <th>unique</th>\n",
       "      <td>327</td>\n",
       "      <td>299</td>\n",
       "      <td>287</td>\n",
       "      <td>191</td>\n",
       "      <td>326</td>\n",
       "      <td>326</td>\n",
       "    </tr>\n",
       "    <tr>\n",
       "      <th>top</th>\n",
       "      <td>공공건설 품질관리 및 품질 시험검정 개선방안 연구용역</td>\n",
       "      <td>2007-11-22</td>\n",
       "      <td>2013-12-31</td>\n",
       "      <td>서울시정개발연구원</td>\n",
       "      <td>○ 서울시 자연환경보전조례(제26조)는 효율적인 자연자산의 관리를 위하여 10년마다...</td>\n",
       "      <td>○ 다이옥신 등 자원회수시설로 인한 유해물질이 주변지역 주민의 건강에 미치는 영향을...</td>\n",
       "    </tr>\n",
       "    <tr>\n",
       "      <th>freq</th>\n",
       "      <td>1</td>\n",
       "      <td>3</td>\n",
       "      <td>5</td>\n",
       "      <td>30</td>\n",
       "      <td>2</td>\n",
       "      <td>2</td>\n",
       "    </tr>\n",
       "  </tbody>\n",
       "</table>\n",
       "</div>"
      ],
      "text/plain": [
       "                                  용역명    용역기간(시작)     용역기간(끝)       용역기관  \\\n",
       "count                             327         327         327        327   \n",
       "unique                            327         299         287        191   \n",
       "top     공공건설 품질관리 및 품질 시험검정 개선방안 연구용역  2007-11-22  2013-12-31  서울시정개발연구원   \n",
       "freq                                1           3           5         30   \n",
       "\n",
       "                                                      필요성  \\\n",
       "count                                                 327   \n",
       "unique                                                326   \n",
       "top     ○ 서울시 자연환경보전조례(제26조)는 효율적인 자연자산의 관리를 위하여 10년마다...   \n",
       "freq                                                    2   \n",
       "\n",
       "                                                     연구개요  \n",
       "count                                                 327  \n",
       "unique                                                326  \n",
       "top     ○ 다이옥신 등 자원회수시설로 인한 유해물질이 주변지역 주민의 건강에 미치는 영향을...  \n",
       "freq                                                    2  "
      ]
     },
     "execution_count": 13,
     "metadata": {},
     "output_type": "execute_result"
    }
   ],
   "source": [
    "df.describe(include=np.object)"
   ]
  },
  {
   "cell_type": "code",
   "execution_count": 14,
   "metadata": {},
   "outputs": [
    {
     "data": {
      "text/plain": [
       "ID          0\n",
       "용역명         0\n",
       "용역기간(시작)    0\n",
       "용역기간(끝)     0\n",
       "용역기관        0\n",
       "필요성         0\n",
       "연구개요        0\n",
       "dtype: int64"
      ]
     },
     "execution_count": 14,
     "metadata": {},
     "output_type": "execute_result"
    }
   ],
   "source": [
    "df.isnull().sum()"
   ]
  },
  {
   "attachments": {},
   "cell_type": "markdown",
   "metadata": {},
   "source": [
    "**분야별 분포는?**\n",
    "\n",
    "**시작년도,시작월,종료년도,종료월 분포는?**\n",
    "\n",
    "**사업기간 분포는?**\n",
    "\n",
    "**분야별 평균 사업기간은?**"
   ]
  },
  {
   "attachments": {},
   "cell_type": "markdown",
   "metadata": {},
   "source": [
    "## 전처리"
   ]
  },
  {
   "cell_type": "code",
   "execution_count": 57,
   "metadata": {},
   "outputs": [],
   "source": [
    "df.drop('ID',axis=1,inplace=True)"
   ]
  },
  {
   "cell_type": "code",
   "execution_count": 52,
   "metadata": {},
   "outputs": [],
   "source": [
    "def convert_field(x):\n",
    "    if '에너지' in x:\n",
    "        return '에너지'\n",
    "    elif '건축' in x or '건설' in x or '건립' in x:\n",
    "        return '건축'\n",
    "    elif '복지' in x or '의료' in x or '돌봄' in x or '공공' in x or '장애' in x:\n",
    "        return '복지'\n",
    "    elif '환경'in x or '산림' in x or '오염물' in x or '생태' in x or '대기질' in x or '기후' in x:\n",
    "        return '환경'\n",
    "    elif '교통' in x:\n",
    "        return '교통'\n",
    "    elif '교육' in x:\n",
    "        return '교육'\n",
    "    elif '문화' in x or '관광' in x:\n",
    "        return '문화'\n",
    "    elif '법률' in x or '법제' in x or '법정' in x or '정책' in x or '제도' in x:\n",
    "        return '행정'\n",
    "    else:\n",
    "        return '기타'\n",
    "df['분야'] = df['필요성'].apply(convert_field)"
   ]
  },
  {
   "cell_type": "code",
   "execution_count": 53,
   "metadata": {},
   "outputs": [],
   "source": [
    "df['시작년도'] = df['용역기간(시작)'].apply(lambda x:datetime.strptime(x,'%Y-%m-%d').year)\n",
    "df['시작월'] = df['용역기간(시작)'].apply(lambda x:datetime.strptime(x,'%Y-%m-%d').month)\n",
    "df['종료년도'] = df['용역기간(끝)'].apply(lambda x:datetime.strptime(x,'%Y-%m-%d').year)\n",
    "df['종료월'] = df['용역기간(끝)'].apply(lambda x:datetime.strptime(x,'%Y-%m-%d').month)"
   ]
  },
  {
   "cell_type": "code",
   "execution_count": 54,
   "metadata": {},
   "outputs": [],
   "source": [
    "period = df['용역기간(끝)'].apply(lambda x : datetime.strptime(x,'%Y-%m-%d')) - df['용역기간(시작)'].apply(lambda x : datetime.strptime(x,'%Y-%m-%d'))\n",
    "df['사업기간'] = period.apply(lambda x : x.days//30)"
   ]
  },
  {
   "attachments": {},
   "cell_type": "markdown",
   "metadata": {},
   "source": [
    "## 시각화"
   ]
  },
  {
   "cell_type": "code",
   "execution_count": 58,
   "metadata": {},
   "outputs": [
    {
     "data": {
      "text/plain": [
       "[Text(0.5, 1.0, '분야별 분포')]"
      ]
     },
     "execution_count": 58,
     "metadata": {},
     "output_type": "execute_result"
    },
    {
     "data": {
      "image/png": "[encoded data removed]",
      "text/plain": [
       "<Figure size 1152x432 with 1 Axes>"
      ]
     },
     "metadata": {
      "needs_background": "light"
     },
     "output_type": "display_data"
    }
   ],
   "source": [
    "plt.figure(figsize=(16,6))\n",
    "sns.countplot(data=df,x='분야').set(title='분야별 분포')"
   ]
  },
  {
   "cell_type": "code",
   "execution_count": 70,
   "metadata": {},
   "outputs": [
    {
     "data": {
      "text/plain": [
       "[Text(0.5, 1.0, '종료년도')]"
      ]
     },
     "execution_count": 70,
     "metadata": {},
     "output_type": "execute_result"
    },
    {
     "data": {
      "image/png": "[encoded data removed]",
      "text/plain": [
       "<Figure size 720x720 with 2 Axes>"
      ]
     },
     "metadata": {
      "needs_background": "light"
     },
     "output_type": "display_data"
    }
   ],
   "source": [
    "y_cols = [i for i in range(2006,2021)]\n",
    "ig,axes = plt.subplots(2,1,figsize=(10,10))\n",
    "sns.countplot(data=df,x='시작년도',ax=axes[0],order=y_cols).set(title='시작년도')\n",
    "sns.countplot(data=df,x='종료년도',ax=axes[1],order=y_cols).set(title='종료년도')"
   ]
  },
  {
   "cell_type": "code",
   "execution_count": 71,
   "metadata": {},
   "outputs": [
    {
     "data": {
      "text/plain": [
       "[Text(0.5, 1.0, '종료월')]"
      ]
     },
     "execution_count": 71,
     "metadata": {},
     "output_type": "execute_result"
    },
    {
     "data": {
      "image/png": "[encoded data removed]",
      "text/plain": [
       "<Figure size 720x720 with 2 Axes>"
      ]
     },
     "metadata": {
      "needs_background": "light"
     },
     "output_type": "display_data"
    }
   ],
   "source": [
    "fig,axes = plt.subplots(2,1,figsize=(10,10))\n",
    "sns.countplot(data=df,x='시작월',ax=axes[0]).set(title='시작월')\n",
    "sns.countplot(data=df,x='종료월',ax=axes[1]).set(title='종료월')"
   ]
  },
  {
   "cell_type": "code",
   "execution_count": 60,
   "metadata": {},
   "outputs": [
    {
     "data": {
      "text/plain": [
       "[Text(0.5, 1.0, '기간 분포(월)')]"
      ]
     },
     "execution_count": 60,
     "metadata": {},
     "output_type": "execute_result"
    },
    {
     "data": {
      "image/png": "[encoded data removed]",
      "text/plain": [
       "<Figure size 1152x432 with 1 Axes>"
      ]
     },
     "metadata": {
      "needs_background": "light"
     },
     "output_type": "display_data"
    }
   ],
   "source": [
    "plt.figure(figsize=(16,6))\n",
    "sns.countplot(data=df,x='사업기간').set(title='기간 분포(월)')"
   ]
  },
  {
   "cell_type": "code",
   "execution_count": 73,
   "metadata": {},
   "outputs": [
    {
     "data": {
      "text/plain": [
       "[Text(0.5, 1.0, '분야별 평균 사업 기간')]"
      ]
     },
     "execution_count": 73,
     "metadata": {},
     "output_type": "execute_result"
    },
    {
     "data": {
      "image/png": "[encoded data removed]",
      "text/plain": [
       "<Figure size 1152x432 with 1 Axes>"
      ]
     },
     "metadata": {
      "needs_background": "light"
     },
     "output_type": "display_data"
    }
   ],
   "source": [
    "sub_df = df[df['분야']!='기타'].groupby(['분야'],as_index=False)['사업기간'].mean().sort_values('사업기간',ascending=False)\n",
    "plt.figure(figsize=(16,6))\n",
    "sns.barplot(data=sub_df,x='분야',y='사업기간').set(title='분야별 평균 사업 기간')"
   ]
  },
  {
   "attachments": {},
   "cell_type": "markdown",
   "metadata": {},
   "source": [
    "## 분석 결과\n",
    "\n",
    "**분야별 분포는?**\n",
    "\n",
    "- 환경,복지,건축,행정,문화 순으로 많다\n",
    "\n",
    "**시작년도,시작월,종료년도,종료월 분포는?**\n",
    "\n",
    "- 2007년과 2012-2014년도에 시작한 사업이 많고, 2008-2009년과 2013-2015년도에 종료한 사업이 많다.\n",
    "\n",
    "- 3-4월,7-8월,11-12월에 주로 시작하고 2월,12월에 주로 종료된다.\n",
    "\n",
    "**사업기간 분포는?**\n",
    "\n",
    "- 사업 기간은 주로 3개월-12개월에 분포하고 있다.\n",
    "\n",
    "**분야별 평균 사업기간은?**\n",
    "\n",
    "- 교통,환경,건축 등이 사업 기간이 오래 걸리고 복지,교육 등이 비교적 짧게 걸린다."
   ]
  },
  {
   "attachments": {},
   "cell_type": "markdown",
   "metadata": {},
   "source": [
    "## 분석 결과에 대한 생각\n",
    "\n",
    "- 사업 시작월과 종료월의 분포를 보았을 때, 특정 시기에 학술용역에 대한 수요가 집중된다고 볼 수 있다.\n",
    "\n",
    "- 사업기간과 종료월의 분포를 보았을 때,프로젝트를 당해까지 마감하려는 선호도 혹은 필요성이 있다고 볼 수 있다.\n",
    "\n",
    "- 분야에 따라 평균적인 사업기간이 상이한 점을 고려하여 용역 계획을 잘 설정할 필요가 있다."
   ]
  },
  {
   "cell_type": "code",
   "execution_count": null,
   "metadata": {},
   "outputs": [],
   "source": []
  }
 ],
 "metadata": {
  "kernelspec": {
   "display_name": "Python 3",
   "language": "python",
   "name": "python3"
  },
  "language_info": {
   "codemirror_mode": {
    "name": "ipython",
    "version": 3
   },
   "file_extension": ".py",
   "mimetype": "text/x-python",
   "name": "python",
   "nbconvert_exporter": "python",
   "pygments_lexer": "ipython3",
   "version": "3.8.6"
  },
  "orig_nbformat": 4,
  "vscode": {
   "interpreter": {
    "hash": "4410f3b2d65baa5768f7572e00bd3f92c8cde4189408977fd2f0d4d8fecfc7c1"
   }
  }
 },
 "nbformat": 4,
 "nbformat_minor": 2
}
