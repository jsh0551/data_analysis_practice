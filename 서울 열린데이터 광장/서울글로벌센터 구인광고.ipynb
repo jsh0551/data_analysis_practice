{
 "cells": [
  {
   "cell_type": "code",
   "execution_count": 1,
   "metadata": {},
   "outputs": [],
   "source": [
    "import pandas as pd\n",
    "import matplotlib.pyplot as plt\n",
    "import seaborn as sns\n",
    "import numpy as np\n",
    "import glob\n",
    "from datetime import datetime,timedelta\n",
    "\n",
    "import warnings\n",
    "warnings.filterwarnings('ignore')"
   ]
  },
  {
   "cell_type": "code",
   "execution_count": 258,
   "metadata": {},
   "outputs": [],
   "source": [
    "plt.rcParams['font.family']=['NanumGothic', 'sans-serif']\n",
    "plt.rcParams['axes.unicode_minus'] = False"
   ]
  },
  {
   "cell_type": "code",
   "execution_count": 259,
   "metadata": {},
   "outputs": [
    {
     "data": {
      "text/plain": [
       "['G:\\\\내 드라이브\\\\Colab Notebooks\\\\데이터분석\\\\.data\\\\서울열린데이터광장\\\\서울글로벌센터 구인광고\\\\서울글로벌센터 구인광고.json']"
      ]
     },
     "execution_count": 259,
     "metadata": {},
     "output_type": "execute_result"
    }
   ],
   "source": [
    "files = glob.glob('G:\\내 드라이브\\Colab Notebooks\\데이터분석\\.data\\서울열린데이터광장\\서울글로벌센터 구인광고\\*.json')\n",
    "files"
   ]
  },
  {
   "cell_type": "code",
   "execution_count": 260,
   "metadata": {},
   "outputs": [
    {
     "data": {
      "text/html": [
       "<div>\n",
       "<style scoped>\n",
       "    .dataframe tbody tr th:only-of-type {\n",
       "        vertical-align: middle;\n",
       "    }\n",
       "\n",
       "    .dataframe tbody tr th {\n",
       "        vertical-align: top;\n",
       "    }\n",
       "\n",
       "    .dataframe thead th {\n",
       "        text-align: right;\n",
       "    }\n",
       "</style>\n",
       "<table border=\"1\" class=\"dataframe\">\n",
       "  <thead>\n",
       "    <tr style=\"text-align: right;\">\n",
       "      <th></th>\n",
       "      <th>식별자</th>\n",
       "      <th>회사홈페이지</th>\n",
       "      <th>급여</th>\n",
       "      <th>회사주소</th>\n",
       "      <th>모집요강</th>\n",
       "      <th>회사명</th>\n",
       "      <th>조회수</th>\n",
       "      <th>추가정보</th>\n",
       "      <th>회사 담당자 전화번호</th>\n",
       "      <th>채용 종료일</th>\n",
       "      <th>요구사항</th>\n",
       "      <th>등록일</th>\n",
       "      <th>게시판 식별자</th>\n",
       "      <th>회사 담당자 팩스번호</th>\n",
       "      <th>업무설명</th>\n",
       "      <th>지역코드</th>\n",
       "      <th>제목</th>\n",
       "    </tr>\n",
       "  </thead>\n",
       "  <tbody>\n",
       "    <tr>\n",
       "      <th>0</th>\n",
       "      <td>28849</td>\n",
       "      <td>www.interways.co.kr</td>\n",
       "      <td>None</td>\n",
       "      <td>211, Itaewon-ro, Yongsan-gu, Seoul, Korea</td>\n",
       "      <td>Please send your resume to \\r\\nyunok@interways...</td>\n",
       "      <td>Interways</td>\n",
       "      <td>84</td>\n",
       "      <td>None</td>\n",
       "      <td>02-793-8866</td>\n",
       "      <td>2022.01.31</td>\n",
       "      <td>Required qualification:\\r\\n- Only candidates n...</td>\n",
       "      <td>1640790000000</td>\n",
       "      <td>101</td>\n",
       "      <td>None</td>\n",
       "      <td>We are looking for a consultant to join our te...</td>\n",
       "      <td>Seoul</td>\n",
       "      <td>Consultant</td>\n",
       "    </tr>\n",
       "    <tr>\n",
       "      <th>1</th>\n",
       "      <td>28839</td>\n",
       "      <td>None</td>\n",
       "      <td>None</td>\n",
       "      <td>서울특별시 성동구 아차산로7나길 18 APEX CENTER 508호</td>\n",
       "      <td>1. Recruitment Procedures\\r\\n\\r\\n- Deadline fo...</td>\n",
       "      <td>LIVE WITH</td>\n",
       "      <td>112</td>\n",
       "      <td>1. Location of office in English: \\r\\n   APEX ...</td>\n",
       "      <td>02-468-0601</td>\n",
       "      <td>2022.02.28</td>\n",
       "      <td>1. Excellent working knowledge of Adobe Creati...</td>\n",
       "      <td>1640617200000</td>\n",
       "      <td>101</td>\n",
       "      <td>02-468-0601</td>\n",
       "      <td>Company introduction: \\r\\n\\r\\n   LIVE WITH (리브...</td>\n",
       "      <td>Seoul</td>\n",
       "      <td>Video Editor ( Intern Position )</td>\n",
       "    </tr>\n",
       "    <tr>\n",
       "      <th>2</th>\n",
       "      <td>28838</td>\n",
       "      <td>None</td>\n",
       "      <td>None</td>\n",
       "      <td>서울특별시 성동구 아차산로7나길 18 APEX CENTER 508호</td>\n",
       "      <td>How to apply (all documents should be in Korea...</td>\n",
       "      <td>LIVE WITH</td>\n",
       "      <td>244</td>\n",
       "      <td>1. Location of office in English: \\r\\n   APEX ...</td>\n",
       "      <td>02-468-0601</td>\n",
       "      <td>2022.02.28</td>\n",
       "      <td>1. Academic background: Bachelor's degree or h...</td>\n",
       "      <td>1640617200000</td>\n",
       "      <td>101</td>\n",
       "      <td>02-468-0601</td>\n",
       "      <td>Company Introduction:\\r\\n\\r\\n   LIVE WITH (리브위...</td>\n",
       "      <td>Seoul</td>\n",
       "      <td>Marketing Associate ( Intern Position )</td>\n",
       "    </tr>\n",
       "    <tr>\n",
       "      <th>3</th>\n",
       "      <td>28837</td>\n",
       "      <td>None</td>\n",
       "      <td>None</td>\n",
       "      <td>서울특별시 성동구 아차산로7나길 18 APEX CENTER 508호</td>\n",
       "      <td>How to apply (all documents should be in Kore...</td>\n",
       "      <td>LIVE WITH</td>\n",
       "      <td>111</td>\n",
       "      <td>1. Location of office in English: \\r\\n   APEX ...</td>\n",
       "      <td>02-468-0601</td>\n",
       "      <td>2022.02.28</td>\n",
       "      <td>1. Good negotiation and coordination skills, p...</td>\n",
       "      <td>1640617200000</td>\n",
       "      <td>101</td>\n",
       "      <td>02-468-0601</td>\n",
       "      <td>Company introduction: \\r\\n\\r\\n   LIVE WITH (리브...</td>\n",
       "      <td>Seoul</td>\n",
       "      <td>Operation Assistant ( Intern Position)</td>\n",
       "    </tr>\n",
       "    <tr>\n",
       "      <th>4</th>\n",
       "      <td>28836</td>\n",
       "      <td>None</td>\n",
       "      <td>None</td>\n",
       "      <td>서울특별시 성동구 아차산로7나길 18 APEX CENTER 508호</td>\n",
       "      <td>How to apply (all documents should be in Ko...</td>\n",
       "      <td>LIVE WITH</td>\n",
       "      <td>184</td>\n",
       "      <td>1. Location of office in English: \\r\\n   APEX ...</td>\n",
       "      <td>02-468-0601</td>\n",
       "      <td>2022.02.28</td>\n",
       "      <td>1.Excellent coordination skills, smartly and e...</td>\n",
       "      <td>1640617200000</td>\n",
       "      <td>101</td>\n",
       "      <td>02-468-0601</td>\n",
       "      <td>Company Introduction: \\r\\n\\r\\n  LIVE WITH (리브위...</td>\n",
       "      <td>Seoul</td>\n",
       "      <td>Education Assistant (Intern Position)</td>\n",
       "    </tr>\n",
       "  </tbody>\n",
       "</table>\n",
       "</div>"
      ],
      "text/plain": [
       "     식별자               회사홈페이지    급여  \\\n",
       "0  28849  www.interways.co.kr  None   \n",
       "1  28839                 None  None   \n",
       "2  28838                 None  None   \n",
       "3  28837                 None  None   \n",
       "4  28836                 None  None   \n",
       "\n",
       "                                        회사주소  \\\n",
       "0  211, Itaewon-ro, Yongsan-gu, Seoul, Korea   \n",
       "1      서울특별시 성동구 아차산로7나길 18 APEX CENTER 508호   \n",
       "2      서울특별시 성동구 아차산로7나길 18 APEX CENTER 508호   \n",
       "3      서울특별시 성동구 아차산로7나길 18 APEX CENTER 508호   \n",
       "4      서울특별시 성동구 아차산로7나길 18 APEX CENTER 508호   \n",
       "\n",
       "                                                모집요강        회사명  조회수  \\\n",
       "0  Please send your resume to \\r\\nyunok@interways...  Interways   84   \n",
       "1  1. Recruitment Procedures\\r\\n\\r\\n- Deadline fo...  LIVE WITH  112   \n",
       "2  How to apply (all documents should be in Korea...  LIVE WITH  244   \n",
       "3   How to apply (all documents should be in Kore...  LIVE WITH  111   \n",
       "4     How to apply (all documents should be in Ko...  LIVE WITH  184   \n",
       "\n",
       "                                                추가정보  회사 담당자 전화번호      채용 종료일  \\\n",
       "0                                               None  02-793-8866  2022.01.31   \n",
       "1  1. Location of office in English: \\r\\n   APEX ...  02-468-0601  2022.02.28   \n",
       "2  1. Location of office in English: \\r\\n   APEX ...  02-468-0601  2022.02.28   \n",
       "3  1. Location of office in English: \\r\\n   APEX ...  02-468-0601  2022.02.28   \n",
       "4  1. Location of office in English: \\r\\n   APEX ...  02-468-0601  2022.02.28   \n",
       "\n",
       "                                                요구사항            등록일 게시판 식별자  \\\n",
       "0  Required qualification:\\r\\n- Only candidates n...  1640790000000     101   \n",
       "1  1. Excellent working knowledge of Adobe Creati...  1640617200000     101   \n",
       "2  1. Academic background: Bachelor's degree or h...  1640617200000     101   \n",
       "3  1. Good negotiation and coordination skills, p...  1640617200000     101   \n",
       "4  1.Excellent coordination skills, smartly and e...  1640617200000     101   \n",
       "\n",
       "   회사 담당자 팩스번호                                               업무설명   지역코드  \\\n",
       "0         None  We are looking for a consultant to join our te...  Seoul   \n",
       "1  02-468-0601  Company introduction: \\r\\n\\r\\n   LIVE WITH (리브...  Seoul   \n",
       "2  02-468-0601  Company Introduction:\\r\\n\\r\\n   LIVE WITH (리브위...  Seoul   \n",
       "3  02-468-0601  Company introduction: \\r\\n\\r\\n   LIVE WITH (리브...  Seoul   \n",
       "4  02-468-0601  Company Introduction: \\r\\n\\r\\n  LIVE WITH (리브위...  Seoul   \n",
       "\n",
       "                                        제목  \n",
       "0                               Consultant  \n",
       "1         Video Editor ( Intern Position )  \n",
       "2  Marketing Associate ( Intern Position )  \n",
       "3   Operation Assistant ( Intern Position)  \n",
       "4    Education Assistant (Intern Position)  "
      ]
     },
     "execution_count": 260,
     "metadata": {},
     "output_type": "execute_result"
    }
   ],
   "source": [
    "import json, pandas as pd\n",
    " \n",
    "with open(files[0],encoding='utf-8') as f:\n",
    "    js = json.loads(f.read()) \n",
    "\n",
    "\n",
    "df = pd.DataFrame(columns=js['DESCRIPTION'].values())\n",
    "\n",
    "for data in js['DATA']:\n",
    "    tmp_df = pd.DataFrame(columns=js['DESCRIPTION'].values())\n",
    "    for c in data:\n",
    "        tmp_df[js['DESCRIPTION'][c.upper()]] = [data[c]]\n",
    "    df = pd.concat([df,tmp_df],ignore_index=True)\n",
    "df = df.sort_values(by='식별자' ,ascending=False)\n",
    "df = df.reset_index(drop=True)\n",
    "df.head()"
   ]
  },
  {
   "cell_type": "code",
   "execution_count": 261,
   "metadata": {},
   "outputs": [
    {
     "name": "stdout",
     "output_type": "stream",
     "text": [
      "<class 'pandas.core.frame.DataFrame'>\n",
      "RangeIndex: 780 entries, 0 to 779\n",
      "Data columns (total 17 columns):\n",
      " #   Column       Non-Null Count  Dtype \n",
      "---  ------       --------------  ----- \n",
      " 0   식별자          780 non-null    object\n",
      " 1   회사홈페이지       652 non-null    object\n",
      " 2   급여           378 non-null    object\n",
      " 3   회사주소         780 non-null    object\n",
      " 4   모집요강         667 non-null    object\n",
      " 5   회사명          780 non-null    object\n",
      " 6   조회수          780 non-null    object\n",
      " 7   추가정보         494 non-null    object\n",
      " 8   회사 담당자 전화번호  466 non-null    object\n",
      " 9   채용 종료일       768 non-null    object\n",
      " 10  요구사항         734 non-null    object\n",
      " 11  등록일          780 non-null    object\n",
      " 12  게시판 식별자      780 non-null    object\n",
      " 13  회사 담당자 팩스번호  180 non-null    object\n",
      " 14  업무설명         780 non-null    object\n",
      " 15  지역코드         759 non-null    object\n",
      " 16  제목           780 non-null    object\n",
      "dtypes: object(17)\n",
      "memory usage: 103.7+ KB\n"
     ]
    }
   ],
   "source": [
    "df.info()"
   ]
  },
  {
   "cell_type": "code",
   "execution_count": 262,
   "metadata": {},
   "outputs": [
    {
     "data": {
      "text/html": [
       "<div>\n",
       "<style scoped>\n",
       "    .dataframe tbody tr th:only-of-type {\n",
       "        vertical-align: middle;\n",
       "    }\n",
       "\n",
       "    .dataframe tbody tr th {\n",
       "        vertical-align: top;\n",
       "    }\n",
       "\n",
       "    .dataframe thead th {\n",
       "        text-align: right;\n",
       "    }\n",
       "</style>\n",
       "<table border=\"1\" class=\"dataframe\">\n",
       "  <thead>\n",
       "    <tr style=\"text-align: right;\">\n",
       "      <th></th>\n",
       "      <th>식별자</th>\n",
       "      <th>회사홈페이지</th>\n",
       "      <th>급여</th>\n",
       "      <th>회사주소</th>\n",
       "      <th>모집요강</th>\n",
       "      <th>회사명</th>\n",
       "      <th>조회수</th>\n",
       "      <th>추가정보</th>\n",
       "      <th>회사 담당자 전화번호</th>\n",
       "      <th>채용 종료일</th>\n",
       "      <th>요구사항</th>\n",
       "      <th>등록일</th>\n",
       "      <th>게시판 식별자</th>\n",
       "      <th>회사 담당자 팩스번호</th>\n",
       "      <th>업무설명</th>\n",
       "      <th>지역코드</th>\n",
       "      <th>제목</th>\n",
       "    </tr>\n",
       "  </thead>\n",
       "  <tbody>\n",
       "    <tr>\n",
       "      <th>count</th>\n",
       "      <td>780</td>\n",
       "      <td>652</td>\n",
       "      <td>378</td>\n",
       "      <td>780</td>\n",
       "      <td>667</td>\n",
       "      <td>780</td>\n",
       "      <td>780</td>\n",
       "      <td>494</td>\n",
       "      <td>466</td>\n",
       "      <td>768</td>\n",
       "      <td>734</td>\n",
       "      <td>780</td>\n",
       "      <td>780</td>\n",
       "      <td>180</td>\n",
       "      <td>780</td>\n",
       "      <td>759</td>\n",
       "      <td>780</td>\n",
       "    </tr>\n",
       "    <tr>\n",
       "      <th>unique</th>\n",
       "      <td>780</td>\n",
       "      <td>343</td>\n",
       "      <td>184</td>\n",
       "      <td>478</td>\n",
       "      <td>607</td>\n",
       "      <td>384</td>\n",
       "      <td>674</td>\n",
       "      <td>442</td>\n",
       "      <td>250</td>\n",
       "      <td>390</td>\n",
       "      <td>704</td>\n",
       "      <td>523</td>\n",
       "      <td>1</td>\n",
       "      <td>105</td>\n",
       "      <td>753</td>\n",
       "      <td>12</td>\n",
       "      <td>659</td>\n",
       "    </tr>\n",
       "    <tr>\n",
       "      <th>top</th>\n",
       "      <td>28849</td>\n",
       "      <td>www.piip.co.kr</td>\n",
       "      <td>0</td>\n",
       "      <td>790-17 Hannam-Dong, #101 Yongsan-Gu, Seoul, Ko...</td>\n",
       "      <td>* Process : Document screening &gt;&gt; interview an...</td>\n",
       "      <td>SUIT MAKE</td>\n",
       "      <td>1408</td>\n",
       "      <td>COMPENSATION\\r\\n\\r\\nThis is an unpaid internsh...</td>\n",
       "      <td>02-566-0361</td>\n",
       "      <td>2021.12.31</td>\n",
       "      <td>* Master’s Degree preferred.\\r\\n\\r\\n* Exposure...</td>\n",
       "      <td>1615734000000</td>\n",
       "      <td>101</td>\n",
       "      <td>02-566-0364</td>\n",
       "      <td>• To use most of your time for marketing activ...</td>\n",
       "      <td>Seoul</td>\n",
       "      <td>Executive Recruiter</td>\n",
       "    </tr>\n",
       "    <tr>\n",
       "      <th>freq</th>\n",
       "      <td>1</td>\n",
       "      <td>18</td>\n",
       "      <td>53</td>\n",
       "      <td>26</td>\n",
       "      <td>7</td>\n",
       "      <td>36</td>\n",
       "      <td>4</td>\n",
       "      <td>8</td>\n",
       "      <td>16</td>\n",
       "      <td>33</td>\n",
       "      <td>5</td>\n",
       "      <td>11</td>\n",
       "      <td>780</td>\n",
       "      <td>16</td>\n",
       "      <td>5</td>\n",
       "      <td>603</td>\n",
       "      <td>9</td>\n",
       "    </tr>\n",
       "  </tbody>\n",
       "</table>\n",
       "</div>"
      ],
      "text/plain": [
       "          식별자          회사홈페이지   급여  \\\n",
       "count     780             652  378   \n",
       "unique    780             343  184   \n",
       "top     28849  www.piip.co.kr    0   \n",
       "freq        1              18   53   \n",
       "\n",
       "                                                     회사주소  \\\n",
       "count                                                 780   \n",
       "unique                                                478   \n",
       "top     790-17 Hannam-Dong, #101 Yongsan-Gu, Seoul, Ko...   \n",
       "freq                                                   26   \n",
       "\n",
       "                                                     모집요강        회사명   조회수  \\\n",
       "count                                                 667        780   780   \n",
       "unique                                                607        384   674   \n",
       "top     * Process : Document screening >> interview an...  SUIT MAKE  1408   \n",
       "freq                                                    7         36     4   \n",
       "\n",
       "                                                     추가정보  회사 담당자 전화번호  \\\n",
       "count                                                 494          466   \n",
       "unique                                                442          250   \n",
       "top     COMPENSATION\\r\\n\\r\\nThis is an unpaid internsh...  02-566-0361   \n",
       "freq                                                    8           16   \n",
       "\n",
       "            채용 종료일                                               요구사항  \\\n",
       "count          768                                                734   \n",
       "unique         390                                                704   \n",
       "top     2021.12.31  * Master’s Degree preferred.\\r\\n\\r\\n* Exposure...   \n",
       "freq            33                                                  5   \n",
       "\n",
       "                  등록일  게시판 식별자  회사 담당자 팩스번호  \\\n",
       "count             780      780          180   \n",
       "unique            523        1          105   \n",
       "top     1615734000000      101  02-566-0364   \n",
       "freq               11      780           16   \n",
       "\n",
       "                                                     업무설명   지역코드  \\\n",
       "count                                                 780    759   \n",
       "unique                                                753     12   \n",
       "top     • To use most of your time for marketing activ...  Seoul   \n",
       "freq                                                    5    603   \n",
       "\n",
       "                         제목  \n",
       "count                   780  \n",
       "unique                  659  \n",
       "top     Executive Recruiter  \n",
       "freq                      9  "
      ]
     },
     "execution_count": 262,
     "metadata": {},
     "output_type": "execute_result"
    }
   ],
   "source": [
    "df.describe(include=np.object)"
   ]
  },
  {
   "cell_type": "code",
   "execution_count": 263,
   "metadata": {},
   "outputs": [
    {
     "data": {
      "text/plain": [
       "식별자              0\n",
       "회사홈페이지         128\n",
       "급여             402\n",
       "회사주소             0\n",
       "모집요강           113\n",
       "회사명              0\n",
       "조회수              0\n",
       "추가정보           286\n",
       "회사 담당자 전화번호    314\n",
       "채용 종료일          12\n",
       "요구사항            46\n",
       "등록일              0\n",
       "게시판 식별자          0\n",
       "회사 담당자 팩스번호    600\n",
       "업무설명             0\n",
       "지역코드            21\n",
       "제목               0\n",
       "dtype: int64"
      ]
     },
     "execution_count": 263,
     "metadata": {},
     "output_type": "execute_result"
    }
   ],
   "source": [
    "df.isnull().sum()"
   ]
  },
  {
   "attachments": {},
   "cell_type": "markdown",
   "metadata": {},
   "source": [
    "**구인 광고를 가장 많이 낸 회사는?**\n",
    "\n",
    "**연도별,월별 광고 등록 수는?**\n",
    "\n",
    "**커뮤니케이션과 협업능력을 얼마나 요구할까?**\n",
    "\n",
    "**학사,석사를 얼마나 요구할까?**\n",
    "\n",
    "**한국어,영어,중국어를 얼마나 요구할까?**\n",
    "\n",
    "**이력서를 보는 곳은 얼마나 될까?**\n",
    "\n",
    "**지역별 광고 수는?**\n"
   ]
  },
  {
   "attachments": {},
   "cell_type": "markdown",
   "metadata": {},
   "source": [
    "## 전처리"
   ]
  },
  {
   "cell_type": "code",
   "execution_count": 264,
   "metadata": {},
   "outputs": [],
   "source": [
    "df['급여'].fillna('0',inplace=True)\n",
    "df.drop(df[df['채용 종료일'].isnull()].index,inplace=True)\n",
    "df.fillna('empty',inplace=True)"
   ]
  },
  {
   "cell_type": "code",
   "execution_count": null,
   "metadata": {},
   "outputs": [],
   "source": [
    "df.astype({'식별자':'int'})\n",
    "df.astype({'조회수':'int'})"
   ]
  },
  {
   "cell_type": "code",
   "execution_count": 266,
   "metadata": {},
   "outputs": [],
   "source": [
    "import time\n",
    "def to_year(x):\n",
    "    return time.localtime(float(x/1000)).tm_year\n",
    "    \n",
    "def to_month(x):\n",
    "    return time.localtime(float(x/1000)).tm_mon\n",
    "    \n",
    "def to_day(x):\n",
    "    return time.localtime(float(x/1000)).tm_mday\n",
    "\n",
    "def to_weekday(x):\n",
    "    return time.localtime(float(x/1000)).tm_wday\n",
    "\n",
    "df['등록연도'] = df['등록일'].apply(to_year)\n",
    "df['등록월'] = df['등록일'].apply(to_month)\n",
    "df['등록일'] = df['등록일'].apply(to_day)\n",
    "df['등록요일'] = df['등록일'].apply(to_weekday)\n",
    "df.drop(['등록일','게시판 식별자'],axis=1,inplace=True)    "
   ]
  },
  {
   "cell_type": "code",
   "execution_count": 268,
   "metadata": {},
   "outputs": [],
   "source": [
    "df.reset_index(drop=True,inplace=True)"
   ]
  },
  {
   "cell_type": "code",
   "execution_count": 269,
   "metadata": {},
   "outputs": [],
   "source": [
    "df['요구사항'] = pd.Series(df['요구사항'].values).str.lower()"
   ]
  },
  {
   "attachments": {},
   "cell_type": "markdown",
   "metadata": {},
   "source": [
    "## 시각화"
   ]
  },
  {
   "cell_type": "code",
   "execution_count": 271,
   "metadata": {},
   "outputs": [
    {
     "data": {
      "text/plain": [
       "[Text(0.5, 1.0, '구인 광고 수 top 10'), Text(0.5, 0, 'count')]"
      ]
     },
     "execution_count": 271,
     "metadata": {},
     "output_type": "execute_result"
    },
    {
     "data": {
      "image/png": "[encoded data removed]",
      "text/plain": [
       "<Figure size 720x504 with 1 Axes>"
      ]
     },
     "metadata": {
      "needs_background": "light"
     },
     "output_type": "display_data"
    }
   ],
   "source": [
    "sub_df = df.groupby(by=['회사명'],as_index=False)['식별자'].count()\n",
    "plt.figure(figsize=(10,7))\n",
    "sns.barplot(data=sub_df.sort_values('식별자',ascending=False).head(10),x='식별자',y='회사명').set(title='구인 광고 수 top 10',xlabel='count')"
   ]
  },
  {
   "cell_type": "code",
   "execution_count": 281,
   "metadata": {},
   "outputs": [
    {
     "data": {
      "text/plain": [
       "[Text(0.5, 1.0, '요일별 등록 수')]"
      ]
     },
     "execution_count": 281,
     "metadata": {},
     "output_type": "execute_result"
    },
    {
     "data": {
      "image/png": "[encoded data removed]",
      "text/plain": [
       "<Figure size 864x1512 with 3 Axes>"
      ]
     },
     "metadata": {
      "needs_background": "light"
     },
     "output_type": "display_data"
    }
   ],
   "source": [
    "sub_df1 = df.groupby(by=['등록연도'],as_index=False)['식별자'].count()\n",
    "sub_df2 = df.groupby(by=['등록월'],as_index=False)['식별자'].count()\n",
    "sub_df3 = df.groupby(by=['등록요일'],as_index=False)['식별자'].count()\n",
    "fig,axes = plt.subplots(3,1,figsize=(12,21))\n",
    "sns.barplot(data=sub_df1,x='등록연도',y='식별자',ax=axes[0]).set(title='연도별 등록 수')\n",
    "sns.barplot(data=sub_df2,x='등록월',y='식별자',ax=axes[1]).set(title='월별 등록 수')\n",
    "sns.barplot(data=sub_df3,x='등록요일',y='식별자',ax=axes[2]).set(title='요일별 등록 수')"
   ]
  },
  {
   "cell_type": "code",
   "execution_count": 273,
   "metadata": {},
   "outputs": [
    {
     "data": {
      "text/plain": [
       "<AxesSubplot: xlabel='요구사항', ylabel='count'>"
      ]
     },
     "execution_count": 273,
     "metadata": {},
     "output_type": "execute_result"
    },
    {
     "data": {
      "image/png": "[encoded data removed]",
      "text/plain": [
       "<Figure size 504x504 with 1 Axes>"
      ]
     },
     "metadata": {
      "needs_background": "light"
     },
     "output_type": "display_data"
    }
   ],
   "source": [
    "demands = []\n",
    "for i in range(len(df)):\n",
    "    x = df['요구사항'].loc[i].lower()\n",
    "    if 'communication' in x and 'coordination' in x:\n",
    "        demands.append('소통,협업')\n",
    "    elif 'communication' in x:\n",
    "        demands.append('소통')\n",
    "    elif 'coordination' in x:\n",
    "        demands.append('협업')\n",
    "    else:\n",
    "        demands.append('기타')\n",
    "sub_df = pd.DataFrame(demands,columns=['요구사항'])\n",
    "plt.figure(figsize=(7,7))\n",
    "sns.countplot(data=sub_df,x='요구사항')"
   ]
  },
  {
   "cell_type": "code",
   "execution_count": 274,
   "metadata": {},
   "outputs": [
    {
     "data": {
      "text/plain": [
       "<AxesSubplot: xlabel='요구사항', ylabel='count'>"
      ]
     },
     "execution_count": 274,
     "metadata": {},
     "output_type": "execute_result"
    },
    {
     "data": {
      "image/png": "[encoded data removed]",
      "text/plain": [
       "<Figure size 504x504 with 1 Axes>"
      ]
     },
     "metadata": {
      "needs_background": "light"
     },
     "output_type": "display_data"
    }
   ],
   "source": [
    "demands = []\n",
    "for i in range(len(df)):\n",
    "    x = df['요구사항'].loc[i].lower()\n",
    "    if 'bachelor' in x:\n",
    "        demands.append('학사')\n",
    "    elif 'master' in x:\n",
    "        demands.append('석사')\n",
    "    else:\n",
    "        demands.append('기타')\n",
    "sub_df = pd.DataFrame(demands,columns=['요구사항'])\n",
    "plt.figure(figsize=(7,7))\n",
    "sns.countplot(data=sub_df,x='요구사항')"
   ]
  },
  {
   "cell_type": "code",
   "execution_count": 275,
   "metadata": {},
   "outputs": [
    {
     "data": {
      "text/plain": [
       "<AxesSubplot: xlabel='요구사항', ylabel='count'>"
      ]
     },
     "execution_count": 275,
     "metadata": {},
     "output_type": "execute_result"
    },
    {
     "data": {
      "image/png": "[encoded data removed]",
      "text/plain": [
       "<Figure size 504x504 with 1 Axes>"
      ]
     },
     "metadata": {
      "needs_background": "light"
     },
     "output_type": "display_data"
    }
   ],
   "source": [
    "demands = []\n",
    "for i in range(len(df)):\n",
    "    x = df['요구사항'].loc[i].lower()\n",
    "    if 'english' in x:\n",
    "        demands.append('영어')\n",
    "    elif 'korean' in x:\n",
    "        demands.append('한국어')\n",
    "    elif 'chinese' in x:\n",
    "        demands.append('중국어')\n",
    "    else:\n",
    "        demands.append('기타')\n",
    "sub_df = pd.DataFrame(demands,columns=['요구사항'])\n",
    "plt.figure(figsize=(7,7))\n",
    "sns.countplot(data=sub_df,x='요구사항')"
   ]
  },
  {
   "cell_type": "code",
   "execution_count": 276,
   "metadata": {},
   "outputs": [
    {
     "data": {
      "text/plain": [
       "<AxesSubplot: xlabel='모집요강', ylabel='count'>"
      ]
     },
     "execution_count": 276,
     "metadata": {},
     "output_type": "execute_result"
    },
    {
     "data": {
      "image/png": "[encoded data removed]",
      "text/plain": [
       "<Figure size 504x504 with 1 Axes>"
      ]
     },
     "metadata": {
      "needs_background": "light"
     },
     "output_type": "display_data"
    }
   ],
   "source": [
    "demands = []\n",
    "for i in range(len(df)):\n",
    "    x = df['모집요강'].loc[i].lower()\n",
    "    if 'resume' in x:\n",
    "        demands.append('이력서 제출')\n",
    "    else:\n",
    "        demands.append('기타')\n",
    "sub_df = pd.DataFrame(demands,columns=['모집요강'])\n",
    "plt.figure(figsize=(7,7))\n",
    "sns.countplot(data=sub_df,x='모집요강')"
   ]
  },
  {
   "cell_type": "code",
   "execution_count": 292,
   "metadata": {},
   "outputs": [
    {
     "data": {
      "text/plain": [
       "<AxesSubplot: xlabel='지역코드', ylabel='count'>"
      ]
     },
     "execution_count": 292,
     "metadata": {},
     "output_type": "execute_result"
    },
    {
     "data": {
      "image/png": "[encoded data removed]",
      "text/plain": [
       "<Figure size 864x504 with 1 Axes>"
      ]
     },
     "metadata": {
      "needs_background": "light"
     },
     "output_type": "display_data"
    }
   ],
   "source": [
    "area = []\n",
    "for i in range(len(df)):\n",
    "    x = df['지역코드'].loc[i]\n",
    "    if 'Seoul' in x:\n",
    "        area.append('서울')\n",
    "    elif 'Gyeonggi' in x:\n",
    "        area.append('경기')\n",
    "    elif 'Gyeongsang' in x:\n",
    "        area.append('경상')\n",
    "    elif 'Inchon' in x:\n",
    "        area.append('인천')\n",
    "    elif 'Kangwon' in x:\n",
    "        area.append('강원')\n",
    "    elif 'Overseas' in x:\n",
    "        area.append('해외')\n",
    "    else:\n",
    "        area.append('상관없음')\n",
    "sub_df = pd.DataFrame(area,columns=['지역코드'])\n",
    "plt.figure(figsize=(12,7))\n",
    "sns.countplot(data=sub_df,x='지역코드')"
   ]
  },
  {
   "attachments": {},
   "cell_type": "markdown",
   "metadata": {},
   "source": [
    "## 분석 결과\n",
    "\n",
    "**구인 광고를 가장 많이 낸 회사는?**\n",
    "\n",
    "- SUIT MAKE라는 회사가 약 34건정도의 구인 광고를 냈다.\n",
    "\n",
    "**연도별,월별 광고 등록 수는?**\n",
    "\n",
    "- 해가 지날수록 광고 등록수가 증가한다.\n",
    "\n",
    "- 3월과 9월에 구인 광고수가 특히 높고, 2월이 특히 낮다.\n",
    "\n",
    "- 목요일에만 구인 광고를 등록한다.\n",
    "\n",
    "- 나머지 월은 꾸준하게 구인 광고가 올라온다.\n",
    "\n",
    "**커뮤니케이션과 협업능력을 얼마나 요구할까?**\n",
    "\n",
    "- 소통을 굉장히 중요하게 여기고, 협업은 크게 요구하지 않는다.\n",
    "\n",
    "**학사,석사를 얼마나 요구할까?**\n",
    "\n",
    "- 최소 요구 학력은 학사가 석사보다 높지만, 학사 이상을 요구하지 않는 곳이 대부분이다.\n",
    "\n",
    "**한국어,영어,중국어를 얼마나 요구할까?**\n",
    "\n",
    "- 대부분 영어를 굉장히 중요하게 여기고, 한국어를 크게 요구하지 않는다.\n",
    "\n",
    "- 중국어를 요구하는 곳은 거의 없다.\n",
    "\n",
    "**이력서를 보는 곳은 얼마나 될까?**\n",
    "\n",
    "- 약 절반정도의 기업이 이력서 제출을 요구한다.\n",
    "\n",
    "**지역별 광고 수는?**\n",
    "\n",
    "- 서울이 광고 수가 가장 많고, 경기 경상 인천 강원 해외 순으로 광고 수가 많다."
   ]
  },
  {
   "cell_type": "code",
   "execution_count": null,
   "metadata": {},
   "outputs": [],
   "source": []
  }
 ],
 "metadata": {
  "kernelspec": {
   "display_name": "Python 3",
   "language": "python",
   "name": "python3"
  },
  "language_info": {
   "codemirror_mode": {
    "name": "ipython",
    "version": 3
   },
   "file_extension": ".py",
   "mimetype": "text/x-python",
   "name": "python",
   "nbconvert_exporter": "python",
   "pygments_lexer": "ipython3",
   "version": "3.8.6"
  },
  "orig_nbformat": 4,
  "vscode": {
   "interpreter": {
    "hash": "4410f3b2d65baa5768f7572e00bd3f92c8cde4189408977fd2f0d4d8fecfc7c1"
   }
  }
 },
 "nbformat": 4,
 "nbformat_minor": 2
}
