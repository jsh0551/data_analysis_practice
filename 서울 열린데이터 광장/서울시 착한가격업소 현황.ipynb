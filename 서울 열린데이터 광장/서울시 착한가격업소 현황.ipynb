{
 "cells": [
  {
   "cell_type": "code",
   "execution_count": 1,
   "metadata": {},
   "outputs": [],
   "source": [
    "import pandas as pd\n",
    "import matplotlib.pyplot as plt\n",
    "import seaborn as sns\n",
    "import numpy as np\n",
    "import glob\n",
    "from datetime import datetime,timedelta\n",
    "import re\n",
    "\n",
    "import warnings\n",
    "warnings.filterwarnings('ignore')"
   ]
  },
  {
   "cell_type": "code",
   "execution_count": 136,
   "metadata": {},
   "outputs": [],
   "source": [
    "plt.rcParams['font.family']=['NanumGothic', 'sans-serif']\n",
    "plt.rcParams['axes.unicode_minus'] = False"
   ]
  },
  {
   "cell_type": "code",
   "execution_count": 685,
   "metadata": {},
   "outputs": [
    {
     "data": {
      "text/plain": [
       "['G:\\\\내 드라이브\\\\Colab Notebooks\\\\데이터분석\\\\.data\\\\서울열린데이터광장\\\\서울시 착한가격업소 현황\\\\서울시 착한가격업소 현황.csv']"
      ]
     },
     "execution_count": 685,
     "metadata": {},
     "output_type": "execute_result"
    }
   ],
   "source": [
    "files = glob.glob('G:\\내 드라이브\\Colab Notebooks\\데이터분석\\.data\\서울열린데이터광장\\서울시 착한가격업소 현황\\*.csv')\n",
    "files"
   ]
  },
  {
   "cell_type": "code",
   "execution_count": 686,
   "metadata": {},
   "outputs": [
    {
     "data": {
      "text/html": [
       "<div>\n",
       "<style scoped>\n",
       "    .dataframe tbody tr th:only-of-type {\n",
       "        vertical-align: middle;\n",
       "    }\n",
       "\n",
       "    .dataframe tbody tr th {\n",
       "        vertical-align: top;\n",
       "    }\n",
       "\n",
       "    .dataframe thead th {\n",
       "        text-align: right;\n",
       "    }\n",
       "</style>\n",
       "<table border=\"1\" class=\"dataframe\">\n",
       "  <thead>\n",
       "    <tr style=\"text-align: right;\">\n",
       "      <th></th>\n",
       "      <th>업소아이디</th>\n",
       "      <th>업소명</th>\n",
       "      <th>분류코드</th>\n",
       "      <th>분류코드명</th>\n",
       "      <th>업소 주소</th>\n",
       "      <th>업소 전화번호</th>\n",
       "      <th>찾아오시는 길</th>\n",
       "      <th>업소정보</th>\n",
       "      <th>자랑거리</th>\n",
       "      <th>추천수</th>\n",
       "      <th>기준년월</th>\n",
       "      <th>업소 사진</th>\n",
       "    </tr>\n",
       "  </thead>\n",
       "  <tbody>\n",
       "    <tr>\n",
       "      <th>0</th>\n",
       "      <td>6017</td>\n",
       "      <td>아폴로헤어크리닉</td>\n",
       "      <td>5</td>\n",
       "      <td>이 미용업</td>\n",
       "      <td>서울특별시 중랑구 사가정로50길 67 (면목동)</td>\n",
       "      <td>495-7337</td>\n",
       "      <td>면목골목시장 65호</td>\n",
       "      <td>영업시간 :09:00~21:00 좌석수 :5 휴무일 :매주 수요일 예약 :불가능 카...</td>\n",
       "      <td>면목시장내 위치 형편이 어려우신 분은 요금을 할인해주며 20년간 봉사활동을 하시는 ...</td>\n",
       "      <td>450</td>\n",
       "      <td>22-6</td>\n",
       "      <td>http://tearstop.seoul.go.kr/mulga/photo/201511...</td>\n",
       "    </tr>\n",
       "    <tr>\n",
       "      <th>1</th>\n",
       "      <td>6015</td>\n",
       "      <td>상록수미용실</td>\n",
       "      <td>5</td>\n",
       "      <td>이 미용업</td>\n",
       "      <td>서울특별시 중랑구 동일로99길 22 (면목동)</td>\n",
       "      <td>NaN</td>\n",
       "      <td>면목2동 다울아파트에서 동일로로 가는 골목에 위치</td>\n",
       "      <td>영업시간 : 09:30~21:00 좌석수 : 3 휴무일 : 매주 일요일 예약 :불가...</td>\n",
       "      <td>주 고객이 어르신들이라 가격을 저렴하게 책정하여 파마 14000원 등 파격적인 요금...</td>\n",
       "      <td>432</td>\n",
       "      <td>22-6</td>\n",
       "      <td>http://tearstop.seoul.go.kr/mulga/photo/201511...</td>\n",
       "    </tr>\n",
       "    <tr>\n",
       "      <th>2</th>\n",
       "      <td>4506</td>\n",
       "      <td>열린미용실</td>\n",
       "      <td>5</td>\n",
       "      <td>이 미용업</td>\n",
       "      <td>서울특별시 관악구 난곡로40길 16 (신림동)</td>\n",
       "      <td>NaN</td>\n",
       "      <td>미성동 노선버스 신일교회앞 하차</td>\n",
       "      <td>영업시간 : 오전 9시 ~ 오후 8시 휴무일 : 매주 일요일 예약 : 가능 카드 :...</td>\n",
       "      <td>▷관악구 평균가격보다 20%이상 저렴. ▷경로자 장애인 할인해 드림 ▷한달에 한번씩...</td>\n",
       "      <td>336</td>\n",
       "      <td>22-6</td>\n",
       "      <td>http://tearstop.seoul.go.kr/mulga/photo/202207...</td>\n",
       "    </tr>\n",
       "    <tr>\n",
       "      <th>3</th>\n",
       "      <td>3002</td>\n",
       "      <td>미림17분칼라</td>\n",
       "      <td>13</td>\n",
       "      <td>기타서비스업종</td>\n",
       "      <td>서울특별시 관악구 호암로26길 1 (신림동)</td>\n",
       "      <td>871-7070</td>\n",
       "      <td>미림여고 입구 국민은행 옆 위치</td>\n",
       "      <td>영업시간 :오전 9시 30분  ~ 오후 9시 30분 휴무일 : 매월 둘째 넷째주 일...</td>\n",
       "      <td>▷관악구 평균가격(인화료 -3*5cm) 보다 20% 저렴</td>\n",
       "      <td>318</td>\n",
       "      <td>22-6</td>\n",
       "      <td>http://tearstop.seoul.go.kr/mulga/photo/202207...</td>\n",
       "    </tr>\n",
       "    <tr>\n",
       "      <th>4</th>\n",
       "      <td>4242</td>\n",
       "      <td>덕성이발관</td>\n",
       "      <td>5</td>\n",
       "      <td>이 미용업</td>\n",
       "      <td>서울특별시 관악구 장군봉2길 11 (봉천동)</td>\n",
       "      <td>882-5875</td>\n",
       "      <td>봉천역 3번 출구에서 시장골목으로 100미터</td>\n",
       "      <td>영업시간 : 오전 7시 ~ 오후 9시 좌석수 : 4 휴무일 : 매주 화요일 주차 :...</td>\n",
       "      <td>▷관악구 평균가격보다 10%이상 저렴 ▷시설이 세련되지는 않았지만 동네 사랑방 같은...</td>\n",
       "      <td>264</td>\n",
       "      <td>22-6</td>\n",
       "      <td>http://tearstop.seoul.go.kr/mulga/photo/201204...</td>\n",
       "    </tr>\n",
       "  </tbody>\n",
       "</table>\n",
       "</div>"
      ],
      "text/plain": [
       "   업소아이디       업소명  분류코드    분류코드명                       업소 주소  \\\n",
       "0   6017  아폴로헤어크리닉     5    이 미용업  서울특별시 중랑구 사가정로50길 67 (면목동)   \n",
       "1   6015    상록수미용실     5    이 미용업   서울특별시 중랑구 동일로99길 22 (면목동)   \n",
       "2   4506     열린미용실     5    이 미용업   서울특별시 관악구 난곡로40길 16 (신림동)   \n",
       "3   3002   미림17분칼라    13  기타서비스업종    서울특별시 관악구 호암로26길 1 (신림동)   \n",
       "4   4242     덕성이발관     5    이 미용업    서울특별시 관악구 장군봉2길 11 (봉천동)   \n",
       "\n",
       "            업소 전화번호                      찾아오시는 길  \\\n",
       "0  495-7337                           면목골목시장 65호   \n",
       "1               NaN  면목2동 다울아파트에서 동일로로 가는 골목에 위치   \n",
       "2               NaN            미성동 노선버스 신일교회앞 하차   \n",
       "3  871-7070                    미림여고 입구 국민은행 옆 위치   \n",
       "4          882-5875     봉천역 3번 출구에서 시장골목으로 100미터   \n",
       "\n",
       "                                                업소정보  \\\n",
       "0  영업시간 :09:00~21:00 좌석수 :5 휴무일 :매주 수요일 예약 :불가능 카...   \n",
       "1  영업시간 : 09:30~21:00 좌석수 : 3 휴무일 : 매주 일요일 예약 :불가...   \n",
       "2  영업시간 : 오전 9시 ~ 오후 8시 휴무일 : 매주 일요일 예약 : 가능 카드 :...   \n",
       "3  영업시간 :오전 9시 30분  ~ 오후 9시 30분 휴무일 : 매월 둘째 넷째주 일...   \n",
       "4  영업시간 : 오전 7시 ~ 오후 9시 좌석수 : 4 휴무일 : 매주 화요일 주차 :...   \n",
       "\n",
       "                                                자랑거리  추천수  기준년월  \\\n",
       "0  면목시장내 위치 형편이 어려우신 분은 요금을 할인해주며 20년간 봉사활동을 하시는 ...  450  22-6   \n",
       "1  주 고객이 어르신들이라 가격을 저렴하게 책정하여 파마 14000원 등 파격적인 요금...  432  22-6   \n",
       "2  ▷관악구 평균가격보다 20%이상 저렴. ▷경로자 장애인 할인해 드림 ▷한달에 한번씩...  336  22-6   \n",
       "3                    ▷관악구 평균가격(인화료 -3*5cm) 보다 20% 저렴  318  22-6   \n",
       "4  ▷관악구 평균가격보다 10%이상 저렴 ▷시설이 세련되지는 않았지만 동네 사랑방 같은...  264  22-6   \n",
       "\n",
       "                                               업소 사진  \n",
       "0  http://tearstop.seoul.go.kr/mulga/photo/201511...  \n",
       "1  http://tearstop.seoul.go.kr/mulga/photo/201511...  \n",
       "2  http://tearstop.seoul.go.kr/mulga/photo/202207...  \n",
       "3  http://tearstop.seoul.go.kr/mulga/photo/202207...  \n",
       "4  http://tearstop.seoul.go.kr/mulga/photo/201204...  "
      ]
     },
     "execution_count": 686,
     "metadata": {},
     "output_type": "execute_result"
    }
   ],
   "source": [
    "df = pd.read_csv(files[0],encoding='cp949')\n",
    "df.head()"
   ]
  },
  {
   "cell_type": "code",
   "execution_count": 687,
   "metadata": {},
   "outputs": [
    {
     "name": "stdout",
     "output_type": "stream",
     "text": [
      "<class 'pandas.core.frame.DataFrame'>\n",
      "RangeIndex: 1118 entries, 0 to 1117\n",
      "Data columns (total 12 columns):\n",
      " #   Column   Non-Null Count  Dtype \n",
      "---  ------   --------------  ----- \n",
      " 0   업소아이디    1118 non-null   int64 \n",
      " 1   업소명      1118 non-null   object\n",
      " 2   분류코드     1118 non-null   int64 \n",
      " 3   분류코드명    1118 non-null   object\n",
      " 4   업소 주소    1118 non-null   object\n",
      " 5   업소 전화번호  1070 non-null   object\n",
      " 6   찾아오시는 길  552 non-null    object\n",
      " 7   업소정보     1103 non-null   object\n",
      " 8   자랑거리     845 non-null    object\n",
      " 9   추천수      1118 non-null   int64 \n",
      " 10  기준년월     1118 non-null   object\n",
      " 11  업소 사진    1118 non-null   object\n",
      "dtypes: int64(3), object(9)\n",
      "memory usage: 104.9+ KB\n"
     ]
    }
   ],
   "source": [
    "df.info()"
   ]
  },
  {
   "cell_type": "code",
   "execution_count": 688,
   "metadata": {},
   "outputs": [
    {
     "data": {
      "text/html": [
       "<div>\n",
       "<style scoped>\n",
       "    .dataframe tbody tr th:only-of-type {\n",
       "        vertical-align: middle;\n",
       "    }\n",
       "\n",
       "    .dataframe tbody tr th {\n",
       "        vertical-align: top;\n",
       "    }\n",
       "\n",
       "    .dataframe thead th {\n",
       "        text-align: right;\n",
       "    }\n",
       "</style>\n",
       "<table border=\"1\" class=\"dataframe\">\n",
       "  <thead>\n",
       "    <tr style=\"text-align: right;\">\n",
       "      <th></th>\n",
       "      <th>업소아이디</th>\n",
       "      <th>분류코드</th>\n",
       "      <th>추천수</th>\n",
       "    </tr>\n",
       "  </thead>\n",
       "  <tbody>\n",
       "    <tr>\n",
       "      <th>count</th>\n",
       "      <td>1118.000000</td>\n",
       "      <td>1118.000000</td>\n",
       "      <td>1118.000000</td>\n",
       "    </tr>\n",
       "    <tr>\n",
       "      <th>mean</th>\n",
       "      <td>8540.280859</td>\n",
       "      <td>2.901610</td>\n",
       "      <td>8.206619</td>\n",
       "    </tr>\n",
       "    <tr>\n",
       "      <th>std</th>\n",
       "      <td>1498.602496</td>\n",
       "      <td>2.595219</td>\n",
       "      <td>35.040190</td>\n",
       "    </tr>\n",
       "    <tr>\n",
       "      <th>min</th>\n",
       "      <td>263.000000</td>\n",
       "      <td>1.000000</td>\n",
       "      <td>0.000000</td>\n",
       "    </tr>\n",
       "    <tr>\n",
       "      <th>25%</th>\n",
       "      <td>8282.250000</td>\n",
       "      <td>1.000000</td>\n",
       "      <td>0.000000</td>\n",
       "    </tr>\n",
       "    <tr>\n",
       "      <th>50%</th>\n",
       "      <td>9042.500000</td>\n",
       "      <td>1.000000</td>\n",
       "      <td>0.000000</td>\n",
       "    </tr>\n",
       "    <tr>\n",
       "      <th>75%</th>\n",
       "      <td>9372.750000</td>\n",
       "      <td>5.000000</td>\n",
       "      <td>3.000000</td>\n",
       "    </tr>\n",
       "    <tr>\n",
       "      <th>max</th>\n",
       "      <td>9658.000000</td>\n",
       "      <td>13.000000</td>\n",
       "      <td>450.000000</td>\n",
       "    </tr>\n",
       "  </tbody>\n",
       "</table>\n",
       "</div>"
      ],
      "text/plain": [
       "             업소아이디         분류코드          추천수\n",
       "count  1118.000000  1118.000000  1118.000000\n",
       "mean   8540.280859     2.901610     8.206619\n",
       "std    1498.602496     2.595219    35.040190\n",
       "min     263.000000     1.000000     0.000000\n",
       "25%    8282.250000     1.000000     0.000000\n",
       "50%    9042.500000     1.000000     0.000000\n",
       "75%    9372.750000     5.000000     3.000000\n",
       "max    9658.000000    13.000000   450.000000"
      ]
     },
     "execution_count": 688,
     "metadata": {},
     "output_type": "execute_result"
    }
   ],
   "source": [
    "df.describe()"
   ]
  },
  {
   "cell_type": "code",
   "execution_count": 689,
   "metadata": {},
   "outputs": [
    {
     "data": {
      "text/html": [
       "<div>\n",
       "<style scoped>\n",
       "    .dataframe tbody tr th:only-of-type {\n",
       "        vertical-align: middle;\n",
       "    }\n",
       "\n",
       "    .dataframe tbody tr th {\n",
       "        vertical-align: top;\n",
       "    }\n",
       "\n",
       "    .dataframe thead th {\n",
       "        text-align: right;\n",
       "    }\n",
       "</style>\n",
       "<table border=\"1\" class=\"dataframe\">\n",
       "  <thead>\n",
       "    <tr style=\"text-align: right;\">\n",
       "      <th></th>\n",
       "      <th>업소명</th>\n",
       "      <th>분류코드명</th>\n",
       "      <th>업소 주소</th>\n",
       "      <th>업소 전화번호</th>\n",
       "      <th>찾아오시는 길</th>\n",
       "      <th>업소정보</th>\n",
       "      <th>자랑거리</th>\n",
       "      <th>기준년월</th>\n",
       "      <th>업소 사진</th>\n",
       "    </tr>\n",
       "  </thead>\n",
       "  <tbody>\n",
       "    <tr>\n",
       "      <th>count</th>\n",
       "      <td>1118</td>\n",
       "      <td>1118</td>\n",
       "      <td>1118</td>\n",
       "      <td>1070</td>\n",
       "      <td>552</td>\n",
       "      <td>1103</td>\n",
       "      <td>845</td>\n",
       "      <td>1118</td>\n",
       "      <td>1118</td>\n",
       "    </tr>\n",
       "    <tr>\n",
       "      <th>unique</th>\n",
       "      <td>1071</td>\n",
       "      <td>10</td>\n",
       "      <td>1104</td>\n",
       "      <td>1027</td>\n",
       "      <td>544</td>\n",
       "      <td>839</td>\n",
       "      <td>685</td>\n",
       "      <td>1</td>\n",
       "      <td>984</td>\n",
       "    </tr>\n",
       "    <tr>\n",
       "      <th>top</th>\n",
       "      <td>홍두깨손칼국수</td>\n",
       "      <td>한식</td>\n",
       "      <td>서울특별시 광진구 능동로48길 75</td>\n",
       "      <td>없음</td>\n",
       "      <td></td>\n",
       "      <td>영업시간 : 좌석수 : 휴무일 : 배달 : 예약 : 카드 : 주차 : 홈페이지 주소...</td>\n",
       "      <td>저렴한 가격 깨끗한 위생</td>\n",
       "      <td>22-6</td>\n",
       "      <td>http://tearstop.seoul.go.kr/mulga/photo/</td>\n",
       "    </tr>\n",
       "    <tr>\n",
       "      <th>freq</th>\n",
       "      <td>4</td>\n",
       "      <td>594</td>\n",
       "      <td>4</td>\n",
       "      <td>20</td>\n",
       "      <td>4</td>\n",
       "      <td>51</td>\n",
       "      <td>97</td>\n",
       "      <td>1118</td>\n",
       "      <td>135</td>\n",
       "    </tr>\n",
       "  </tbody>\n",
       "</table>\n",
       "</div>"
      ],
      "text/plain": [
       "            업소명 분류코드명                업소 주소 업소 전화번호 찾아오시는 길  \\\n",
       "count      1118  1118                 1118    1070     552   \n",
       "unique     1071    10                 1104    1027     544   \n",
       "top     홍두깨손칼국수    한식  서울특별시 광진구 능동로48길 75      없음           \n",
       "freq          4   594                    4      20       4   \n",
       "\n",
       "                                                     업소정보           자랑거리  \\\n",
       "count                                                1103            845   \n",
       "unique                                                839            685   \n",
       "top     영업시간 : 좌석수 : 휴무일 : 배달 : 예약 : 카드 : 주차 : 홈페이지 주소...  저렴한 가격 깨끗한 위생   \n",
       "freq                                                   51             97   \n",
       "\n",
       "        기준년월                                     업소 사진  \n",
       "count   1118                                      1118  \n",
       "unique     1                                       984  \n",
       "top     22-6  http://tearstop.seoul.go.kr/mulga/photo/  \n",
       "freq    1118                                       135  "
      ]
     },
     "execution_count": 689,
     "metadata": {},
     "output_type": "execute_result"
    }
   ],
   "source": [
    "df.describe(include=np.object)"
   ]
  },
  {
   "cell_type": "code",
   "execution_count": 690,
   "metadata": {},
   "outputs": [
    {
     "data": {
      "text/plain": [
       "업소아이디        0\n",
       "업소명          0\n",
       "분류코드         0\n",
       "분류코드명        0\n",
       "업소 주소        0\n",
       "업소 전화번호     48\n",
       "찾아오시는 길    566\n",
       "업소정보        15\n",
       "자랑거리       273\n",
       "추천수          0\n",
       "기준년월         0\n",
       "업소 사진        0\n",
       "dtype: int64"
      ]
     },
     "execution_count": 690,
     "metadata": {},
     "output_type": "execute_result"
    }
   ],
   "source": [
    "df.isnull().sum()"
   ]
  },
  {
   "attachments": {},
   "cell_type": "markdown",
   "metadata": {},
   "source": [
    "**업종,오픈시간,마감시간,지역 분포는?**\n",
    "\n",
    "**배달,예약 가능 여부?**\n",
    "\n",
    "**가격,친절함,위생 비율은?**"
   ]
  },
  {
   "attachments": {},
   "cell_type": "markdown",
   "metadata": {},
   "source": [
    "## 전처리\n"
   ]
  },
  {
   "cell_type": "code",
   "execution_count": 691,
   "metadata": {},
   "outputs": [],
   "source": [
    "df.drop(['업소아이디', '분류코드', '찾아오시는 길', '업소 전화번호', '업소 사진','기준년월'],axis=1,inplace=True)"
   ]
  },
  {
   "cell_type": "code",
   "execution_count": 692,
   "metadata": {},
   "outputs": [
    {
     "name": "stdout",
     "output_type": "stream",
     "text": [
      "<class 'pandas.core.frame.DataFrame'>\n",
      "RangeIndex: 1118 entries, 0 to 1117\n",
      "Data columns (total 6 columns):\n",
      " #   Column  Non-Null Count  Dtype \n",
      "---  ------  --------------  ----- \n",
      " 0   업소명     1118 non-null   object\n",
      " 1   분류코드명   1118 non-null   object\n",
      " 2   업소 주소   1118 non-null   object\n",
      " 3   업소정보    1103 non-null   object\n",
      " 4   자랑거리    845 non-null    object\n",
      " 5   추천수     1118 non-null   int64 \n",
      "dtypes: int64(1), object(5)\n",
      "memory usage: 52.5+ KB\n"
     ]
    }
   ],
   "source": [
    "df.info()"
   ]
  },
  {
   "cell_type": "code",
   "execution_count": 693,
   "metadata": {},
   "outputs": [],
   "source": [
    "df = df.fillna('None')"
   ]
  },
  {
   "cell_type": "code",
   "execution_count": 694,
   "metadata": {},
   "outputs": [],
   "source": [
    "def convert_time(x):\n",
    "     try:\n",
    "          if x == 'None' or x.strip() == 'null':\n",
    "               return 'None'\n",
    "          if re.findall(r'영업시간.*?(24[ ]*시간).?',x):\n",
    "               return '24시간'\n",
    "          work_time = re.findall(r'영업시간.*?[오전]?[ ]*([0-9]*)시.*?([0-9]*)[분]?.*?[오후]?[ ]*([0-9]*)시[ ]*([0-9]*)[분]?',x)\n",
    "          if work_time:\n",
    "               s_h, s_m, e_h, e_m = work_time[0]\n",
    "               s_h, s_m, e_h, e_m = s_h.zfill(2)[:2], s_m.zfill(2)[:2], e_h.zfill(2)[:2], e_m.zfill(2)\n",
    "          else:\n",
    "               work_time = re.findall(r'[이용영업]시간[ ]*[-:][ ]*[오전AM]*([0-9]*)[ ]*[;:][ ]*([0-9]*)[ ]*.*?[-~^][ PM오후익일저녁.]*([ 0-9]*)[: ]*([0-9]*).*?',x)\n",
    "               s_h, s_m, e_h, e_m = work_time[0]\n",
    "               s_h, s_m, e_h, e_m = s_h.zfill(2)[:2], s_m.zfill(2)[:2], e_h.zfill(2)[:2], e_m.zfill(2)\n",
    "          return f'{s_h}:{s_m}~{e_h}:{e_m}'\n",
    "     except:\n",
    "          return 'None'"
   ]
  },
  {
   "cell_type": "code",
   "execution_count": 695,
   "metadata": {},
   "outputs": [],
   "source": [
    "df['시간정보'] = df['업소정보'].apply(convert_time).values"
   ]
  },
  {
   "cell_type": "code",
   "execution_count": 698,
   "metadata": {},
   "outputs": [],
   "source": [
    "def start_time(x):\n",
    "    if x=='None' or x=='24시간':\n",
    "        return x\n",
    "    else:\n",
    "        return x.split('~')[0]\n",
    "def end_time(x):\n",
    "    if x=='None' or x=='24시간':\n",
    "        return x\n",
    "    else:\n",
    "        e_h,e_m = x.split('~')[1].split(':')\n",
    "        if e_h == '00':\n",
    "            e_h = e_m\n",
    "            e_m = '00'\n",
    "        if 4<int(e_h)<13:\n",
    "            e_h = str(int(e_h)+12)\n",
    "        return f'{e_h}:{e_m}'"
   ]
  },
  {
   "cell_type": "code",
   "execution_count": 699,
   "metadata": {},
   "outputs": [],
   "source": [
    "df['오픈시간'] = df['시간정보'].apply(start_time)\n",
    "df['마감시간'] = df['시간정보'].apply(end_time)"
   ]
  },
  {
   "cell_type": "code",
   "execution_count": 700,
   "metadata": {},
   "outputs": [],
   "source": [
    "def convert_delivery(x):\n",
    "    if x == 'None' or not re.findall(r'배[ ]*달[ ]*:[ ]*([불]?[ ]*가[ ]*[능]?).?',x):\n",
    "        return 'None'\n",
    "    elif re.findall(r'배[ ]*달[ ]*:[ ]*(불[ ]*가).?',x):\n",
    "        return '불가능'\n",
    "    else:\n",
    "        return '가능'"
   ]
  },
  {
   "cell_type": "code",
   "execution_count": 701,
   "metadata": {},
   "outputs": [],
   "source": [
    "def convert_reserve(x):\n",
    "    if x == 'None' or not re.findall(r'예[ ]*약[ ]*:[ ]*([불]?[ ]*가[ ]*[능]?).?',x):\n",
    "        return 'None'\n",
    "    elif re.findall(r'예[ ]*약[ ]*:[ ]*(불[ ]*가).?',x):\n",
    "        return '불가능'\n",
    "    else:\n",
    "        return '가능'"
   ]
  },
  {
   "cell_type": "code",
   "execution_count": 702,
   "metadata": {},
   "outputs": [],
   "source": [
    "df['배달'] = df['업소정보'].apply(convert_delivery).values\n",
    "df['예약'] = df['업소정보'].apply(convert_reserve).values"
   ]
  },
  {
   "cell_type": "code",
   "execution_count": 703,
   "metadata": {},
   "outputs": [],
   "source": [
    "def convert_price(x):\n",
    "    if '할인' in x or '저렴' in x:\n",
    "        return '저렴함'\n",
    "    else:\n",
    "        return '보통'\n",
    "def convert_attitude(x):\n",
    "    if '친절' in x:\n",
    "        return '좋음'\n",
    "    else:\n",
    "        return '보통'\n",
    "def convert_clean(x):\n",
    "    if '신선' in x or '깨끗' in x or '깔끔' in x or '위생' in x or '청결' in x:\n",
    "        return '좋음'\n",
    "    else:\n",
    "        return '보통'\n"
   ]
  },
  {
   "cell_type": "code",
   "execution_count": 704,
   "metadata": {},
   "outputs": [],
   "source": [
    "df['가격'] = df['자랑거리'].apply(convert_price)\n",
    "df['친절함'] = df['자랑거리'].apply(convert_attitude)\n",
    "df['위생'] = df['자랑거리'].apply(convert_clean)"
   ]
  },
  {
   "cell_type": "code",
   "execution_count": 724,
   "metadata": {},
   "outputs": [],
   "source": [
    "def convert_address(x):\n",
    "    area = re.search(r'.*?구 ',x)\n",
    "    if area:\n",
    "        return area[0].split()[-1]\n",
    "    else:\n",
    "        return 'None'\n",
    "\n",
    "df['지역'] = df['업소 주소'].apply(convert_address)"
   ]
  },
  {
   "cell_type": "code",
   "execution_count": 725,
   "metadata": {},
   "outputs": [
    {
     "data": {
      "text/html": [
       "<div>\n",
       "<style scoped>\n",
       "    .dataframe tbody tr th:only-of-type {\n",
       "        vertical-align: middle;\n",
       "    }\n",
       "\n",
       "    .dataframe tbody tr th {\n",
       "        vertical-align: top;\n",
       "    }\n",
       "\n",
       "    .dataframe thead th {\n",
       "        text-align: right;\n",
       "    }\n",
       "</style>\n",
       "<table border=\"1\" class=\"dataframe\">\n",
       "  <thead>\n",
       "    <tr style=\"text-align: right;\">\n",
       "      <th></th>\n",
       "      <th>업소명</th>\n",
       "      <th>분류코드명</th>\n",
       "      <th>업소 주소</th>\n",
       "      <th>업소정보</th>\n",
       "      <th>자랑거리</th>\n",
       "      <th>추천수</th>\n",
       "      <th>시간정보</th>\n",
       "      <th>오픈시간</th>\n",
       "      <th>마감시간</th>\n",
       "      <th>배달</th>\n",
       "      <th>예약</th>\n",
       "      <th>가격</th>\n",
       "      <th>친절함</th>\n",
       "      <th>위생</th>\n",
       "      <th>지역</th>\n",
       "    </tr>\n",
       "  </thead>\n",
       "  <tbody>\n",
       "    <tr>\n",
       "      <th>0</th>\n",
       "      <td>아폴로헤어크리닉</td>\n",
       "      <td>이 미용업</td>\n",
       "      <td>서울특별시 중랑구 사가정로50길 67 (면목동)</td>\n",
       "      <td>영업시간 :09:00~21:00 좌석수 :5 휴무일 :매주 수요일 예약 :불가능 카...</td>\n",
       "      <td>면목시장내 위치 형편이 어려우신 분은 요금을 할인해주며 20년간 봉사활동을 하시는 ...</td>\n",
       "      <td>450</td>\n",
       "      <td>09:00~21:00</td>\n",
       "      <td>09:00</td>\n",
       "      <td>21:00</td>\n",
       "      <td>None</td>\n",
       "      <td>불가능</td>\n",
       "      <td>저렴함</td>\n",
       "      <td>보통</td>\n",
       "      <td>보통</td>\n",
       "      <td>중랑구</td>\n",
       "    </tr>\n",
       "    <tr>\n",
       "      <th>1</th>\n",
       "      <td>상록수미용실</td>\n",
       "      <td>이 미용업</td>\n",
       "      <td>서울특별시 중랑구 동일로99길 22 (면목동)</td>\n",
       "      <td>영업시간 : 09:30~21:00 좌석수 : 3 휴무일 : 매주 일요일 예약 :불가...</td>\n",
       "      <td>주 고객이 어르신들이라 가격을 저렴하게 책정하여 파마 14000원 등 파격적인 요금...</td>\n",
       "      <td>432</td>\n",
       "      <td>09:30~21:00</td>\n",
       "      <td>09:30</td>\n",
       "      <td>21:00</td>\n",
       "      <td>None</td>\n",
       "      <td>불가능</td>\n",
       "      <td>저렴함</td>\n",
       "      <td>좋음</td>\n",
       "      <td>보통</td>\n",
       "      <td>중랑구</td>\n",
       "    </tr>\n",
       "    <tr>\n",
       "      <th>2</th>\n",
       "      <td>열린미용실</td>\n",
       "      <td>이 미용업</td>\n",
       "      <td>서울특별시 관악구 난곡로40길 16 (신림동)</td>\n",
       "      <td>영업시간 : 오전 9시 ~ 오후 8시 휴무일 : 매주 일요일 예약 : 가능 카드 :...</td>\n",
       "      <td>▷관악구 평균가격보다 20%이상 저렴. ▷경로자 장애인 할인해 드림 ▷한달에 한번씩...</td>\n",
       "      <td>336</td>\n",
       "      <td>09:00~08:00</td>\n",
       "      <td>09:00</td>\n",
       "      <td>20:00</td>\n",
       "      <td>None</td>\n",
       "      <td>가능</td>\n",
       "      <td>저렴함</td>\n",
       "      <td>보통</td>\n",
       "      <td>보통</td>\n",
       "      <td>관악구</td>\n",
       "    </tr>\n",
       "    <tr>\n",
       "      <th>3</th>\n",
       "      <td>미림17분칼라</td>\n",
       "      <td>기타서비스업종</td>\n",
       "      <td>서울특별시 관악구 호암로26길 1 (신림동)</td>\n",
       "      <td>영업시간 :오전 9시 30분  ~ 오후 9시 30분 휴무일 : 매월 둘째 넷째주 일...</td>\n",
       "      <td>▷관악구 평균가격(인화료 -3*5cm) 보다 20% 저렴</td>\n",
       "      <td>318</td>\n",
       "      <td>09:00~09:30</td>\n",
       "      <td>09:00</td>\n",
       "      <td>21:30</td>\n",
       "      <td>None</td>\n",
       "      <td>None</td>\n",
       "      <td>저렴함</td>\n",
       "      <td>보통</td>\n",
       "      <td>보통</td>\n",
       "      <td>관악구</td>\n",
       "    </tr>\n",
       "    <tr>\n",
       "      <th>4</th>\n",
       "      <td>덕성이발관</td>\n",
       "      <td>이 미용업</td>\n",
       "      <td>서울특별시 관악구 장군봉2길 11 (봉천동)</td>\n",
       "      <td>영업시간 : 오전 7시 ~ 오후 9시 좌석수 : 4 휴무일 : 매주 화요일 주차 :...</td>\n",
       "      <td>▷관악구 평균가격보다 10%이상 저렴 ▷시설이 세련되지는 않았지만 동네 사랑방 같은...</td>\n",
       "      <td>264</td>\n",
       "      <td>07:00~09:00</td>\n",
       "      <td>07:00</td>\n",
       "      <td>21:00</td>\n",
       "      <td>None</td>\n",
       "      <td>가능</td>\n",
       "      <td>저렴함</td>\n",
       "      <td>보통</td>\n",
       "      <td>보통</td>\n",
       "      <td>관악구</td>\n",
       "    </tr>\n",
       "  </tbody>\n",
       "</table>\n",
       "</div>"
      ],
      "text/plain": [
       "        업소명    분류코드명                       업소 주소  \\\n",
       "0  아폴로헤어크리닉    이 미용업  서울특별시 중랑구 사가정로50길 67 (면목동)   \n",
       "1    상록수미용실    이 미용업   서울특별시 중랑구 동일로99길 22 (면목동)   \n",
       "2     열린미용실    이 미용업   서울특별시 관악구 난곡로40길 16 (신림동)   \n",
       "3   미림17분칼라  기타서비스업종    서울특별시 관악구 호암로26길 1 (신림동)   \n",
       "4     덕성이발관    이 미용업    서울특별시 관악구 장군봉2길 11 (봉천동)   \n",
       "\n",
       "                                                업소정보  \\\n",
       "0  영업시간 :09:00~21:00 좌석수 :5 휴무일 :매주 수요일 예약 :불가능 카...   \n",
       "1  영업시간 : 09:30~21:00 좌석수 : 3 휴무일 : 매주 일요일 예약 :불가...   \n",
       "2  영업시간 : 오전 9시 ~ 오후 8시 휴무일 : 매주 일요일 예약 : 가능 카드 :...   \n",
       "3  영업시간 :오전 9시 30분  ~ 오후 9시 30분 휴무일 : 매월 둘째 넷째주 일...   \n",
       "4  영업시간 : 오전 7시 ~ 오후 9시 좌석수 : 4 휴무일 : 매주 화요일 주차 :...   \n",
       "\n",
       "                                                자랑거리  추천수         시간정보   오픈시간  \\\n",
       "0  면목시장내 위치 형편이 어려우신 분은 요금을 할인해주며 20년간 봉사활동을 하시는 ...  450  09:00~21:00  09:00   \n",
       "1  주 고객이 어르신들이라 가격을 저렴하게 책정하여 파마 14000원 등 파격적인 요금...  432  09:30~21:00  09:30   \n",
       "2  ▷관악구 평균가격보다 20%이상 저렴. ▷경로자 장애인 할인해 드림 ▷한달에 한번씩...  336  09:00~08:00  09:00   \n",
       "3                    ▷관악구 평균가격(인화료 -3*5cm) 보다 20% 저렴  318  09:00~09:30  09:00   \n",
       "4  ▷관악구 평균가격보다 10%이상 저렴 ▷시설이 세련되지는 않았지만 동네 사랑방 같은...  264  07:00~09:00  07:00   \n",
       "\n",
       "    마감시간    배달    예약   가격 친절함  위생   지역  \n",
       "0  21:00  None   불가능  저렴함  보통  보통  중랑구  \n",
       "1  21:00  None   불가능  저렴함  좋음  보통  중랑구  \n",
       "2  20:00  None    가능  저렴함  보통  보통  관악구  \n",
       "3  21:30  None  None  저렴함  보통  보통  관악구  \n",
       "4  21:00  None    가능  저렴함  보통  보통  관악구  "
      ]
     },
     "execution_count": 725,
     "metadata": {},
     "output_type": "execute_result"
    }
   ],
   "source": [
    "df.head()"
   ]
  },
  {
   "attachments": {},
   "cell_type": "markdown",
   "metadata": {},
   "source": [
    "##  시각화"
   ]
  },
  {
   "cell_type": "code",
   "execution_count": 733,
   "metadata": {},
   "outputs": [
    {
     "data": {
      "image/png": "[encoded data removed]",
      "text/plain": [
       "<Figure size 864x432 with 1 Axes>"
      ]
     },
     "metadata": {
      "needs_background": "light"
     },
     "output_type": "display_data"
    }
   ],
   "source": [
    "sub_df = df.groupby(by=['분류코드명'],as_index=False)['업소명'].count().sort_values(['업소명'],ascending=False)\n",
    "plt.figure(figsize=(12,6))\n",
    "sns.barplot(data=sub_df,x='분류코드명',y='업소명').set(title='업소별 분포',ylabel='count')\n",
    "g=plt.xticks(rotation=-60)"
   ]
  },
  {
   "cell_type": "code",
   "execution_count": 718,
   "metadata": {},
   "outputs": [
    {
     "data": {
      "image/png": "[encoded data removed]",
      "text/plain": [
       "<Figure size 864x432 with 1 Axes>"
      ]
     },
     "metadata": {
      "needs_background": "light"
     },
     "output_type": "display_data"
    }
   ],
   "source": [
    "sub_df = df[df['오픈시간']!='None'].groupby(by=['오픈시간'],as_index=False)['업소명'].count().sort_values(['오픈시간'])\n",
    "plt.figure(figsize=(12,6))\n",
    "sns.barplot(data=sub_df,x='오픈시간',y='업소명').set(title='오픈시간 분포',ylabel='count')\n",
    "g=plt.xticks(rotation=-60)"
   ]
  },
  {
   "cell_type": "code",
   "execution_count": 719,
   "metadata": {},
   "outputs": [
    {
     "data": {
      "image/png": "[encoded data removed]",
      "text/plain": [
       "<Figure size 864x432 with 1 Axes>"
      ]
     },
     "metadata": {
      "needs_background": "light"
     },
     "output_type": "display_data"
    }
   ],
   "source": [
    "sub_df = df[df['마감시간']!='None'].groupby(by=['마감시간'],as_index=False)['업소명'].count().sort_values(['마감시간'])\n",
    "plt.figure(figsize=(12,6))\n",
    "sns.barplot(data=sub_df,x='마감시간',y='업소명').set(title='마감시간 분포',ylabel='count')\n",
    "g=plt.xticks(rotation=-60)"
   ]
  },
  {
   "cell_type": "code",
   "execution_count": 726,
   "metadata": {},
   "outputs": [
    {
     "data": {
      "image/png": "[encoded data removed]",
      "text/plain": [
       "<Figure size 864x432 with 1 Axes>"
      ]
     },
     "metadata": {
      "needs_background": "light"
     },
     "output_type": "display_data"
    }
   ],
   "source": [
    "sub_df = df[df['지역']!='None'].groupby(by=['지역'],as_index=False)['업소명'].count().sort_values(['업소명'],ascending=False)\n",
    "plt.figure(figsize=(12,6))\n",
    "sns.barplot(data=sub_df,x='지역',y='업소명').set(title='지역별 분포',ylabel='count')\n",
    "g=plt.xticks(rotation=-60)"
   ]
  },
  {
   "cell_type": "code",
   "execution_count": 728,
   "metadata": {},
   "outputs": [
    {
     "data": {
      "text/plain": [
       "[Text(0.5, 1.0, '배달별 분포'), Text(0, 0.5, 'count')]"
      ]
     },
     "execution_count": 728,
     "metadata": {},
     "output_type": "execute_result"
    },
    {
     "data": {
      "image/png": "[encoded data removed]",
      "text/plain": [
       "<Figure size 864x432 with 1 Axes>"
      ]
     },
     "metadata": {
      "needs_background": "light"
     },
     "output_type": "display_data"
    }
   ],
   "source": [
    "sub_df = df[df['배달']!='None'].groupby(by=['배달'],as_index=False)['업소명'].count().sort_values(['업소명'],ascending=False)\n",
    "plt.figure(figsize=(12,6))\n",
    "sns.barplot(data=sub_df,x='배달',y='업소명').set(title='배달별 분포',ylabel='count')"
   ]
  },
  {
   "cell_type": "code",
   "execution_count": 729,
   "metadata": {},
   "outputs": [
    {
     "data": {
      "text/plain": [
       "[Text(0.5, 1.0, '예약별 분포'), Text(0, 0.5, 'count')]"
      ]
     },
     "execution_count": 729,
     "metadata": {},
     "output_type": "execute_result"
    },
    {
     "data": {
      "image/png": "[encoded data removed]",
      "text/plain": [
       "<Figure size 864x432 with 1 Axes>"
      ]
     },
     "metadata": {
      "needs_background": "light"
     },
     "output_type": "display_data"
    }
   ],
   "source": [
    "sub_df = df[df['예약']!='None'].groupby(by=['예약'],as_index=False)['업소명'].count().sort_values(['업소명'],ascending=False)\n",
    "plt.figure(figsize=(12,6))\n",
    "sns.barplot(data=sub_df,x='예약',y='업소명').set(title='예약별 분포',ylabel='count')"
   ]
  },
  {
   "cell_type": "code",
   "execution_count": 730,
   "metadata": {},
   "outputs": [
    {
     "data": {
      "text/plain": [
       "[Text(0.5, 1.0, '가격별 분포'), Text(0, 0.5, 'count')]"
      ]
     },
     "execution_count": 730,
     "metadata": {},
     "output_type": "execute_result"
    },
    {
     "data": {
      "image/png": "[encoded data removed]",
      "text/plain": [
       "<Figure size 864x432 with 1 Axes>"
      ]
     },
     "metadata": {
      "needs_background": "light"
     },
     "output_type": "display_data"
    }
   ],
   "source": [
    "sub_df = df[df['가격']!='None'].groupby(by=['가격'],as_index=False)['업소명'].count().sort_values(['업소명'],ascending=False)\n",
    "plt.figure(figsize=(12,6))\n",
    "sns.barplot(data=sub_df,x='가격',y='업소명').set(title='가격별 분포',ylabel='count')"
   ]
  },
  {
   "cell_type": "code",
   "execution_count": 731,
   "metadata": {},
   "outputs": [
    {
     "data": {
      "text/plain": [
       "[Text(0.5, 1.0, '친절함별 분포'), Text(0, 0.5, 'count')]"
      ]
     },
     "execution_count": 731,
     "metadata": {},
     "output_type": "execute_result"
    },
    {
     "data": {
      "image/png": "[encoded data removed]",
      "text/plain": [
       "<Figure size 864x432 with 1 Axes>"
      ]
     },
     "metadata": {
      "needs_background": "light"
     },
     "output_type": "display_data"
    }
   ],
   "source": [
    "sub_df = df[df['친절함']!='None'].groupby(by=['친절함'],as_index=False)['업소명'].count().sort_values(['업소명'],ascending=False)\n",
    "plt.figure(figsize=(12,6))\n",
    "sns.barplot(data=sub_df,x='친절함',y='업소명').set(title='친절함별 분포',ylabel='count')"
   ]
  },
  {
   "cell_type": "code",
   "execution_count": 732,
   "metadata": {},
   "outputs": [
    {
     "data": {
      "text/plain": [
       "[Text(0.5, 1.0, '위생별 분포'), Text(0, 0.5, 'count')]"
      ]
     },
     "execution_count": 732,
     "metadata": {},
     "output_type": "execute_result"
    },
    {
     "data": {
      "image/png": "[encoded data removed]",
      "text/plain": [
       "<Figure size 864x432 with 1 Axes>"
      ]
     },
     "metadata": {
      "needs_background": "light"
     },
     "output_type": "display_data"
    }
   ],
   "source": [
    "sub_df = df[df['위생']!='None'].groupby(by=['위생'],as_index=False)['업소명'].count().sort_values(['업소명'],ascending=False)\n",
    "plt.figure(figsize=(12,6))\n",
    "sns.barplot(data=sub_df,x='위생',y='업소명').set(title='위생별 분포',ylabel='count')"
   ]
  },
  {
   "attachments": {},
   "cell_type": "markdown",
   "metadata": {},
   "source": [
    "## 분석 결과\n",
    "\n",
    "**업종,오픈시간,마감시간,지역 분포는?**\n",
    "\n",
    "- 대부분 외식업과 이 미용업으로 구성되어 있다.\n",
    "\n",
    "- 8시-11시 사이에 주로 오픈을 한다.\n",
    "\n",
    "- 20시-22시 사이에 주로 마감을 한다.\n",
    "\n",
    "- 강남구,동작구가 가장 높고 구로구,서대문구,관악구가 그 다음으로 높다.\n",
    "\n",
    "**배달,예약 가능 여부?**\n",
    "\n",
    "- 대부분 배달이 불가능하지만, 예약은 대부분 가능하다.\n",
    "\n",
    "**가격,친절함,위생 비율은?**\n",
    "\n",
    "- 절반 가까운 매장이 저렴함을 강점으로 가지고 있지만 위생과 친절함이 강점인 매장 비율은 높지 않다."
   ]
  },
  {
   "cell_type": "code",
   "execution_count": null,
   "metadata": {},
   "outputs": [],
   "source": []
  }
 ],
 "metadata": {
  "kernelspec": {
   "display_name": "Python 3",
   "language": "python",
   "name": "python3"
  },
  "language_info": {
   "codemirror_mode": {
    "name": "ipython",
    "version": 3
   },
   "file_extension": ".py",
   "mimetype": "text/x-python",
   "name": "python",
   "nbconvert_exporter": "python",
   "pygments_lexer": "ipython3",
   "version": "3.8.6"
  },
  "orig_nbformat": 4,
  "vscode": {
   "interpreter": {
    "hash": "4410f3b2d65baa5768f7572e00bd3f92c8cde4189408977fd2f0d4d8fecfc7c1"
   }
  }
 },
 "nbformat": 4,
 "nbformat_minor": 2
}
